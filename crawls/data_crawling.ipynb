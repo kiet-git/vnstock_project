{
 "cells": [
  {
   "cell_type": "markdown",
   "id": "e1d873ae",
   "metadata": {},
   "source": [
    "# Data Crawling\n",
    "## Install and import packages"
   ]
  },
  {
   "cell_type": "code",
   "execution_count": 517,
   "id": "b982d6d8",
   "metadata": {},
   "outputs": [],
   "source": [
    "#!pip install vnstock pandas requests bs4"
   ]
  },
  {
   "cell_type": "code",
   "execution_count": 1,
   "id": "07beda7b",
   "metadata": {},
   "outputs": [],
   "source": [
    "from vnstock import *\n",
    "from datetime import datetime\n",
    "import pandas as pd\n",
    "from requests.exceptions import ConnectTimeout\n",
    "import time\n",
    "import re\n",
    "import logging\n",
    "\n",
    "logger = logging.getLogger('server_logger')\n",
    "logger.setLevel(logging.ERROR)\n",
    "logger.setLevel(logging.INFO)\n",
    "\n",
    "for handler in logger.handlers:\n",
    "    print(handler)\n",
    "    logger.removeHandler(handler)\n",
    "\n",
    "if not len(logger.handlers) > 0:\n",
    "    file_handler = logging.FileHandler('data/logs.log')\n",
    "\n",
    "    formatter = logging.Formatter('%(asctime)s - %(levelname)s - %(message)s')\n",
    "    file_handler.setFormatter(formatter)\n",
    "    logger.addHandler(file_handler)"
   ]
  },
  {
   "cell_type": "markdown",
   "id": "65818b71",
   "metadata": {},
   "source": [
    "## Crawl data\n",
    "\n",
    "Data to be crawled:\n",
    "- Daily\n",
    "    - Công ty (Companies):\n",
    "    \n",
    "        - Danh sách công ty (Company listing)\n",
    "        - Mức biến động giá cổ phiếu (Ticker price volatility)\n",
    "        - Thông tin giao dịch nội bộ (Company insider deals)\n",
    "        - Thông tin sự kiện quyền (Company events)\n",
    "        - Tin tức công ty (Company news)\n",
    "        \n",
    "        - Giá cổ phiếu (Stock history)\n",
    "        - Dữ liệu khớp lệnh trong ngày giao dịch (Stock intraday)\n",
    "        - Định giá cổ phiếu (Stock evaluation)\n",
    "        - Đánh giá cổ phiếu (Stock rating)\n",
    "    - Quỹ (Funds):\n",
    "        - Danh sách quỹ (Funds listing)\n",
    "        - Các mã quỹ nắm giữ (Top holding list details)\n",
    "        - Ngành mà quỹ đang đầu tư (Industry holding list details)\n",
    "        - Báo cáo NAV (Nav report)\n",
    "        \n",
    "        - Tỉ trọng tài sản nắm giữ (Asset holding list)\n",
    "        \n",
    "- Quarterly:\n",
    "    - Thông tin tổng quan (Company overview)\n",
    "    - Hồ sơ công ty (Company profile)\n",
    "    - Danh sách cổ đông (Company large shareholders)\n",
    "    - Các chỉ số tài chính cơ bản (Company fundamental ratio)\n",
    "    - Danh sách công ty con, công ty liên kết (Company subsidiaries listing)\n",
    "    - Ban lãnh đạo công ty (Company officers)\n",
    "    - Chỉ số tài chính cơ bản (Financial ratio)\n",
    "\n",
    "    - Báo cáo kinh doanh (Income statement)\n",
    "    - Bảng cân đối kế toán (Balance sheet)\n",
    "    - Báo cáo lưu chuyển tiền tệ (Cash flow)"
   ]
  },
  {
   "cell_type": "markdown",
   "id": "01edf7cc",
   "metadata": {},
   "source": [
    "## Daily"
   ]
  },
  {
   "cell_type": "markdown",
   "id": "97fe7958",
   "metadata": {},
   "source": [
    "### Companies"
   ]
  },
  {
   "cell_type": "markdown",
   "id": "6d1ae822",
   "metadata": {},
   "source": [
    "#### Danh sách công ty (Company listing)"
   ]
  },
  {
   "cell_type": "code",
   "execution_count": 519,
   "id": "9a9bb7e7",
   "metadata": {},
   "outputs": [],
   "source": [
    "def capture_company_listing():\n",
    "    try:\n",
    "        df = listing_companies(live=True)\n",
    "    except Exception as e:\n",
    "        error_message = f\"Error capturing company listing data: {e}\"\n",
    "        logger.error(error_message)\n",
    "        return pd.DataFrame()\n",
    "    df = df.apply(pd.to_numeric, errors='ignore')\n",
    "    return df"
   ]
  },
  {
   "cell_type": "markdown",
   "id": "7bfd4a37",
   "metadata": {},
   "source": [
    "#### Mức biến động giá cổ phiếu (Ticker price volatility)"
   ]
  },
  {
   "cell_type": "code",
   "execution_count": 520,
   "id": "6733aac2",
   "metadata": {},
   "outputs": [],
   "source": [
    "def capture_ticker_volatility(*args):\n",
    "    symbol = args[0]\n",
    "    try:\n",
    "        df = ticker_price_volatility(symbol=symbol)\n",
    "    except Exception as e:\n",
    "        error_message = f\"Error capturing ticker price volatility data for symbol {symbol}: {e}\"\n",
    "        logger.error(error_message)\n",
    "        return pd.DataFrame()\n",
    "    df = df.apply(pd.to_numeric, errors='ignore')\n",
    "    return df"
   ]
  },
  {
   "cell_type": "markdown",
   "id": "50cf66cc",
   "metadata": {},
   "source": [
    "#### Thông tin giao dịch nội bộ (Company insider deals)"
   ]
  },
  {
   "cell_type": "code",
   "execution_count": 521,
   "id": "ee69fb8e",
   "metadata": {},
   "outputs": [],
   "source": [
    "def capture_insider_deals(*args, page_size=30):\n",
    "    symbol = args[0]\n",
    "    capture_date = args[1]\n",
    "    date_string = capture_date.strftime(\"%Y-%m-%d\")\n",
    "\n",
    "    try:\n",
    "        df = company_insider_deals (\n",
    "            symbol=symbol, \n",
    "            page_size=page_size, \n",
    "            page=0)\n",
    "    except Exception as e:\n",
    "        error_message = f\"Error capturing company insider deals data for symbol {symbol}: {e}\"\n",
    "        logger.error(error_message)\n",
    "        return pd.DataFrame()\n",
    "    df = df.apply(pd.to_numeric, errors='ignore')\n",
    "    return df[df['dealAnnounceDate'] == date_string]"
   ]
  },
  {
   "cell_type": "markdown",
   "id": "fd87f06a",
   "metadata": {},
   "source": [
    "#### Thông tin sự kiện quyền (Company events)"
   ]
  },
  {
   "cell_type": "code",
   "execution_count": 522,
   "id": "e507fe33",
   "metadata": {},
   "outputs": [],
   "source": [
    "def capture_company_event(*args, page_size=10):\n",
    "    symbol = args[0]\n",
    "    capture_date = args[1]\n",
    "    try:\n",
    "        df = company_events(\n",
    "            symbol=symbol, \n",
    "            page_size=page_size, \n",
    "            page=0)\n",
    "\n",
    "    except Exception as e:\n",
    "        error_message = f\"Error capturing company events data for symbol {symbol}: {e}\"\n",
    "        logger.error(error_message)\n",
    "        return pd.DataFrame()\n",
    "    \n",
    "    df = df.apply(pd.to_numeric, errors='ignore')\n",
    "    df[\"exerDateFormatted\"] = pd.to_datetime(df['exerDate'], format=\"%Y-%m-%d %H:%M:%S\")\n",
    "    return df[df['exerDateFormatted'] == capture_date]"
   ]
  },
  {
   "cell_type": "markdown",
   "id": "e81496b6",
   "metadata": {},
   "source": [
    "#### Tin tức công ty (Company news)"
   ]
  },
  {
   "cell_type": "code",
   "execution_count": 523,
   "id": "ad582068",
   "metadata": {},
   "outputs": [],
   "source": [
    "def capture_company_news(*args, page_size=10):\n",
    "    symbol = args[0]\n",
    "    capture_date = args[1]\n",
    "\n",
    "    try:\n",
    "        df = company_news(\n",
    "            symbol=symbol, \n",
    "            page_size=page_size, \n",
    "            page=0)\n",
    "\n",
    "    except Exception as e:\n",
    "        error_message = f\"Error capturing company news for symbol {symbol}: {e}\"\n",
    "        logger.error(error_message)\n",
    "        return pd.DataFrame()\n",
    "    \n",
    "    df = df.apply(pd.to_numeric, errors='ignore')\n",
    "    df[\"publishDateFormatted\"] = pd.to_datetime(df['publishDate'], format=\"%Y-%m-%d %H:%M:%S\")\n",
    "    return df[df['publishDateFormatted'] == capture_date]"
   ]
  },
  {
   "cell_type": "markdown",
   "id": "ede58ff8",
   "metadata": {},
   "source": [
    "#### Giá cổ phiếu (Stock history) "
   ]
  },
  {
   "cell_type": "code",
   "execution_count": 524,
   "id": "e1d849b6",
   "metadata": {},
   "outputs": [],
   "source": [
    "def capture_stock_history(*args):\n",
    "    symbol = args[0]\n",
    "    capture_date = args[1]\n",
    "    date_string = capture_date.strftime(\"%Y-%m-%d\")\n",
    "\n",
    "    try:\n",
    "        df = stock_historical_data(\n",
    "            symbol=symbol,\n",
    "            start_date=date_string,\n",
    "            end_date=date_string,\n",
    "            resolution='1D',\n",
    "            type=\"stock\",\n",
    "            beautify=True,\n",
    "            decor=False,\n",
    "            source='DNSE'\n",
    "        )\n",
    "    except Exception as e:\n",
    "        error_message = f\"Error capturing historical data for symbol {symbol}: {e}\"\n",
    "        logger.error(error_message)\n",
    "        return pd.DataFrame()\n",
    "    \n",
    "    df = df.apply(pd.to_numeric, errors='ignore')\n",
    "    return df\n"
   ]
  },
  {
   "cell_type": "markdown",
   "id": "72a5b8f3",
   "metadata": {},
   "source": [
    "#### Dữ liệu khớp lệnh trong ngày giao dịch (Stock intraday)\n"
   ]
  },
  {
   "cell_type": "code",
   "execution_count": 525,
   "id": "870e0cf9",
   "metadata": {},
   "outputs": [],
   "source": [
    "def capture_stock_intraday(*args, page_size=1000):\n",
    "    symbol = args[0]\n",
    "    \n",
    "    try:\n",
    "        df = stock_intraday_data(\n",
    "            symbol=symbol,                 \n",
    "            page_size=page_size, \n",
    "            investor_segment=True)\n",
    "    except Exception as e:\n",
    "        error_message = f\"Error capturing stock intraday data for symbol {symbol}: {e}\"\n",
    "        logger.error(error_message)\n",
    "        return pd.DataFrame()\n",
    "    df = df.apply(pd.to_numeric, errors='ignore')\n",
    "    return df"
   ]
  },
  {
   "cell_type": "markdown",
   "id": "2f0dea38",
   "metadata": {},
   "source": [
    "#### Định giá cổ phiếu (Stock evaluation)"
   ]
  },
  {
   "cell_type": "code",
   "execution_count": 526,
   "id": "acb084f1",
   "metadata": {},
   "outputs": [],
   "source": [
    "def capture_stock_evaluation(*args):\n",
    "    symbol = args[0]\n",
    "    capture_date = args[1]\n",
    "    date_string = capture_date.strftime(\"%Y-%m-%d\")\n",
    "\n",
    "    try:\n",
    "        df = stock_evaluation(\n",
    "            symbol=symbol,\n",
    "            period=1, \n",
    "            time_window='D')\n",
    "    except Exception as e:\n",
    "        error_message = f\"Error capturing evaluation data for symbol {symbol}: {e}\"\n",
    "        logger.error(error_message)\n",
    "        return pd.DataFrame()\n",
    "    df = df.apply(pd.to_numeric, errors='ignore')\n",
    "    return df[df['fromDate'] == date_string]"
   ]
  },
  {
   "cell_type": "markdown",
   "id": "89a1fb97",
   "metadata": {},
   "source": [
    "#### Đánh giá cổ phiếu (Stock rating)\n"
   ]
  },
  {
   "cell_type": "code",
   "execution_count": 527,
   "id": "70e1f037",
   "metadata": {},
   "outputs": [],
   "source": [
    "def capture_stock_rating(*args):\n",
    "    symbol = args[0]\n",
    "\n",
    "    try:\n",
    "        df_general = general_rating(symbol)\n",
    "        df_biz_model = biz_model_rating(symbol)\n",
    "        df_biz_operation = biz_operation_rating(symbol)\n",
    "        df_financial_health = financial_health_rating(symbol)\n",
    "        df_valuation = valuation_rating(symbol)\n",
    "        df_industry_health = industry_financial_health(symbol)\n",
    "\n",
    "        dfs = [df_general, df_biz_model, df_biz_operation, df_financial_health, df_valuation, df_industry_health]\n",
    "\n",
    "        df_merged = pd.concat([df.set_index('ticker') for df in dfs], axis=1, join='outer').reset_index()\n",
    "\n",
    "        df_merged = df_merged.loc[:,~df_merged.columns.duplicated()]\n",
    "\n",
    "    except Exception as e:\n",
    "        error_message = f\"Error capturing stock rating data for symbol {symbol}: {e}\"\n",
    "        logger.error(error_message)\n",
    "        return pd.DataFrame()\n",
    "    df_merged = df_merged.apply(pd.to_numeric, errors='ignore')\n",
    "    return df_merged"
   ]
  },
  {
   "cell_type": "markdown",
   "id": "abb75270",
   "metadata": {},
   "source": [
    "#### Crawl all daily companies data and store"
   ]
  },
  {
   "cell_type": "code",
   "execution_count": 528,
   "id": "67d110a6",
   "metadata": {},
   "outputs": [],
   "source": [
    "def retry_request(func, *args, max_retries=3, retry_delay=20):\n",
    "    for _ in range(max_retries):\n",
    "        try:\n",
    "            return func(*args)\n",
    "        except ConnectTimeout as e:\n",
    "            logger.error(f\"Connection timeout: {e}\")\n",
    "            logger.error(f\"Retrying in {retry_delay} seconds...\")\n",
    "            print(f\"Retrying in {retry_delay} seconds...\")\n",
    "            time.sleep(retry_delay)\n",
    "    logger.error(\"Max retries exceeded. Skipping.\")\n",
    "    print(\"Max retries exceeded. Skipping.\")\n",
    "    return None\n",
    "\n",
    "def process_symbols(symbols, capture_function, *args):\n",
    "    data_dict = {}\n",
    "\n",
    "    for i, symbol in enumerate(symbols, start=1):\n",
    "        data = retry_request(capture_function, symbol, *args)\n",
    "        if not data.empty:\n",
    "            data.columns = [convert_column_name(column) for column in data.columns]\n",
    "            data_dict[symbol] = data\n",
    "        print(f\"Processed {i}/{len(symbols)} symbols of {capture_function.__name__}\")\n",
    "\n",
    "    return data_dict\n",
    "\n",
    "def concat_if_not_empty(data_dict):\n",
    "    df_list = [df.loc[:,~df.columns.duplicated()].reset_index(drop=True) for df in data_dict.values() if not df.empty]\n",
    "    return pd.concat(df_list, keys=data_dict.keys(), names=['Symbol']) if df_list else None\n",
    "\n",
    "def get_number_of_rows(data_dict):\n",
    "    return len(data_dict) if data_dict is not None else 0\n",
    "\n",
    "def convert_column_name(column_name):\n",
    "    spaced_name = re.sub(r'(?<=[a-z])([A-Z])', r' \\1', column_name)\n",
    "    title_case_name = spaced_name.title().replace(\"_\", \" \")\n",
    "    return title_case_name  "
   ]
  },
  {
   "cell_type": "code",
   "execution_count": 529,
   "id": "ecbb3fa1",
   "metadata": {},
   "outputs": [],
   "source": [
    "def export_data_to_excel(data_dict, listing_df, list_name, file_path, capture_mode):\n",
    "    excel = pd.ExcelWriter(file_path, mode='a', if_sheet_exists='replace') if os.path.exists(file_path) else pd.ExcelWriter(file_path, mode='w')\n",
    "\n",
    "    with excel as writer:\n",
    "        summary_df = pd.DataFrame({\n",
    "            'Sheet Name': [convert_column_name(sheet_name) for sheet_name in data_dict.keys()],\n",
    "            'Number of Rows': [get_number_of_rows(data) for data in data_dict.values()]\n",
    "        })\n",
    "\n",
    "        company_listing_summary = pd.DataFrame({\n",
    "            'Sheet Name': [f'{list_name} Listing'],\n",
    "            'Number of Rows': [get_number_of_rows(listing_df)]\n",
    "        })\n",
    "        summary_df = pd.concat([company_listing_summary, summary_df], ignore_index=True)\n",
    "\n",
    "        summary_df.to_excel(writer, sheet_name=f'{capture_mode} {list_name} Info Summary', index=False)\n",
    "\n",
    "        listing_df.columns = [convert_column_name(column) for column in listing_df.columns]\n",
    "        listing_df.to_excel(writer, sheet_name=f'{list_name} Listing', index=False)\n",
    "        \n",
    "\n",
    "        for function_name, data in data_dict.items():\n",
    "            df = concat_if_not_empty(data)\n",
    "            if df is not None:\n",
    "                if 'Symbol' not in df.columns:\n",
    "                    df = df.reset_index() \n",
    "                    df = df.drop('level_1', axis=1)\n",
    "                df = df.set_index('Symbol')\n",
    "                if 'Ticker' in df.columns:\n",
    "                    df = df.drop('Ticker', axis=1)\n",
    "\n",
    "                df.to_excel(writer, sheet_name=convert_column_name(function_name))"
   ]
  },
  {
   "cell_type": "code",
   "execution_count": 530,
   "id": "b14e02fa",
   "metadata": {},
   "outputs": [],
   "source": [
    "def capture_all_stock_data(capture_date, file_path, limit=None):\n",
    "    logger.info(\"Capture all daily company data started.\")\n",
    "    company_listing_df = capture_company_listing()\n",
    "    if limit is not None:\n",
    "        company_symbols = company_listing_df[\"ticker\"][:limit]\n",
    "    else:\n",
    "        company_symbols = company_listing_df[\"ticker\"]\n",
    "\n",
    "    functions_to_capture = [\n",
    "        capture_ticker_volatility,\n",
    "        capture_insider_deals,\n",
    "        capture_company_event,\n",
    "        capture_company_news,\n",
    "        capture_stock_history,\n",
    "        capture_stock_intraday,\n",
    "        capture_stock_evaluation,\n",
    "        capture_stock_rating,\n",
    "    ]\n",
    "\n",
    "    data_dict = {f.__name__: process_symbols(company_symbols, f, capture_date) for f in functions_to_capture}\n",
    "\n",
    "    export_data_to_excel(data_dict, company_listing_df, 'Company', file_path, \"Daily\")\n",
    "    \n",
    "    logger.info(\"Capture all daily company data ended.\")\n",
    "    return company_listing_df, *data_dict.values()"
   ]
  },
  {
   "cell_type": "markdown",
   "id": "cf6a5653",
   "metadata": {},
   "source": [
    "### Funds"
   ]
  },
  {
   "cell_type": "markdown",
   "id": "c83722fc",
   "metadata": {},
   "source": [
    "#### Danh sách quỹ (Funds listing)"
   ]
  },
  {
   "cell_type": "code",
   "execution_count": 531,
   "id": "13b4b130",
   "metadata": {},
   "outputs": [],
   "source": [
    "def capture_fund_listing():\n",
    "    try:\n",
    "        df = funds_listing(\n",
    "            lang='en', \n",
    "            fund_type=\"\",\n",
    "            mode=\"full\",\n",
    "            decor=False\n",
    "        )\n",
    "    except Exception as e:\n",
    "        error_message = f\"Error capturing fund listing data: {e}\"\n",
    "        logger.error(error_message)\n",
    "        return pd.DataFrame()\n",
    "    df = df.apply(pd.to_numeric, errors='ignore')\n",
    "    return df"
   ]
  },
  {
   "cell_type": "markdown",
   "id": "44459f06",
   "metadata": {},
   "source": [
    "#### Fund Details\n",
    "- Các mã quỹ nắm giữ (Top holding list details)\n",
    "- Ngành mà quỹ đang đầu tư (Industry holding list details)\n",
    "- Báo cáo NAV (Nav report)\n",
    "- Tỉ trọng tài sản nắm giữ (Asset holding list)"
   ]
  },
  {
   "cell_type": "code",
   "execution_count": 532,
   "id": "0fe62038",
   "metadata": {},
   "outputs": [],
   "source": [
    "FUND_DETAILS_CATE = [\"top_holding_list\", \"industry_holding_list\", \"nav_report\", \"asset_holding_list\"]\n",
    "def capture_fund_details(*args):\n",
    "    symbol = args[0]\n",
    "    type = args[1]\n",
    "    if len(args) == 3:\n",
    "        capture_date = args[2]\n",
    "        date_string = capture_date.strftime(\"%Y-%m-%d\")\n",
    "\n",
    "    try:\n",
    "        if type not in FUND_DETAILS_CATE:\n",
    "            raise ValueError(f\"Invalid fund details type '{type}'. Type must be one of {FUND_DETAILS_CATE}\")\n",
    "        \n",
    "        df = fund_details(\n",
    "            symbol=symbol, \n",
    "            type=type\n",
    "        )\n",
    "    except Exception as e:\n",
    "        error_message = f\"Error capturing fund details data of {type} for {symbol}: {e}\"\n",
    "        logger.error(error_message)\n",
    "        return pd.DataFrame()\n",
    "\n",
    "    if 'Ngày' in df.columns:\n",
    "        return df[df['Ngày'] == date_string]\n",
    "\n",
    "    df = df.apply(pd.to_numeric, errors='ignore')\n",
    "    return df"
   ]
  },
  {
   "cell_type": "markdown",
   "id": "960b6eb5",
   "metadata": {},
   "source": [
    "#### Crawl all funds daily data and store"
   ]
  },
  {
   "cell_type": "code",
   "execution_count": 533,
   "id": "cf8df49e",
   "metadata": {},
   "outputs": [],
   "source": [
    "def capture_all_fund_data(capture_date, file_path, limit=None):\n",
    "    logger.info(\"Capture all daily fund data started.\")\n",
    "    fund_listing_df = capture_fund_listing()\n",
    "    if limit is not None:\n",
    "        fund_symbols = fund_listing_df[\"shortName\"][:limit]\n",
    "    else:\n",
    "        fund_symbols = fund_listing_df[\"shortName\"]\n",
    "\n",
    "    data_dict = {s: process_symbols(fund_symbols, capture_fund_details, s, capture_date) for s in FUND_DETAILS_CATE}\n",
    "\n",
    "    export_data_to_excel(data_dict, fund_listing_df, 'Fund', file_path, \"Daily\")\n",
    "    \n",
    "    logger.info(\"Capture all daily fund data ended.\")\n",
    "    return fund_listing_df, *data_dict.values() \n",
    "    "
   ]
  },
  {
   "cell_type": "markdown",
   "id": "4ebdf4f0",
   "metadata": {},
   "source": [
    "#### Crawl all daily data and store"
   ]
  },
  {
   "cell_type": "code",
   "execution_count": 534,
   "id": "792973c4",
   "metadata": {},
   "outputs": [],
   "source": [
    "def capture_all_daily(capture_date, limit=None):\n",
    "    logger.info(\"Capture all daily data started.\")\n",
    "    date_string = capture_date.strftime(\"%d-%m-%Y\")\n",
    "    file_path = f'data/outputs/output_daily_{date_string}.xlsx'\n",
    "\n",
    "    if os.path.exists(file_path):\n",
    "        os.remove(file_path)\n",
    "\n",
    "    all_stock_data = capture_all_stock_data(capture_date, file_path, limit)\n",
    "    all_fund_data = capture_all_fund_data(capture_date, file_path, limit)\n",
    "    \n",
    "    logger.info(\"Capture all daily data ended.\")\n",
    "    return all_stock_data, all_fund_data"
   ]
  },
  {
   "cell_type": "markdown",
   "id": "1f64e12b",
   "metadata": {},
   "source": [
    "## Quarterly"
   ]
  },
  {
   "cell_type": "markdown",
   "id": "1d5c3cc8",
   "metadata": {},
   "source": [
    "### Thông tin tổng quan (Company overview)"
   ]
  },
  {
   "cell_type": "code",
   "execution_count": 535,
   "id": "b464e117",
   "metadata": {},
   "outputs": [],
   "source": [
    "def capture_company_overview(*args):\n",
    "    symbol = args[0]\n",
    "\n",
    "    try:\n",
    "        df = company_overview(symbol)\n",
    "    except Exception as e:\n",
    "        error_message = f\"Error capturing company overview for symbol {symbol}: {e}\"\n",
    "        logger.error(error_message)\n",
    "        return pd.DataFrame()\n",
    "\n",
    "    df = df.apply(pd.to_numeric, errors='ignore')\n",
    "    return df"
   ]
  },
  {
   "cell_type": "markdown",
   "id": "12d645c0",
   "metadata": {},
   "source": [
    "### Hồ sơ công ty (Company profile)"
   ]
  },
  {
   "cell_type": "code",
   "execution_count": 536,
   "id": "39e3f12a",
   "metadata": {},
   "outputs": [],
   "source": [
    "def capture_company_profile(*args):\n",
    "    symbol = args[0]\n",
    "\n",
    "    try:\n",
    "        df = company_profile(symbol)\n",
    "    except Exception as e:\n",
    "        error_message = f\"Error capturing company profile for symbol {symbol}: {e}\"\n",
    "        logger.error(error_message)\n",
    "        return pd.DataFrame()\n",
    "    \n",
    "    df = df.apply(pd.to_numeric, errors='ignore')\n",
    "    return df"
   ]
  },
  {
   "cell_type": "markdown",
   "id": "b2b4e7e6",
   "metadata": {},
   "source": [
    "### Danh sách cổ đông (Company large shareholders)"
   ]
  },
  {
   "cell_type": "code",
   "execution_count": 537,
   "id": "71cece1f",
   "metadata": {},
   "outputs": [],
   "source": [
    "def capture_company_shareholders(*args):\n",
    "    symbol = args[0]\n",
    "\n",
    "    try:\n",
    "        df = company_large_shareholders(symbol)\n",
    "    except Exception as e:\n",
    "        error_message = f\"Error capturing company large shareholders for symbol {symbol}: {e}\"\n",
    "        logger.error(error_message)\n",
    "        return pd.DataFrame()\n",
    "\n",
    "    df = df.apply(pd.to_numeric, errors='ignore')\n",
    "    return df"
   ]
  },
  {
   "cell_type": "markdown",
   "id": "d6b53d78",
   "metadata": {},
   "source": [
    "### Các chỉ số tài chính cơ bản (Company fundamental ratio)"
   ]
  },
  {
   "cell_type": "code",
   "execution_count": 538,
   "id": "5741b07d",
   "metadata": {},
   "outputs": [],
   "source": [
    "def capture_fundamental_ratio(*args, mode='', missing_pct=0.8):\n",
    "    symbol = args[0]\n",
    "\n",
    "    try:\n",
    "        df = company_fundamental_ratio(\n",
    "            symbol=symbol, \n",
    "            mode='', \n",
    "            missing_pct=missing_pct\n",
    "        )\n",
    "    except Exception as e:\n",
    "        error_message = f\"Error capturing company fundamental ratio for symbol {symbol}: {e}\"\n",
    "        logger.error(error_message)\n",
    "        return pd.DataFrame()\n",
    "\n",
    "    df = df.apply(pd.to_numeric, errors='ignore')\n",
    "    return df"
   ]
  },
  {
   "cell_type": "markdown",
   "id": "d86475f6",
   "metadata": {},
   "source": [
    "### Danh sách công ty con, công ty liên kết (Company subsidiaries listing)"
   ]
  },
  {
   "cell_type": "code",
   "execution_count": 539,
   "id": "4c47ccba",
   "metadata": {},
   "outputs": [],
   "source": [
    "def capture_subsidiaries_listing(*args, page_size=100):\n",
    "    symbol = args[0]\n",
    "\n",
    "    try:\n",
    "        df = company_subsidiaries_listing(\n",
    "            symbol=symbol, \n",
    "            page_size=page_size\n",
    "        )\n",
    "\n",
    "    except Exception as e:\n",
    "        error_message = f\"Error capturing company subsidiaries listing for symbol {symbol}: {e}\"\n",
    "        logger.error(error_message)\n",
    "        return pd.DataFrame()\n",
    "\n",
    "    df = df.apply(pd.to_numeric, errors='ignore')\n",
    "    return df"
   ]
  },
  {
   "cell_type": "markdown",
   "id": "f6d1f55f",
   "metadata": {},
   "source": [
    "### Ban lãnh đạo công ty (Company officers)\n"
   ]
  },
  {
   "cell_type": "code",
   "execution_count": 540,
   "id": "ab495b0b",
   "metadata": {},
   "outputs": [],
   "source": [
    "def capture_company_officers(*args, page_size=20):\n",
    "    symbol = args[0]\n",
    "\n",
    "    try:\n",
    "        df = company_officers(\n",
    "            symbol=symbol, \n",
    "            page_size=page_size, \n",
    "            page=0\n",
    "        )\n",
    "\n",
    "    except Exception as e:\n",
    "        error_message = f\"Error capturing company officers (BOD) for symbol {symbol}: {e}\"\n",
    "        logger.error(error_message)\n",
    "        return pd.DataFrame()\n",
    "\n",
    "    df = df.apply(pd.to_numeric, errors='ignore')\n",
    "    return df"
   ]
  },
  {
   "cell_type": "markdown",
   "id": "6e6cb1d7",
   "metadata": {},
   "source": [
    "### Chỉ số tài chính cơ bản (Financial ratio)"
   ]
  },
  {
   "cell_type": "code",
   "execution_count": 541,
   "id": "06f2b841",
   "metadata": {},
   "outputs": [],
   "source": [
    "\n",
    "def capture_financial_ratio(*args, page_size=20):\n",
    "    symbol = args[0]\n",
    "\n",
    "    try:\n",
    "        df = financial_ratio(\n",
    "            symbol=symbol, \n",
    "            report_range='quarterly', \n",
    "            is_all=False\n",
    "        )\n",
    "\n",
    "    except Exception as e:\n",
    "        error_message = f\"Error capturing financial ratio for symbol {symbol}: {e}\"\n",
    "        logger.error(error_message)\n",
    "        return pd.DataFrame()\n",
    "\n",
    "    df = df.apply(pd.to_numeric, errors='ignore')    \n",
    "    return df.iloc[:, 0].T.to_frame().T\n"
   ]
  },
  {
   "cell_type": "markdown",
   "id": "917c5af0",
   "metadata": {},
   "source": [
    "### Báo cáo tài chính (Financial report)\n",
    "- Báo cáo kinh doanh (Income statement)\n",
    "- Bảng cân đối kế toán (Balance sheet)\n",
    "- Báo cáo lưu chuyển tiền tệ (Cash flow)"
   ]
  },
  {
   "cell_type": "code",
   "execution_count": 542,
   "id": "25cdaabc",
   "metadata": {},
   "outputs": [],
   "source": [
    "\n",
    "REPORT_TYPE = ['IncomeStatement', 'BalanceSheet', 'CashFlow']\n",
    "def capture_income_statement(*args):\n",
    "    symbol = args[0]\n",
    "    report_type = args[1]\n",
    "\n",
    "    try:\n",
    "        if report_type not in REPORT_TYPE:\n",
    "            raise ValueError(f\"Invalid report type '{type}'. Type must be one of {REPORT_TYPE}\")\n",
    "        \n",
    "        df = financial_report(\n",
    "            symbol=symbol, \n",
    "            report_type=report_type, \n",
    "            frequency='Quarterly'\n",
    "        )\n",
    "\n",
    "    except Exception as e:\n",
    "        error_message = f\"Error capturing income statement of type {report_type} for symbol {symbol}: {e}\"\n",
    "        logger.error(error_message)\n",
    "        return pd.DataFrame()\n",
    "\n",
    "    df = df.iloc[:, [0, -1]].T\n",
    "    df.columns = df.iloc[0]\n",
    "    df = df.iloc[1:]\n",
    "\n",
    "    df = df.apply(pd.to_numeric, errors='ignore')\n",
    "    return df"
   ]
  },
  {
   "cell_type": "markdown",
   "id": "616b9d21",
   "metadata": {},
   "source": [
    "### Crawl all quarterly data and store"
   ]
  },
  {
   "cell_type": "code",
   "execution_count": 543,
   "id": "6fdd2a12",
   "metadata": {},
   "outputs": [],
   "source": [
    "def capture_all_quarterly_data(capture_date, limit=None):\n",
    "    logger.info(\"Capture all quarterly data started.\")\n",
    "\n",
    "    date_string = capture_date.strftime(\"%d-%m-%Y\")\n",
    "    file_path = f'data/outputs/output_quarterly_{date_string}.xlsx'\n",
    "\n",
    "    if os.path.exists(file_path):\n",
    "        os.remove(file_path)\n",
    "\n",
    "    company_listing_df = capture_company_listing()\n",
    "    if limit is not None:\n",
    "        company_symbols = company_listing_df[\"ticker\"][:limit]\n",
    "    else:\n",
    "        company_symbols = company_listing_df[\"ticker\"]\n",
    "\n",
    "    functions_to_capture = [\n",
    "        capture_company_overview,\n",
    "        capture_company_profile,\n",
    "        capture_company_shareholders,\n",
    "        capture_fundamental_ratio,\n",
    "        capture_subsidiaries_listing,\n",
    "        capture_company_officers,\n",
    "        capture_financial_ratio\n",
    "    ]\n",
    "\n",
    "    data_dict = {f.__name__: process_symbols(company_symbols, f, capture_date) for f in functions_to_capture}\n",
    "\n",
    "    data_dict.update({r: process_symbols(company_symbols, capture_income_statement, r) for r in REPORT_TYPE})\n",
    "\n",
    "    export_data_to_excel(data_dict, company_listing_df, 'Company', file_path, \"Quarterly\")\n",
    "    \n",
    "    logger.info(\"Capture all quarterly data ended.\")\n",
    "    return company_listing_df, *data_dict.values()"
   ]
  },
  {
   "cell_type": "markdown",
   "id": "8f63108a",
   "metadata": {},
   "source": [
    "## Capture all data"
   ]
  },
  {
   "cell_type": "code",
   "execution_count": 544,
   "id": "92d48eee",
   "metadata": {},
   "outputs": [],
   "source": [
    "CAPTURE_OPTION = {\n",
    "    0: \"DAILY\",\n",
    "    1: \"QUARTERLY\",\n",
    "    2: \"BOTH\"\n",
    "}\n",
    "\n",
    "def capture_all_data(capture_date, limit, option=2):\n",
    "    if option not in CAPTURE_OPTION:\n",
    "        error_message = f\"Invalid option '{option}'. Please provide a valid option from {CAPTURE_OPTION}.\"\n",
    "        logger.error(error_message)\n",
    "        raise ValueError(error_message)\n",
    "\n",
    "    if option == 0:\n",
    "        capture_all_daily(capture_date, limit)\n",
    "    elif option == 1:\n",
    "        capture_all_quarterly_data(capture_date, limit)\n",
    "    elif option == 2:\n",
    "        capture_all_daily(capture_date, limit)\n",
    "        capture_all_quarterly_data(capture_date, limit)"
   ]
  },
  {
   "cell_type": "code",
   "execution_count": 545,
   "id": "b5953d4b",
   "metadata": {},
   "outputs": [
    {
     "name": "stderr",
     "output_type": "stream",
     "text": [
      "INFO:server_logger:Capture all daily data started.\n",
      "INFO:server_logger:Capture all daily company data started.\n"
     ]
    },
    {
     "name": "stdout",
     "output_type": "stream",
     "text": [
      "Processed 1/10 symbols of capture_ticker_volatility\n",
      "Processed 2/10 symbols of capture_ticker_volatility\n",
      "Processed 3/10 symbols of capture_ticker_volatility\n",
      "Processed 4/10 symbols of capture_ticker_volatility\n",
      "Processed 5/10 symbols of capture_ticker_volatility\n",
      "Processed 6/10 symbols of capture_ticker_volatility\n",
      "Processed 7/10 symbols of capture_ticker_volatility\n",
      "Processed 8/10 symbols of capture_ticker_volatility\n",
      "Processed 9/10 symbols of capture_ticker_volatility\n",
      "Processed 10/10 symbols of capture_ticker_volatility\n",
      "Processed 1/10 symbols of capture_insider_deals\n",
      "Processed 2/10 symbols of capture_insider_deals\n",
      "Processed 3/10 symbols of capture_insider_deals\n",
      "Processed 4/10 symbols of capture_insider_deals\n",
      "Processed 5/10 symbols of capture_insider_deals\n",
      "Processed 6/10 symbols of capture_insider_deals\n",
      "Processed 7/10 symbols of capture_insider_deals\n",
      "Processed 8/10 symbols of capture_insider_deals\n",
      "Processed 9/10 symbols of capture_insider_deals\n",
      "Processed 10/10 symbols of capture_insider_deals\n",
      "Processed 1/10 symbols of capture_company_event\n",
      "Processed 2/10 symbols of capture_company_event\n",
      "Processed 3/10 symbols of capture_company_event\n",
      "Processed 4/10 symbols of capture_company_event\n",
      "Processed 5/10 symbols of capture_company_event\n",
      "Processed 6/10 symbols of capture_company_event\n",
      "Processed 7/10 symbols of capture_company_event\n",
      "Processed 8/10 symbols of capture_company_event\n",
      "Processed 9/10 symbols of capture_company_event\n",
      "Processed 10/10 symbols of capture_company_event\n",
      "Processed 1/10 symbols of capture_company_news\n",
      "Processed 2/10 symbols of capture_company_news\n",
      "Processed 3/10 symbols of capture_company_news\n",
      "Processed 4/10 symbols of capture_company_news\n",
      "Processed 5/10 symbols of capture_company_news\n",
      "Processed 6/10 symbols of capture_company_news\n",
      "Processed 7/10 symbols of capture_company_news\n",
      "Processed 8/10 symbols of capture_company_news\n",
      "Processed 9/10 symbols of capture_company_news\n",
      "Processed 10/10 symbols of capture_company_news\n",
      "Processed 1/10 symbols of capture_stock_history\n",
      "Processed 2/10 symbols of capture_stock_history\n",
      "Processed 3/10 symbols of capture_stock_history\n",
      "Processed 4/10 symbols of capture_stock_history\n",
      "Processed 5/10 symbols of capture_stock_history\n",
      "Processed 6/10 symbols of capture_stock_history\n",
      "Processed 7/10 symbols of capture_stock_history\n",
      "Processed 8/10 symbols of capture_stock_history\n",
      "Processed 9/10 symbols of capture_stock_history\n",
      "Processed 10/10 symbols of capture_stock_history\n",
      "Processed 1/10 symbols of capture_stock_intraday\n",
      "Processed 2/10 symbols of capture_stock_intraday\n",
      "Processed 3/10 symbols of capture_stock_intraday\n",
      "Processed 4/10 symbols of capture_stock_intraday\n",
      "Processed 5/10 symbols of capture_stock_intraday\n",
      "Processed 6/10 symbols of capture_stock_intraday\n",
      "Processed 7/10 symbols of capture_stock_intraday\n",
      "Processed 8/10 symbols of capture_stock_intraday\n",
      "Processed 9/10 symbols of capture_stock_intraday\n",
      "Processed 10/10 symbols of capture_stock_intraday\n",
      "Processed 1/10 symbols of capture_stock_evaluation\n",
      "Processed 2/10 symbols of capture_stock_evaluation\n",
      "Processed 3/10 symbols of capture_stock_evaluation\n",
      "Processed 4/10 symbols of capture_stock_evaluation\n",
      "Processed 5/10 symbols of capture_stock_evaluation\n",
      "Processed 6/10 symbols of capture_stock_evaluation\n",
      "Processed 7/10 symbols of capture_stock_evaluation\n",
      "Processed 8/10 symbols of capture_stock_evaluation\n",
      "Processed 9/10 symbols of capture_stock_evaluation\n",
      "Processed 10/10 symbols of capture_stock_evaluation\n",
      "Processed 1/10 symbols of capture_stock_rating\n",
      "Processed 2/10 symbols of capture_stock_rating\n",
      "Processed 3/10 symbols of capture_stock_rating\n",
      "Processed 4/10 symbols of capture_stock_rating\n",
      "Processed 5/10 symbols of capture_stock_rating\n",
      "Processed 6/10 symbols of capture_stock_rating\n",
      "Processed 7/10 symbols of capture_stock_rating\n",
      "Processed 8/10 symbols of capture_stock_rating\n",
      "Processed 9/10 symbols of capture_stock_rating\n",
      "Processed 10/10 symbols of capture_stock_rating\n"
     ]
    },
    {
     "name": "stderr",
     "output_type": "stream",
     "text": [
      "INFO:server_logger:Capture all daily company data ended.\n",
      "INFO:server_logger:Capture all daily fund data started.\n"
     ]
    },
    {
     "name": "stdout",
     "output_type": "stream",
     "text": [
      "Total number of funds currently listed on Fmarket:  44\n",
      "Getting data for VESAF\n",
      "Processed 1/10 symbols of capture_fund_details\n",
      "Getting data for VEOF\n",
      "Processed 2/10 symbols of capture_fund_details\n",
      "Getting data for SSISCA\n",
      "Processed 3/10 symbols of capture_fund_details\n",
      "Getting data for VIBF\n",
      "Processed 4/10 symbols of capture_fund_details\n",
      "Getting data for VCBF-BCF\n",
      "Processed 5/10 symbols of capture_fund_details\n",
      "Getting data for BVPF\n",
      "Processed 6/10 symbols of capture_fund_details\n",
      "Getting data for DCDS\n",
      "Processed 7/10 symbols of capture_fund_details\n",
      "Getting data for VCBF-TBF\n",
      "Processed 8/10 symbols of capture_fund_details\n",
      "Getting data for VCAMBF\n",
      "Processed 9/10 symbols of capture_fund_details\n",
      "Getting data for VNDAF\n",
      "Processed 10/10 symbols of capture_fund_details\n",
      "Getting data for VESAF\n",
      "Processed 1/10 symbols of capture_fund_details\n",
      "Getting data for VEOF\n",
      "Processed 2/10 symbols of capture_fund_details\n",
      "Getting data for SSISCA\n",
      "Processed 3/10 symbols of capture_fund_details\n",
      "Getting data for VIBF\n",
      "Processed 4/10 symbols of capture_fund_details\n",
      "Getting data for VCBF-BCF\n",
      "Processed 5/10 symbols of capture_fund_details\n",
      "Getting data for BVPF\n",
      "Processed 6/10 symbols of capture_fund_details\n",
      "Getting data for DCDS\n",
      "Processed 7/10 symbols of capture_fund_details\n",
      "Getting data for VCBF-TBF\n",
      "Processed 8/10 symbols of capture_fund_details\n",
      "Getting data for VCAMBF\n",
      "Processed 9/10 symbols of capture_fund_details\n",
      "Getting data for VNDAF\n",
      "Processed 10/10 symbols of capture_fund_details\n",
      "Getting data for VESAF\n",
      "Processed 1/10 symbols of capture_fund_details\n",
      "Getting data for VEOF\n",
      "Processed 2/10 symbols of capture_fund_details\n",
      "Getting data for SSISCA\n",
      "Processed 3/10 symbols of capture_fund_details\n",
      "Getting data for VIBF\n",
      "Processed 4/10 symbols of capture_fund_details\n",
      "Getting data for VCBF-BCF\n",
      "Processed 5/10 symbols of capture_fund_details\n",
      "Getting data for BVPF\n",
      "Processed 6/10 symbols of capture_fund_details\n",
      "Getting data for DCDS\n",
      "Processed 7/10 symbols of capture_fund_details\n",
      "Getting data for VCBF-TBF\n",
      "Processed 8/10 symbols of capture_fund_details\n",
      "Getting data for VCAMBF\n",
      "Processed 9/10 symbols of capture_fund_details\n",
      "Getting data for VNDAF\n",
      "Processed 10/10 symbols of capture_fund_details\n",
      "Getting data for VESAF\n",
      "Processed 1/10 symbols of capture_fund_details\n",
      "Getting data for VEOF\n",
      "Processed 2/10 symbols of capture_fund_details\n",
      "Getting data for SSISCA\n",
      "Processed 3/10 symbols of capture_fund_details\n",
      "Getting data for VIBF\n",
      "Processed 4/10 symbols of capture_fund_details\n",
      "Getting data for VCBF-BCF\n",
      "Processed 5/10 symbols of capture_fund_details\n",
      "Getting data for BVPF\n",
      "Processed 6/10 symbols of capture_fund_details\n",
      "Getting data for DCDS\n",
      "Processed 7/10 symbols of capture_fund_details\n",
      "Getting data for VCBF-TBF\n",
      "Processed 8/10 symbols of capture_fund_details\n",
      "Getting data for VCAMBF\n",
      "Processed 9/10 symbols of capture_fund_details\n",
      "Getting data for VNDAF\n",
      "Processed 10/10 symbols of capture_fund_details\n"
     ]
    },
    {
     "name": "stderr",
     "output_type": "stream",
     "text": [
      "INFO:server_logger:Capture all daily fund data ended.\n",
      "INFO:server_logger:Capture all daily data ended.\n",
      "INFO:server_logger:Capture all quarterly data started.\n"
     ]
    },
    {
     "name": "stdout",
     "output_type": "stream",
     "text": [
      "Processed 1/10 symbols of capture_company_overview\n",
      "Processed 2/10 symbols of capture_company_overview\n",
      "Processed 3/10 symbols of capture_company_overview\n",
      "Processed 4/10 symbols of capture_company_overview\n",
      "Processed 5/10 symbols of capture_company_overview\n",
      "Processed 6/10 symbols of capture_company_overview\n",
      "Processed 7/10 symbols of capture_company_overview\n",
      "Processed 8/10 symbols of capture_company_overview\n",
      "Processed 9/10 symbols of capture_company_overview\n",
      "Processed 10/10 symbols of capture_company_overview\n",
      "Processed 1/10 symbols of capture_company_profile\n",
      "Processed 2/10 symbols of capture_company_profile\n",
      "Processed 3/10 symbols of capture_company_profile\n",
      "Processed 4/10 symbols of capture_company_profile\n",
      "Processed 5/10 symbols of capture_company_profile\n",
      "Processed 6/10 symbols of capture_company_profile\n",
      "Processed 7/10 symbols of capture_company_profile\n",
      "Processed 8/10 symbols of capture_company_profile\n",
      "Processed 9/10 symbols of capture_company_profile\n",
      "Processed 10/10 symbols of capture_company_profile\n",
      "Processed 1/10 symbols of capture_company_shareholders\n",
      "Processed 2/10 symbols of capture_company_shareholders\n",
      "Processed 3/10 symbols of capture_company_shareholders\n",
      "Processed 4/10 symbols of capture_company_shareholders\n",
      "Processed 5/10 symbols of capture_company_shareholders\n",
      "Processed 6/10 symbols of capture_company_shareholders\n",
      "Processed 7/10 symbols of capture_company_shareholders\n",
      "Processed 8/10 symbols of capture_company_shareholders\n",
      "Processed 9/10 symbols of capture_company_shareholders\n",
      "Processed 10/10 symbols of capture_company_shareholders\n",
      "Processed 1/10 symbols of capture_fundamental_ratio\n",
      "Processed 2/10 symbols of capture_fundamental_ratio\n",
      "Processed 3/10 symbols of capture_fundamental_ratio\n",
      "Processed 4/10 symbols of capture_fundamental_ratio\n",
      "Processed 5/10 symbols of capture_fundamental_ratio\n",
      "Processed 6/10 symbols of capture_fundamental_ratio\n",
      "Processed 7/10 symbols of capture_fundamental_ratio\n",
      "Processed 8/10 symbols of capture_fundamental_ratio\n",
      "Processed 9/10 symbols of capture_fundamental_ratio\n",
      "Processed 10/10 symbols of capture_fundamental_ratio\n"
     ]
    },
    {
     "name": "stderr",
     "output_type": "stream",
     "text": [
      "ERROR:server_logger:Error capturing company subsidiaries listing for symbol A32: \"['no'] not found in axis\"\n"
     ]
    },
    {
     "name": "stdout",
     "output_type": "stream",
     "text": [
      "Processed 1/10 symbols of capture_subsidiaries_listing\n",
      "Processed 2/10 symbols of capture_subsidiaries_listing\n",
      "Processed 3/10 symbols of capture_subsidiaries_listing\n",
      "Processed 4/10 symbols of capture_subsidiaries_listing\n",
      "Processed 5/10 symbols of capture_subsidiaries_listing\n",
      "Processed 6/10 symbols of capture_subsidiaries_listing\n",
      "Processed 7/10 symbols of capture_subsidiaries_listing\n",
      "Processed 8/10 symbols of capture_subsidiaries_listing\n"
     ]
    },
    {
     "name": "stderr",
     "output_type": "stream",
     "text": [
      "ERROR:server_logger:Error capturing company subsidiaries listing for symbol ABI: \"['no'] not found in axis\"\n"
     ]
    },
    {
     "name": "stdout",
     "output_type": "stream",
     "text": [
      "Processed 9/10 symbols of capture_subsidiaries_listing\n",
      "Processed 10/10 symbols of capture_subsidiaries_listing\n",
      "Processed 1/10 symbols of capture_company_officers\n",
      "Processed 2/10 symbols of capture_company_officers\n",
      "Processed 3/10 symbols of capture_company_officers\n",
      "Processed 4/10 symbols of capture_company_officers\n",
      "Processed 5/10 symbols of capture_company_officers\n",
      "Processed 6/10 symbols of capture_company_officers\n",
      "Processed 7/10 symbols of capture_company_officers\n",
      "Processed 8/10 symbols of capture_company_officers\n",
      "Processed 9/10 symbols of capture_company_officers\n",
      "Processed 10/10 symbols of capture_company_officers\n"
     ]
    },
    {
     "name": "stderr",
     "output_type": "stream",
     "text": [
      "ERROR:server_logger:Error capturing financial ratio for symbol A32: 'quarter'\n"
     ]
    },
    {
     "name": "stdout",
     "output_type": "stream",
     "text": [
      "Processed 1/10 symbols of capture_financial_ratio\n",
      "Processed 2/10 symbols of capture_financial_ratio\n",
      "Processed 3/10 symbols of capture_financial_ratio\n",
      "Processed 4/10 symbols of capture_financial_ratio\n",
      "Processed 5/10 symbols of capture_financial_ratio\n",
      "Processed 6/10 symbols of capture_financial_ratio\n",
      "Processed 7/10 symbols of capture_financial_ratio\n",
      "Processed 8/10 symbols of capture_financial_ratio\n",
      "Processed 9/10 symbols of capture_financial_ratio\n",
      "Processed 10/10 symbols of capture_financial_ratio\n"
     ]
    },
    {
     "name": "stderr",
     "output_type": "stream",
     "text": [
      "ERROR:server_logger:Error capturing income statement of type IncomeStatement for symbol A32: Excel file format cannot be determined, you must specify an engine manually.\n"
     ]
    },
    {
     "name": "stdout",
     "output_type": "stream",
     "text": [
      "Processed 1/10 symbols of capture_income_statement\n",
      "Processed 2/10 symbols of capture_income_statement\n",
      "Processed 3/10 symbols of capture_income_statement\n"
     ]
    },
    {
     "name": "stderr",
     "output_type": "stream",
     "text": [
      "ERROR:server_logger:Error capturing income statement of type IncomeStatement for symbol AAS: Excel file format cannot be determined, you must specify an engine manually.\n"
     ]
    },
    {
     "name": "stdout",
     "output_type": "stream",
     "text": [
      "Processed 4/10 symbols of capture_income_statement\n",
      "Processed 5/10 symbols of capture_income_statement\n",
      "Processed 6/10 symbols of capture_income_statement\n",
      "Processed 7/10 symbols of capture_income_statement\n"
     ]
    },
    {
     "name": "stderr",
     "output_type": "stream",
     "text": [
      "ERROR:server_logger:Error capturing income statement of type IncomeStatement for symbol ABC: Excel file format cannot be determined, you must specify an engine manually.\n"
     ]
    },
    {
     "name": "stdout",
     "output_type": "stream",
     "text": [
      "Processed 8/10 symbols of capture_income_statement\n",
      "Processed 9/10 symbols of capture_income_statement\n",
      "Processed 10/10 symbols of capture_income_statement\n"
     ]
    },
    {
     "name": "stderr",
     "output_type": "stream",
     "text": [
      "ERROR:server_logger:Error capturing income statement of type BalanceSheet for symbol A32: Excel file format cannot be determined, you must specify an engine manually.\n"
     ]
    },
    {
     "name": "stdout",
     "output_type": "stream",
     "text": [
      "Processed 1/10 symbols of capture_income_statement\n",
      "Processed 2/10 symbols of capture_income_statement\n",
      "Processed 3/10 symbols of capture_income_statement\n"
     ]
    },
    {
     "name": "stderr",
     "output_type": "stream",
     "text": [
      "ERROR:server_logger:Error capturing income statement of type BalanceSheet for symbol AAS: Excel file format cannot be determined, you must specify an engine manually.\n"
     ]
    },
    {
     "name": "stdout",
     "output_type": "stream",
     "text": [
      "Processed 4/10 symbols of capture_income_statement\n",
      "Processed 5/10 symbols of capture_income_statement\n",
      "Processed 6/10 symbols of capture_income_statement\n",
      "Processed 7/10 symbols of capture_income_statement\n"
     ]
    },
    {
     "name": "stderr",
     "output_type": "stream",
     "text": [
      "ERROR:server_logger:Error capturing income statement of type BalanceSheet for symbol ABC: Excel file format cannot be determined, you must specify an engine manually.\n"
     ]
    },
    {
     "name": "stdout",
     "output_type": "stream",
     "text": [
      "Processed 8/10 symbols of capture_income_statement\n",
      "Processed 9/10 symbols of capture_income_statement\n",
      "Processed 10/10 symbols of capture_income_statement\n"
     ]
    },
    {
     "name": "stderr",
     "output_type": "stream",
     "text": [
      "ERROR:server_logger:Error capturing income statement of type CashFlow for symbol A32: Excel file format cannot be determined, you must specify an engine manually.\n"
     ]
    },
    {
     "name": "stdout",
     "output_type": "stream",
     "text": [
      "Processed 1/10 symbols of capture_income_statement\n",
      "Processed 2/10 symbols of capture_income_statement\n",
      "Processed 3/10 symbols of capture_income_statement\n"
     ]
    },
    {
     "name": "stderr",
     "output_type": "stream",
     "text": [
      "ERROR:server_logger:Error capturing income statement of type CashFlow for symbol AAS: Excel file format cannot be determined, you must specify an engine manually.\n"
     ]
    },
    {
     "name": "stdout",
     "output_type": "stream",
     "text": [
      "Processed 4/10 symbols of capture_income_statement\n",
      "Processed 5/10 symbols of capture_income_statement\n",
      "Processed 6/10 symbols of capture_income_statement\n",
      "Processed 7/10 symbols of capture_income_statement\n"
     ]
    },
    {
     "name": "stderr",
     "output_type": "stream",
     "text": [
      "ERROR:server_logger:Error capturing income statement of type CashFlow for symbol ABC: Excel file format cannot be determined, you must specify an engine manually.\n"
     ]
    },
    {
     "name": "stdout",
     "output_type": "stream",
     "text": [
      "Processed 8/10 symbols of capture_income_statement\n",
      "Processed 9/10 symbols of capture_income_statement\n",
      "Processed 10/10 symbols of capture_income_statement\n"
     ]
    },
    {
     "name": "stderr",
     "output_type": "stream",
     "text": [
      "INFO:server_logger:Capture all quarterly data ended.\n"
     ]
    }
   ],
   "source": [
    "my_date = datetime(2023,12,27)\n",
    "limit = 10\n",
    "capture_all_data(my_date, limit)"
   ]
  },
  {
   "cell_type": "markdown",
   "id": "bb7be394",
   "metadata": {},
   "source": []
  }
 ],
 "metadata": {
  "kernelspec": {
   "display_name": "Python 3 (ipykernel)",
   "language": "python",
   "name": "python3"
  },
  "language_info": {
   "codemirror_mode": {
    "name": "ipython",
    "version": 3
   },
   "file_extension": ".py",
   "mimetype": "text/x-python",
   "name": "python",
   "nbconvert_exporter": "python",
   "pygments_lexer": "ipython3",
   "version": "3.11.4"
  }
 },
 "nbformat": 4,
 "nbformat_minor": 5
}
