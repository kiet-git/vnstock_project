{
 "cells": [
  {
   "cell_type": "markdown",
   "metadata": {},
   "source": [
    "# Import libraries and load data"
   ]
  },
  {
   "cell_type": "code",
   "execution_count": 1,
   "metadata": {},
   "outputs": [],
   "source": [
    "import psycopg2\n",
    "import numpy as np\n",
    "import pandas as pd\n",
    "import matplotlib.pyplot as plt\n",
    "from sklearn.model_selection import train_test_split\n",
    "from sklearn.metrics import classification_report, roc_curve, auc, roc_auc_score\n",
    "from sklearn import tree\n",
    "from sklearn.model_selection import GridSearchCV\n",
    "from sklearn.model_selection import cross_val_score\n",
    "from sklearn.dummy import DummyClassifier\n",
    "from sklearn.tree import DecisionTreeClassifier\n",
    "from sklearn.ensemble import RandomForestClassifier, HistGradientBoostingClassifier\n",
    "from xgboost import XGBClassifier\n"
   ]
  },
  {
   "cell_type": "code",
   "execution_count": 2,
   "metadata": {},
   "outputs": [],
   "source": [
    "\n",
    "db_params = {\n",
    "    \"host\": \"localhost\",\n",
    "    \"port\": \"5432\",\n",
    "    \"database\": \"vnstockdw\",\n",
    "    \"user\": \"postgres\",\n",
    "    \"password\": \"postgres\"\n",
    "}\n",
    "\n",
    "table_name = \"stock_history\"\n",
    "table_schema = \"public\"\n",
    "\n",
    "conn = psycopg2.connect(**db_params)\n",
    "\n",
    "cur = conn.cursor()\n",
    "\n",
    "cur.execute(f\"SELECT * FROM {table_name}\")\n",
    "\n",
    "rows = cur.fetchall()\n",
    "\n",
    "col_names = [desc[0] for desc in cur.description]\n",
    "\n",
    "stock_df = pd.DataFrame(rows, columns=col_names)\n",
    "\n",
    "cur.close()\n",
    "conn.close()"
   ]
  },
  {
   "cell_type": "markdown",
   "metadata": {},
   "source": [
    "### Data columns"
   ]
  },
  {
   "cell_type": "code",
   "execution_count": 3,
   "metadata": {},
   "outputs": [
    {
     "data": {
      "text/plain": [
       "Index(['created_at', 'updated_at', 'status', 'symbol', 'open', 'high', 'low',\n",
       "       'close', 'volume', 'date', 'price_change_to_1_day(s)_ago',\n",
       "       'price_change_to_2_day(s)_ago', 'price_change_to_3_day(s)_ago',\n",
       "       'volume_change_to_1_day(s)_ago', 'volume_change_to_2_day(s)_ago',\n",
       "       'volume_change_to_3_day(s)_ago', 'price_difference',\n",
       "       'median_volume_3_day(s)_periods', 'std_volume_3_day(s)_periods',\n",
       "       'median_price_change_3_day(s)_periods',\n",
       "       'std_price_change_3_day(s)_periods',\n",
       "       'median_volume_change_3_day(s)_periods',\n",
       "       'std_volume_change_3_day(s)_periods', 'sma_3_days', 'sma_5_days',\n",
       "       'wma_3_days', 'wma_5_days', 'ema_3_days', 'ema_5_days',\n",
       "       'bool_sma_3_days', 'bool_sma_5_days', 'bool_wma_3_days',\n",
       "       'bool_wma_5_days', 'bool_ema_3_days', 'bool_ema_5_days',\n",
       "       'macd_of_ema3_and_ema5', '%k_3_days', '%k_5_days', '%d_3_days',\n",
       "       '%d_5_days', 'rsi_3_days', 'rsi_5_days', 'williams_%r_3_days',\n",
       "       'ad_3_days', 'cci_3_days', 'bool_ad_3_days',\n",
       "       'bool_macd_of_ema3_and_ema5', 'bool_%k_3_days', 'bool_%k_5_days',\n",
       "       'bool_%d_3_days', 'bool_%d_5_days', 'bool_cci_3_days',\n",
       "       'bool_williams_%r_3_days', 'percentage_change_1_day(s)',\n",
       "       'percentage_change_2_day(s)', 'percentage_change_3_day(s)', 'obv',\n",
       "       'ft_min_6_days', 'ft_max_6_days', 'ft_mean_6_days'],\n",
       "      dtype='object')"
      ]
     },
     "execution_count": 3,
     "metadata": {},
     "output_type": "execute_result"
    }
   ],
   "source": [
    "stock_df.columns"
   ]
  },
  {
   "cell_type": "markdown",
   "metadata": {},
   "source": [
    "### Data shape"
   ]
  },
  {
   "cell_type": "code",
   "execution_count": 4,
   "metadata": {},
   "outputs": [
    {
     "data": {
      "text/plain": [
       "(906, 60)"
      ]
     },
     "execution_count": 4,
     "metadata": {},
     "output_type": "execute_result"
    }
   ],
   "source": [
    "stock_df.shape"
   ]
  },
  {
   "cell_type": "markdown",
   "metadata": {},
   "source": [
    "# Label Creation\n",
    "\n",
    "* Currently using '2024-01-16' as the training dates and '2024-01-19' as the predicted dates"
   ]
  },
  {
   "cell_type": "code",
   "execution_count": 5,
   "metadata": {},
   "outputs": [
    {
     "data": {
      "text/plain": [
       "date\n",
       "2024-01-05    71\n",
       "2024-01-19    69\n",
       "2024-01-03    66\n",
       "2024-01-12    66\n",
       "2024-01-11    65\n",
       "2024-01-08    65\n",
       "2024-01-02    64\n",
       "2024-01-04    64\n",
       "2024-01-09    63\n",
       "2024-01-10    63\n",
       "2024-01-15    63\n",
       "2024-01-18    63\n",
       "2024-01-16    62\n",
       "2024-01-17    62\n",
       "Name: count, dtype: int64"
      ]
     },
     "execution_count": 5,
     "metadata": {},
     "output_type": "execute_result"
    }
   ],
   "source": [
    "stock_df.date.value_counts()"
   ]
  },
  {
   "cell_type": "code",
   "execution_count": 6,
   "metadata": {},
   "outputs": [
    {
     "data": {
      "text/plain": [
       "(131, 60)"
      ]
     },
     "execution_count": 6,
     "metadata": {},
     "output_type": "execute_result"
    }
   ],
   "source": [
    "stock_df['date'] = pd.to_datetime(stock_df['date'])\n",
    "\n",
    "filtered_df = stock_df[(stock_df['date'] == '2024-01-19') | (stock_df['date'] == '2024-01-16')]\n",
    "\n",
    "filtered_df.shape"
   ]
  },
  {
   "cell_type": "code",
   "execution_count": 7,
   "metadata": {},
   "outputs": [
    {
     "name": "stdout",
     "output_type": "stream",
     "text": [
      "Deleted symbols: Index(['BCF', 'ABR', 'BED', 'ALT', 'BBC', 'BAL', 'AME', 'ATB', 'ATA', 'ACM',\n",
      "       'ADC', 'APT', 'AG1', 'AGF', 'AGP', 'AGX', 'ATG'],\n",
      "      dtype='object', name='symbol')\n"
     ]
    },
    {
     "data": {
      "text/plain": [
       "(114, 60)"
      ]
     },
     "execution_count": 7,
     "metadata": {},
     "output_type": "execute_result"
    }
   ],
   "source": [
    "symbol_counts = filtered_df['symbol'].value_counts()\n",
    "\n",
    "symbols_to_keep = symbol_counts[symbol_counts == 2].index\n",
    "symbols_to_delete = symbol_counts[symbol_counts != 2].index\n",
    "\n",
    "print(\"Deleted symbols:\", symbols_to_delete)\n",
    "\n",
    "filtered_df = filtered_df[filtered_df['symbol'].isin(symbols_to_keep)]\n",
    "\n",
    "filtered_df.shape"
   ]
  },
  {
   "cell_type": "code",
   "execution_count": 8,
   "metadata": {},
   "outputs": [
    {
     "data": {
      "text/html": [
       "<div>\n",
       "<style scoped>\n",
       "    .dataframe tbody tr th:only-of-type {\n",
       "        vertical-align: middle;\n",
       "    }\n",
       "\n",
       "    .dataframe tbody tr th {\n",
       "        vertical-align: top;\n",
       "    }\n",
       "\n",
       "    .dataframe thead th {\n",
       "        text-align: right;\n",
       "    }\n",
       "</style>\n",
       "<table border=\"1\" class=\"dataframe\">\n",
       "  <thead>\n",
       "    <tr style=\"text-align: right;\">\n",
       "      <th></th>\n",
       "      <th>created_at</th>\n",
       "      <th>updated_at</th>\n",
       "      <th>status</th>\n",
       "      <th>symbol</th>\n",
       "      <th>open</th>\n",
       "      <th>high</th>\n",
       "      <th>low</th>\n",
       "      <th>close</th>\n",
       "      <th>volume</th>\n",
       "      <th>date</th>\n",
       "      <th>...</th>\n",
       "      <th>bool_%d_5_days</th>\n",
       "      <th>bool_cci_3_days</th>\n",
       "      <th>bool_williams_%r_3_days</th>\n",
       "      <th>percentage_change_1_day(s)</th>\n",
       "      <th>percentage_change_2_day(s)</th>\n",
       "      <th>percentage_change_3_day(s)</th>\n",
       "      <th>obv</th>\n",
       "      <th>ft_min_6_days</th>\n",
       "      <th>ft_max_6_days</th>\n",
       "      <th>ft_mean_6_days</th>\n",
       "    </tr>\n",
       "  </thead>\n",
       "  <tbody>\n",
       "    <tr>\n",
       "      <th>4</th>\n",
       "      <td>2024-01-25 11:22:06.885941</td>\n",
       "      <td>2024-01-25 11:22:06.885941</td>\n",
       "      <td>True</td>\n",
       "      <td>A32</td>\n",
       "      <td>33000.0</td>\n",
       "      <td>33000.0</td>\n",
       "      <td>33000.0</td>\n",
       "      <td>33000.0</td>\n",
       "      <td>100.0</td>\n",
       "      <td>2024-01-16</td>\n",
       "      <td>...</td>\n",
       "      <td>1.0</td>\n",
       "      <td>-1.0</td>\n",
       "      <td>-1.0</td>\n",
       "      <td>-0.030303</td>\n",
       "      <td>0.090909</td>\n",
       "      <td>-0.030303</td>\n",
       "      <td>-100.0</td>\n",
       "      <td>0.200000</td>\n",
       "      <td>0.4</td>\n",
       "      <td>0.3</td>\n",
       "    </tr>\n",
       "    <tr>\n",
       "      <th>6</th>\n",
       "      <td>2024-01-25 11:22:06.885941</td>\n",
       "      <td>2024-01-25 11:22:06.885941</td>\n",
       "      <td>True</td>\n",
       "      <td>A32</td>\n",
       "      <td>34500.0</td>\n",
       "      <td>34500.0</td>\n",
       "      <td>34500.0</td>\n",
       "      <td>34500.0</td>\n",
       "      <td>100.0</td>\n",
       "      <td>2024-01-19</td>\n",
       "      <td>...</td>\n",
       "      <td>1.0</td>\n",
       "      <td>-1.0</td>\n",
       "      <td>1.0</td>\n",
       "      <td>0.014493</td>\n",
       "      <td>0.043478</td>\n",
       "      <td>0.000000</td>\n",
       "      <td>100.0</td>\n",
       "      <td>0.166667</td>\n",
       "      <td>0.5</td>\n",
       "      <td>0.3</td>\n",
       "    </tr>\n",
       "    <tr>\n",
       "      <th>17</th>\n",
       "      <td>2024-01-25 11:22:06.885941</td>\n",
       "      <td>2024-01-25 11:22:06.885941</td>\n",
       "      <td>True</td>\n",
       "      <td>AAA</td>\n",
       "      <td>9410.0</td>\n",
       "      <td>9500.0</td>\n",
       "      <td>9380.0</td>\n",
       "      <td>9500.0</td>\n",
       "      <td>1117000.0</td>\n",
       "      <td>2024-01-16</td>\n",
       "      <td>...</td>\n",
       "      <td>-1.0</td>\n",
       "      <td>1.0</td>\n",
       "      <td>1.0</td>\n",
       "      <td>0.010526</td>\n",
       "      <td>0.000000</td>\n",
       "      <td>0.000000</td>\n",
       "      <td>1117000.0</td>\n",
       "      <td>0.166667</td>\n",
       "      <td>0.5</td>\n",
       "      <td>0.3</td>\n",
       "    </tr>\n",
       "    <tr>\n",
       "      <th>20</th>\n",
       "      <td>2024-01-25 11:22:06.885941</td>\n",
       "      <td>2024-01-25 11:22:06.885941</td>\n",
       "      <td>True</td>\n",
       "      <td>AAA</td>\n",
       "      <td>9570.0</td>\n",
       "      <td>9570.0</td>\n",
       "      <td>9480.0</td>\n",
       "      <td>9480.0</td>\n",
       "      <td>1902700.0</td>\n",
       "      <td>2024-01-19</td>\n",
       "      <td>...</td>\n",
       "      <td>1.0</td>\n",
       "      <td>-1.0</td>\n",
       "      <td>-1.0</td>\n",
       "      <td>-0.002110</td>\n",
       "      <td>-0.003165</td>\n",
       "      <td>-0.003165</td>\n",
       "      <td>-1902700.0</td>\n",
       "      <td>0.166667</td>\n",
       "      <td>0.5</td>\n",
       "      <td>0.3</td>\n",
       "    </tr>\n",
       "    <tr>\n",
       "      <th>31</th>\n",
       "      <td>2024-01-25 11:22:06.885941</td>\n",
       "      <td>2024-01-25 11:22:06.885941</td>\n",
       "      <td>True</td>\n",
       "      <td>AAM</td>\n",
       "      <td>9540.0</td>\n",
       "      <td>9540.0</td>\n",
       "      <td>8930.0</td>\n",
       "      <td>9200.0</td>\n",
       "      <td>1300.0</td>\n",
       "      <td>2024-01-16</td>\n",
       "      <td>...</td>\n",
       "      <td>-1.0</td>\n",
       "      <td>-1.0</td>\n",
       "      <td>-1.0</td>\n",
       "      <td>-0.036957</td>\n",
       "      <td>-0.039130</td>\n",
       "      <td>-0.039130</td>\n",
       "      <td>-1300.0</td>\n",
       "      <td>0.166667</td>\n",
       "      <td>0.5</td>\n",
       "      <td>0.3</td>\n",
       "    </tr>\n",
       "  </tbody>\n",
       "</table>\n",
       "<p>5 rows × 60 columns</p>\n",
       "</div>"
      ],
      "text/plain": [
       "                   created_at                 updated_at  status symbol  \\\n",
       "4  2024-01-25 11:22:06.885941 2024-01-25 11:22:06.885941    True    A32   \n",
       "6  2024-01-25 11:22:06.885941 2024-01-25 11:22:06.885941    True    A32   \n",
       "17 2024-01-25 11:22:06.885941 2024-01-25 11:22:06.885941    True    AAA   \n",
       "20 2024-01-25 11:22:06.885941 2024-01-25 11:22:06.885941    True    AAA   \n",
       "31 2024-01-25 11:22:06.885941 2024-01-25 11:22:06.885941    True    AAM   \n",
       "\n",
       "       open     high      low    close     volume       date  ...  \\\n",
       "4   33000.0  33000.0  33000.0  33000.0      100.0 2024-01-16  ...   \n",
       "6   34500.0  34500.0  34500.0  34500.0      100.0 2024-01-19  ...   \n",
       "17   9410.0   9500.0   9380.0   9500.0  1117000.0 2024-01-16  ...   \n",
       "20   9570.0   9570.0   9480.0   9480.0  1902700.0 2024-01-19  ...   \n",
       "31   9540.0   9540.0   8930.0   9200.0     1300.0 2024-01-16  ...   \n",
       "\n",
       "    bool_%d_5_days  bool_cci_3_days  bool_williams_%r_3_days  \\\n",
       "4              1.0             -1.0                     -1.0   \n",
       "6              1.0             -1.0                      1.0   \n",
       "17            -1.0              1.0                      1.0   \n",
       "20             1.0             -1.0                     -1.0   \n",
       "31            -1.0             -1.0                     -1.0   \n",
       "\n",
       "    percentage_change_1_day(s)  percentage_change_2_day(s)  \\\n",
       "4                    -0.030303                    0.090909   \n",
       "6                     0.014493                    0.043478   \n",
       "17                    0.010526                    0.000000   \n",
       "20                   -0.002110                   -0.003165   \n",
       "31                   -0.036957                   -0.039130   \n",
       "\n",
       "    percentage_change_3_day(s)        obv  ft_min_6_days  ft_max_6_days  \\\n",
       "4                    -0.030303     -100.0       0.200000            0.4   \n",
       "6                     0.000000      100.0       0.166667            0.5   \n",
       "17                    0.000000  1117000.0       0.166667            0.5   \n",
       "20                   -0.003165 -1902700.0       0.166667            0.5   \n",
       "31                   -0.039130    -1300.0       0.166667            0.5   \n",
       "\n",
       "    ft_mean_6_days  \n",
       "4              0.3  \n",
       "6              0.3  \n",
       "17             0.3  \n",
       "20             0.3  \n",
       "31             0.3  \n",
       "\n",
       "[5 rows x 60 columns]"
      ]
     },
     "execution_count": 8,
     "metadata": {},
     "output_type": "execute_result"
    }
   ],
   "source": [
    "filtered_df.iloc[:5]"
   ]
  },
  {
   "cell_type": "code",
   "execution_count": 9,
   "metadata": {},
   "outputs": [
    {
     "name": "stdout",
     "output_type": "stream",
     "text": [
      "(57, 61)\n"
     ]
    },
    {
     "data": {
      "text/html": [
       "<div>\n",
       "<style scoped>\n",
       "    .dataframe tbody tr th:only-of-type {\n",
       "        vertical-align: middle;\n",
       "    }\n",
       "\n",
       "    .dataframe tbody tr th {\n",
       "        vertical-align: top;\n",
       "    }\n",
       "\n",
       "    .dataframe thead th {\n",
       "        text-align: right;\n",
       "    }\n",
       "</style>\n",
       "<table border=\"1\" class=\"dataframe\">\n",
       "  <thead>\n",
       "    <tr style=\"text-align: right;\">\n",
       "      <th></th>\n",
       "      <th>created_at</th>\n",
       "      <th>updated_at</th>\n",
       "      <th>status</th>\n",
       "      <th>symbol</th>\n",
       "      <th>open</th>\n",
       "      <th>high</th>\n",
       "      <th>low</th>\n",
       "      <th>close</th>\n",
       "      <th>volume</th>\n",
       "      <th>date</th>\n",
       "      <th>...</th>\n",
       "      <th>bool_cci_3_days</th>\n",
       "      <th>bool_williams_%r_3_days</th>\n",
       "      <th>percentage_change_1_day(s)</th>\n",
       "      <th>percentage_change_2_day(s)</th>\n",
       "      <th>percentage_change_3_day(s)</th>\n",
       "      <th>obv</th>\n",
       "      <th>ft_min_6_days</th>\n",
       "      <th>ft_max_6_days</th>\n",
       "      <th>ft_mean_6_days</th>\n",
       "      <th>label</th>\n",
       "    </tr>\n",
       "  </thead>\n",
       "  <tbody>\n",
       "    <tr>\n",
       "      <th>4</th>\n",
       "      <td>2024-01-25 11:22:06.885941</td>\n",
       "      <td>2024-01-25 11:22:06.885941</td>\n",
       "      <td>True</td>\n",
       "      <td>A32</td>\n",
       "      <td>33000.0</td>\n",
       "      <td>33000.0</td>\n",
       "      <td>33000.0</td>\n",
       "      <td>33000.0</td>\n",
       "      <td>100.0</td>\n",
       "      <td>2024-01-16</td>\n",
       "      <td>...</td>\n",
       "      <td>-1.0</td>\n",
       "      <td>-1.0</td>\n",
       "      <td>-0.030303</td>\n",
       "      <td>0.090909</td>\n",
       "      <td>-0.030303</td>\n",
       "      <td>-100.0</td>\n",
       "      <td>0.200000</td>\n",
       "      <td>0.4</td>\n",
       "      <td>0.3</td>\n",
       "      <td>1</td>\n",
       "    </tr>\n",
       "    <tr>\n",
       "      <th>17</th>\n",
       "      <td>2024-01-25 11:22:06.885941</td>\n",
       "      <td>2024-01-25 11:22:06.885941</td>\n",
       "      <td>True</td>\n",
       "      <td>AAA</td>\n",
       "      <td>9410.0</td>\n",
       "      <td>9500.0</td>\n",
       "      <td>9380.0</td>\n",
       "      <td>9500.0</td>\n",
       "      <td>1117000.0</td>\n",
       "      <td>2024-01-16</td>\n",
       "      <td>...</td>\n",
       "      <td>1.0</td>\n",
       "      <td>1.0</td>\n",
       "      <td>0.010526</td>\n",
       "      <td>0.000000</td>\n",
       "      <td>0.000000</td>\n",
       "      <td>1117000.0</td>\n",
       "      <td>0.166667</td>\n",
       "      <td>0.5</td>\n",
       "      <td>0.3</td>\n",
       "      <td>0</td>\n",
       "    </tr>\n",
       "    <tr>\n",
       "      <th>31</th>\n",
       "      <td>2024-01-25 11:22:06.885941</td>\n",
       "      <td>2024-01-25 11:22:06.885941</td>\n",
       "      <td>True</td>\n",
       "      <td>AAM</td>\n",
       "      <td>9540.0</td>\n",
       "      <td>9540.0</td>\n",
       "      <td>8930.0</td>\n",
       "      <td>9200.0</td>\n",
       "      <td>1300.0</td>\n",
       "      <td>2024-01-16</td>\n",
       "      <td>...</td>\n",
       "      <td>-1.0</td>\n",
       "      <td>-1.0</td>\n",
       "      <td>-0.036957</td>\n",
       "      <td>-0.039130</td>\n",
       "      <td>-0.039130</td>\n",
       "      <td>-1300.0</td>\n",
       "      <td>0.166667</td>\n",
       "      <td>0.5</td>\n",
       "      <td>0.3</td>\n",
       "      <td>0</td>\n",
       "    </tr>\n",
       "    <tr>\n",
       "      <th>45</th>\n",
       "      <td>2024-01-25 11:22:06.885941</td>\n",
       "      <td>2024-01-25 11:22:06.885941</td>\n",
       "      <td>True</td>\n",
       "      <td>AAS</td>\n",
       "      <td>8400.0</td>\n",
       "      <td>8500.0</td>\n",
       "      <td>8300.0</td>\n",
       "      <td>8500.0</td>\n",
       "      <td>705800.0</td>\n",
       "      <td>2024-01-16</td>\n",
       "      <td>...</td>\n",
       "      <td>1.0</td>\n",
       "      <td>1.0</td>\n",
       "      <td>0.023529</td>\n",
       "      <td>0.011765</td>\n",
       "      <td>0.000000</td>\n",
       "      <td>705800.0</td>\n",
       "      <td>0.166667</td>\n",
       "      <td>0.5</td>\n",
       "      <td>0.3</td>\n",
       "      <td>0</td>\n",
       "    </tr>\n",
       "    <tr>\n",
       "      <th>59</th>\n",
       "      <td>2024-01-25 11:22:06.885941</td>\n",
       "      <td>2024-01-25 11:22:06.885941</td>\n",
       "      <td>True</td>\n",
       "      <td>AAT</td>\n",
       "      <td>5370.0</td>\n",
       "      <td>5500.0</td>\n",
       "      <td>5360.0</td>\n",
       "      <td>5420.0</td>\n",
       "      <td>297700.0</td>\n",
       "      <td>2024-01-16</td>\n",
       "      <td>...</td>\n",
       "      <td>1.0</td>\n",
       "      <td>1.0</td>\n",
       "      <td>0.012915</td>\n",
       "      <td>0.022140</td>\n",
       "      <td>0.000000</td>\n",
       "      <td>297700.0</td>\n",
       "      <td>0.166667</td>\n",
       "      <td>0.5</td>\n",
       "      <td>0.3</td>\n",
       "      <td>1</td>\n",
       "    </tr>\n",
       "  </tbody>\n",
       "</table>\n",
       "<p>5 rows × 61 columns</p>\n",
       "</div>"
      ],
      "text/plain": [
       "                   created_at                 updated_at  status symbol  \\\n",
       "4  2024-01-25 11:22:06.885941 2024-01-25 11:22:06.885941    True    A32   \n",
       "17 2024-01-25 11:22:06.885941 2024-01-25 11:22:06.885941    True    AAA   \n",
       "31 2024-01-25 11:22:06.885941 2024-01-25 11:22:06.885941    True    AAM   \n",
       "45 2024-01-25 11:22:06.885941 2024-01-25 11:22:06.885941    True    AAS   \n",
       "59 2024-01-25 11:22:06.885941 2024-01-25 11:22:06.885941    True    AAT   \n",
       "\n",
       "       open     high      low    close     volume       date  ...  \\\n",
       "4   33000.0  33000.0  33000.0  33000.0      100.0 2024-01-16  ...   \n",
       "17   9410.0   9500.0   9380.0   9500.0  1117000.0 2024-01-16  ...   \n",
       "31   9540.0   9540.0   8930.0   9200.0     1300.0 2024-01-16  ...   \n",
       "45   8400.0   8500.0   8300.0   8500.0   705800.0 2024-01-16  ...   \n",
       "59   5370.0   5500.0   5360.0   5420.0   297700.0 2024-01-16  ...   \n",
       "\n",
       "    bool_cci_3_days  bool_williams_%r_3_days  percentage_change_1_day(s)  \\\n",
       "4              -1.0                     -1.0                   -0.030303   \n",
       "17              1.0                      1.0                    0.010526   \n",
       "31             -1.0                     -1.0                   -0.036957   \n",
       "45              1.0                      1.0                    0.023529   \n",
       "59              1.0                      1.0                    0.012915   \n",
       "\n",
       "    percentage_change_2_day(s)  percentage_change_3_day(s)        obv  \\\n",
       "4                     0.090909                   -0.030303     -100.0   \n",
       "17                    0.000000                    0.000000  1117000.0   \n",
       "31                   -0.039130                   -0.039130    -1300.0   \n",
       "45                    0.011765                    0.000000   705800.0   \n",
       "59                    0.022140                    0.000000   297700.0   \n",
       "\n",
       "    ft_min_6_days  ft_max_6_days  ft_mean_6_days  label  \n",
       "4        0.200000            0.4             0.3      1  \n",
       "17       0.166667            0.5             0.3      0  \n",
       "31       0.166667            0.5             0.3      0  \n",
       "45       0.166667            0.5             0.3      0  \n",
       "59       0.166667            0.5             0.3      1  \n",
       "\n",
       "[5 rows x 61 columns]"
      ]
     },
     "execution_count": 9,
     "metadata": {},
     "output_type": "execute_result"
    }
   ],
   "source": [
    "close_prices_1901 = filtered_df[filtered_df['date'] == '2024-01-19'].set_index('symbol')['close']\n",
    "close_prices_1601 = filtered_df[filtered_df['date'] == '2024-01-16'].set_index('symbol')['close']\n",
    "\n",
    "labels = ((close_prices_1901 > close_prices_1601).astype(int) * 2 - 1 + 1) // 2\n",
    "\n",
    "filtered_df['label'] = filtered_df['symbol'].map(labels)\n",
    "filtered_df = filtered_df[filtered_df['date'] != '2024-01-19']\n",
    "\n",
    "print(filtered_df.shape)\n",
    "filtered_df.iloc[:5]"
   ]
  },
  {
   "cell_type": "markdown",
   "metadata": {},
   "source": [
    "# EDA?"
   ]
  },
  {
   "cell_type": "code",
   "execution_count": 10,
   "metadata": {},
   "outputs": [
    {
     "name": "stdout",
     "output_type": "stream",
     "text": [
      "Numbers of positive: 25\n",
      "Numbers of negative: 0\n"
     ]
    }
   ],
   "source": [
    "num_positive = filtered_df[filtered_df[\"label\"] == 1].shape[0]\n",
    "print(\"Numbers of positive:\", num_positive)\n",
    "num_negative = filtered_df[filtered_df[\"label\"] == -1].shape[0]\n",
    "print(\"Numbers of negative:\", num_negative)"
   ]
  },
  {
   "cell_type": "markdown",
   "metadata": {},
   "source": [
    "# Dimensionality Reduction"
   ]
  },
  {
   "cell_type": "code",
   "execution_count": null,
   "metadata": {},
   "outputs": [],
   "source": []
  },
  {
   "cell_type": "markdown",
   "metadata": {},
   "source": [
    "# Models Training"
   ]
  },
  {
   "cell_type": "markdown",
   "metadata": {},
   "source": [
    "## Split data"
   ]
  },
  {
   "cell_type": "code",
   "execution_count": 11,
   "metadata": {},
   "outputs": [],
   "source": [
    "X = filtered_df.drop(columns=['label', 'created_at', 'updated_at', 'status', 'symbol', 'date'])\n",
    "y = filtered_df[\"label\"]\n",
    "\n",
    "X_train, X_test, y_train, y_test = train_test_split(X, y, random_state=0, stratify=y)"
   ]
  },
  {
   "cell_type": "markdown",
   "metadata": {},
   "source": [
    "## Benchmark models\n",
    "### Dummy model"
   ]
  },
  {
   "cell_type": "code",
   "execution_count": 12,
   "metadata": {},
   "outputs": [
    {
     "data": {
      "text/plain": [
       "0.6"
      ]
     },
     "execution_count": 12,
     "metadata": {},
     "output_type": "execute_result"
    }
   ],
   "source": [
    "dummy_majority = DummyClassifier(strategy = 'stratified').fit(X_train, y_train)\n",
    "\n",
    "dummy_majority.score(X_test, y_test)"
   ]
  },
  {
   "cell_type": "code",
   "execution_count": 13,
   "metadata": {},
   "outputs": [
    {
     "name": "stdout",
     "output_type": "stream",
     "text": [
      "              precision    recall  f1-score   support\n",
      "\n",
      "       not 1       0.33      0.38      0.35         8\n",
      "           1       0.17      0.14      0.15         7\n",
      "\n",
      "    accuracy                           0.27        15\n",
      "   macro avg       0.25      0.26      0.25        15\n",
      "weighted avg       0.26      0.27      0.26        15\n",
      "\n"
     ]
    }
   ],
   "source": [
    "y_dummy_predictions = dummy_majority.predict(X_test)\n",
    "print(classification_report(y_test, y_dummy_predictions, target_names=['not 1', '1']))"
   ]
  },
  {
   "cell_type": "markdown",
   "metadata": {},
   "source": [
    "## Decision Tree"
   ]
  },
  {
   "cell_type": "code",
   "execution_count": 14,
   "metadata": {},
   "outputs": [
    {
     "name": "stdout",
     "output_type": "stream",
     "text": [
      "Train Accuracy: 1.0\n",
      "Test Accuracy: 0.7333333333333333\n"
     ]
    }
   ],
   "source": [
    "tree_clf = DecisionTreeClassifier().fit(X_train, y_train)\n",
    "print(\"Train Accuracy:\", tree_clf.score(X_train, y_train))\n",
    "print(\"Test Accuracy:\", tree_clf.score(X_test, y_test))"
   ]
  },
  {
   "cell_type": "code",
   "execution_count": 15,
   "metadata": {},
   "outputs": [
    {
     "name": "stdout",
     "output_type": "stream",
     "text": [
      "Train Accuracy: 0.8809523809523809\n",
      "Test Accuracy: 0.4\n"
     ]
    }
   ],
   "source": [
    "tree_clf = DecisionTreeClassifier(max_depth = 4).fit(X_train, y_train)\n",
    "print(\"Train Accuracy:\", tree_clf.score(X_train, y_train))\n",
    "print(\"Test Accuracy:\", tree_clf.score(X_test, y_test))"
   ]
  },
  {
   "cell_type": "code",
   "execution_count": 16,
   "metadata": {},
   "outputs": [
    {
     "data": {
      "text/plain": [
       "[Text(0.375, 0.9, 'x[16] <= -9800.0\\ngini = 0.49\\nsamples = 42\\nvalue = [24, 18]'),\n",
       " Text(0.16666666666666666, 0.7, 'x[8] <= -291900.0\\ngini = 0.375\\nsamples = 12\\nvalue = [3, 9]'),\n",
       " Text(0.08333333333333333, 0.5, 'gini = 0.0\\nsamples = 2\\nvalue = [2, 0]'),\n",
       " Text(0.25, 0.5, 'x[48] <= 0.028\\ngini = 0.18\\nsamples = 10\\nvalue = [1, 9]'),\n",
       " Text(0.16666666666666666, 0.3, 'gini = 0.0\\nsamples = 9\\nvalue = [0, 9]'),\n",
       " Text(0.3333333333333333, 0.3, 'gini = 0.0\\nsamples = 1\\nvalue = [1, 0]'),\n",
       " Text(0.5833333333333334, 0.7, 'x[3] <= 4950.0\\ngini = 0.42\\nsamples = 30\\nvalue = [21, 9]'),\n",
       " Text(0.5, 0.5, 'gini = 0.0\\nsamples = 2\\nvalue = [0, 2]'),\n",
       " Text(0.6666666666666666, 0.5, 'x[16] <= 250.0\\ngini = 0.375\\nsamples = 28\\nvalue = [21, 7]'),\n",
       " Text(0.5, 0.3, 'x[35] <= 68.328\\ngini = 0.133\\nsamples = 14\\nvalue = [13, 1]'),\n",
       " Text(0.4166666666666667, 0.1, 'gini = 0.0\\nsamples = 12\\nvalue = [12, 0]'),\n",
       " Text(0.5833333333333334, 0.1, 'gini = 0.5\\nsamples = 2\\nvalue = [1, 1]'),\n",
       " Text(0.8333333333333334, 0.3, 'x[8] <= 350.0\\ngini = 0.49\\nsamples = 14\\nvalue = [8, 6]'),\n",
       " Text(0.75, 0.1, 'gini = 0.0\\nsamples = 2\\nvalue = [0, 2]'),\n",
       " Text(0.9166666666666666, 0.1, 'gini = 0.444\\nsamples = 12\\nvalue = [8, 4]')]"
      ]
     },
     "execution_count": 16,
     "metadata": {},
     "output_type": "execute_result"
    },
    {
     "data": {
      "image/png": "[encoded data removed]",
      "text/plain": [
       "<Figure size 640x480 with 1 Axes>"
      ]
     },
     "metadata": {},
     "output_type": "display_data"
    }
   ],
   "source": [
    "tree.plot_tree(tree_clf)"
   ]
  },
  {
   "cell_type": "code",
   "execution_count": 17,
   "metadata": {},
   "outputs": [
    {
     "name": "stdout",
     "output_type": "stream",
     "text": [
      "              precision    recall  f1-score   support\n",
      "\n",
      "       not 1       0.45      0.62      0.53         8\n",
      "           1       0.25      0.14      0.18         7\n",
      "\n",
      "    accuracy                           0.40        15\n",
      "   macro avg       0.35      0.38      0.35        15\n",
      "weighted avg       0.36      0.40      0.37        15\n",
      "\n"
     ]
    }
   ],
   "source": [
    "tree_predicted = tree_clf.predict(X_test)\n",
    "print(classification_report(y_test, tree_predicted, target_names = ['not 1', '1']))"
   ]
  },
  {
   "cell_type": "code",
   "execution_count": 18,
   "metadata": {},
   "outputs": [
    {
     "name": "stdout",
     "output_type": "stream",
     "text": [
      "Model AUC: 0.3839285714285714\n"
     ]
    },
    {
     "data": {
      "image/png": "[encoded data removed]",
      "text/plain": [
       "<Figure size 640x480 with 1 Axes>"
      ]
     },
     "metadata": {},
     "output_type": "display_data"
    }
   ],
   "source": [
    "fpr_lr, tpr_lr, _ = roc_curve(y_test, tree_predicted)\n",
    "roc_auc_lr = auc(fpr_lr, tpr_lr)\n",
    "print(\"Model AUC:\", roc_auc_lr)\n",
    "\n",
    "plt.figure()\n",
    "plt.xlim([-0.01, 1.00])\n",
    "plt.ylim([-0.01, 1.01])\n",
    "plt.plot(fpr_lr, tpr_lr, lw=3, label='LogRegr ROC curve (area = {:0.2f})'.format(roc_auc_lr))\n",
    "plt.xlabel('False Positive Rate', fontsize=16)\n",
    "plt.ylabel('True Positive Rate', fontsize=16)\n",
    "plt.title('ROC curve (1-of-10 digits classifier)', fontsize=16)\n",
    "plt.legend(loc='lower right', fontsize=13)\n",
    "plt.plot([0, 1], [0, 1], color='navy', lw=3, linestyle='--')\n",
    "plt.show()"
   ]
  },
  {
   "cell_type": "code",
   "execution_count": 19,
   "metadata": {},
   "outputs": [
    {
     "name": "stdout",
     "output_type": "stream",
     "text": [
      "Cross-validation (accuracy): [0.41666667 0.33333333 0.72727273 0.45454545 0.54545455]\n",
      "Mean Cross-validation (accuracy): 0.4954545454545455\n",
      "Cross-validation (AUC): [0.31428571 0.34285714 0.78333333 0.25       0.83333333]\n",
      "Mean Cross-validation (AUC): 0.5047619047619049\n",
      "Cross-validation (recall): [0.2 0.4 0.6 0.  0.4]\n",
      "Mean Cross-validation (recall): 0.32\n"
     ]
    }
   ],
   "source": [
    "cv_accuracy = cross_val_score(tree_clf, X, y, cv=5)\n",
    "print('Cross-validation (accuracy):', cv_accuracy)\n",
    "print('Mean Cross-validation (accuracy):', cv_accuracy.mean())\n",
    "\n",
    "cv_auc = cross_val_score(tree_clf, X, y, cv=5, scoring='roc_auc')\n",
    "print('Cross-validation (AUC):', cv_auc)\n",
    "print('Mean Cross-validation (AUC):', cv_auc.mean())\n",
    "\n",
    "cv_recall = cross_val_score(tree_clf, X, y, cv=5, scoring='recall')\n",
    "print('Cross-validation (recall):', cv_recall)\n",
    "print('Mean Cross-validation (recall):', cv_recall.mean())"
   ]
  },
  {
   "cell_type": "code",
   "execution_count": 20,
   "metadata": {},
   "outputs": [
    {
     "data": {
      "image/png": "[encoded data removed]",
      "text/plain": [
       "<Figure size 800x320 with 1 Axes>"
      ]
     },
     "metadata": {},
     "output_type": "display_data"
    },
    {
     "name": "stdout",
     "output_type": "stream",
     "text": [
      "Feature importances: [0.14749164 0.29665552 0.36923077 0.06020067 0.1264214 ]\n"
     ]
    }
   ],
   "source": [
    "feature_importances = tree_clf.feature_importances_\n",
    "\n",
    "non_zero_indices = np.nonzero(feature_importances)[0]\n",
    "\n",
    "non_zero_importances = feature_importances[non_zero_indices]\n",
    "non_zero_feature_names = X.columns[non_zero_indices]\n",
    "\n",
    "plt.figure(figsize=(10,4), dpi=80)\n",
    "plt.barh(range(len(non_zero_importances)), non_zero_importances)\n",
    "plt.xlabel(\"Feature importance\")\n",
    "plt.ylabel(\"Feature name\")\n",
    "plt.yticks(np.arange(len(non_zero_importances)), non_zero_feature_names)\n",
    "plt.show()\n",
    "\n",
    "print('Feature importances: {}'.format(non_zero_importances))"
   ]
  },
  {
   "cell_type": "markdown",
   "metadata": {},
   "source": [
    "# Random Forest"
   ]
  },
  {
   "cell_type": "code",
   "execution_count": 21,
   "metadata": {},
   "outputs": [
    {
     "name": "stdout",
     "output_type": "stream",
     "text": [
      "Train Accuracy: 0.7142857142857143\n",
      "Test Accuracy: 0.7333333333333333\n",
      "Train set AUC:  0.7410714285714286\n",
      "Test set AUC:  0.7410714285714286\n",
      "              precision    recall  f1-score   support\n",
      "\n",
      "       not 1       0.83      0.62      0.71         8\n",
      "           1       0.67      0.86      0.75         7\n",
      "\n",
      "    accuracy                           0.73        15\n",
      "   macro avg       0.75      0.74      0.73        15\n",
      "weighted avg       0.76      0.73      0.73        15\n",
      "\n"
     ]
    }
   ],
   "source": [
    "forest_clf = RandomForestClassifier(n_estimators = 2, max_features = 4, max_depth=2, random_state = 0)\n",
    "forest_clf.fit(X_train, y_train)\n",
    "\n",
    "print(\"Train Accuracy:\", forest_clf.score(X_train, y_train))\n",
    "print(\"Test Accuracy:\", forest_clf.score(X_test, y_test))\n",
    "\n",
    "y_predicted = forest_clf.predict(X_test)\n",
    "print('Train set AUC: ', roc_auc_score(y_test, y_predicted))\n",
    "print('Test set AUC: ', roc_auc_score(y_test, y_predicted))\n",
    "print(classification_report(y_test, y_predicted, target_names = ['not 1', '1']))"
   ]
  },
  {
   "cell_type": "code",
   "execution_count": 22,
   "metadata": {},
   "outputs": [
    {
     "name": "stdout",
     "output_type": "stream",
     "text": [
      "Cross-validation (accuracy): [0.66666667 0.58333333 0.45454545 0.72727273 0.63636364]\n",
      "Mean Cross-validation (accuracy): 0.6136363636363635\n",
      "Cross-validation (AUC): [0.8        0.55714286 0.46666667 0.76666667 0.63333333]\n",
      "Mean Cross-validation (AUC): 0.6447619047619048\n",
      "Cross-validation (recall): [0.8 0.4 0.2 0.6 0.4]\n",
      "Mean Cross-validation (recall): 0.48\n"
     ]
    }
   ],
   "source": [
    "cv_accuracy = cross_val_score(forest_clf, X, y, cv=5)\n",
    "print('Cross-validation (accuracy):', cv_accuracy)\n",
    "print('Mean Cross-validation (accuracy):', cv_accuracy.mean())\n",
    "\n",
    "cv_auc = cross_val_score(forest_clf, X, y, cv=5, scoring='roc_auc')\n",
    "print('Cross-validation (AUC):', cv_auc)\n",
    "print('Mean Cross-validation (AUC):', cv_auc.mean())\n",
    "\n",
    "cv_recall = cross_val_score(forest_clf, X, y, cv=5, scoring='recall')\n",
    "print('Cross-validation (recall):', cv_recall)\n",
    "print('Mean Cross-validation (recall):', cv_recall.mean())"
   ]
  },
  {
   "cell_type": "code",
   "execution_count": 23,
   "metadata": {},
   "outputs": [
    {
     "name": "stdout",
     "output_type": "stream",
     "text": [
      "Test set AUC:  0.6607142857142857\n",
      "Grid best parameter (max. AUC):  {'max_depth': 4, 'max_features': 2}\n",
      "Grid best score (AUC):  0.69\n"
     ]
    }
   ],
   "source": [
    "grid_values = {\n",
    "    'max_features': [i for i in range(1, 11)],\n",
    "    'max_depth': [i for i in range(1, 5)]\n",
    "}\n",
    "grid_clf_auc = GridSearchCV(forest_clf, param_grid = grid_values, scoring = 'roc_auc')\n",
    "grid_clf_auc.fit(X_train, y_train)\n",
    "y_decision_fn_scores_auc = grid_clf_auc.predict(X_test) \n",
    "\n",
    "print('Test set AUC: ', roc_auc_score(y_test, y_decision_fn_scores_auc))\n",
    "print('Grid best parameter (max. AUC): ', grid_clf_auc.best_params_)\n",
    "print('Grid best score (AUC): ', grid_clf_auc.best_score_)"
   ]
  },
  {
   "cell_type": "code",
   "execution_count": 24,
   "metadata": {},
   "outputs": [
    {
     "data": {
      "image/png": "[encoded data removed]",
      "text/plain": [
       "<Figure size 1000x600 with 1 Axes>"
      ]
     },
     "metadata": {},
     "output_type": "display_data"
    },
    {
     "name": "stdout",
     "output_type": "stream",
     "text": [
      "Top 10 Feature Importances:\n",
      "std_volume_3_day(s)_periods: 0.3114224137931035\n",
      "sma_3_days: 0.2201230873258693\n",
      "macd_of_ema3_and_ema5: 0.19105842839813722\n",
      "median_volume_3_day(s)_periods: 0.18857758620689646\n",
      "low: 0.0888184842759935\n"
     ]
    }
   ],
   "source": [
    "feature_importances = forest_clf.feature_importances_\n",
    "\n",
    "non_zero_indices = np.nonzero(feature_importances)[0]\n",
    "\n",
    "non_zero_importances = feature_importances[non_zero_indices]\n",
    "non_zero_feature_names = X.columns[non_zero_indices]\n",
    "\n",
    "sorted_indices = np.argsort(non_zero_importances)[::-1]\n",
    "top_10_indices = sorted_indices[:10]\n",
    "\n",
    "top_10_importances = non_zero_importances[top_10_indices]\n",
    "top_10_feature_names = non_zero_feature_names[top_10_indices]\n",
    "\n",
    "plt.figure(figsize=(10, 6))\n",
    "plt.barh(range(len(top_10_importances)), top_10_importances, align='center')\n",
    "plt.yticks(np.arange(len(top_10_importances)), top_10_feature_names)\n",
    "plt.xlabel('Feature Importance')\n",
    "plt.ylabel('Feature Name')\n",
    "plt.title('Top 10 Feature Importances')\n",
    "plt.gca().invert_yaxis()\n",
    "plt.show()\n",
    "\n",
    "print('Top 10 Feature Importances:')\n",
    "for feature, importance in zip(top_10_feature_names, top_10_importances):\n",
    "    print(f'{feature}: {importance}')"
   ]
  },
  {
   "cell_type": "markdown",
   "metadata": {},
   "source": [
    "## XGBoost"
   ]
  },
  {
   "cell_type": "code",
   "execution_count": 29,
   "metadata": {},
   "outputs": [
    {
     "name": "stdout",
     "output_type": "stream",
     "text": [
      "Train Accuracy: 1.0\n",
      "Test Accuracy: 0.4666666666666667\n",
      "Train set AUC:  0.4464285714285714\n",
      "Test set AUC:  0.4464285714285714\n",
      "              precision    recall  f1-score   support\n",
      "\n",
      "       not 1       0.50      0.75      0.60         8\n",
      "           1       0.33      0.14      0.20         7\n",
      "\n",
      "    accuracy                           0.47        15\n",
      "   macro avg       0.42      0.45      0.40        15\n",
      "weighted avg       0.42      0.47      0.41        15\n",
      "\n"
     ]
    }
   ],
   "source": [
    "params = {'colsample_bytree': 0.8736594686522676, 'gamma': 0.21923706150904348, 'learning_rate': 0.23160784058855982, 'max_depth': 4, 'n_estimators': 124, 'subsample': 0.6620166466910976}\n",
    "xgb_clf = XGBClassifier(objective=\"binary:logistic\", random_state=0, **params)\n",
    "xgb_clf.fit(X_train, y_train)\n",
    "\n",
    "print(\"Train Accuracy:\", xgb_clf.score(X_train, y_train))\n",
    "print(\"Test Accuracy:\", xgb_clf.score(X_test, y_test))\n",
    "\n",
    "y_predicted = xgb_clf.predict(X_test)\n",
    "\n",
    "print('Train set AUC: ', roc_auc_score(y_test, y_predicted))\n",
    "print('Test set AUC: ', roc_auc_score(y_test, y_predicted))\n",
    "print(classification_report(y_test, y_predicted, target_names = ['not 1', '1']))"
   ]
  },
  {
   "cell_type": "code",
   "execution_count": 30,
   "metadata": {},
   "outputs": [
    {
     "name": "stdout",
     "output_type": "stream",
     "text": [
      "Cross-validation (accuracy): [0.58333333 0.5        0.72727273 0.45454545 0.54545455]\n",
      "Mean Cross-validation (accuracy: 0.5621212121212121\n",
      "Cross-validation (AUC): [0.45714286 0.48571429 0.73333333 0.56666667 0.6       ]\n",
      "Mean Cross-validation (AUC): 0.5685714285714286\n",
      "Cross-validation (recall): [0.2 0.8 0.6 0.  0.2]\n",
      "Mean Cross-validation (recall): 0.36\n"
     ]
    }
   ],
   "source": [
    "cv_accuracy = cross_val_score(xgb_clf, X, y, cv=5)\n",
    "print('Cross-validation (accuracy):', cv_accuracy)\n",
    "print('Mean Cross-validation (accuracy:', cv_accuracy.mean())\n",
    "\n",
    "cv_auc = cross_val_score(xgb_clf, X, y, cv=5, scoring='roc_auc')\n",
    "print('Cross-validation (AUC):', cv_auc)\n",
    "print('Mean Cross-validation (AUC):', cv_auc.mean())\n",
    "\n",
    "cv_recall = cross_val_score(xgb_clf, X, y, cv=5, scoring='recall')\n",
    "print('Cross-validation (recall):', cv_recall)\n",
    "print('Mean Cross-validation (recall):', cv_recall.mean())"
   ]
  },
  {
   "cell_type": "code",
   "execution_count": 28,
   "metadata": {},
   "outputs": [
    {
     "name": "stdout",
     "output_type": "stream",
     "text": [
      "Fitting 3 folds for each of 200 candidates, totalling 600 fits\n",
      "Model with rank: 1\n",
      "Mean validation score: 0.596 (std: 0.066)\n",
      "Parameters: {'colsample_bytree': 0.8736594686522676, 'gamma': 0.21923706150904348, 'learning_rate': 0.23160784058855982, 'max_depth': 4, 'n_estimators': 124, 'subsample': 0.6620166466910976}\n",
      "\n"
     ]
    }
   ],
   "source": [
    "from scipy.stats import uniform, randint\n",
    "from sklearn.model_selection import RandomizedSearchCV\n",
    "\n",
    "def report_best_scores(results, n_top=3):\n",
    "    for i in range(1, n_top + 1):\n",
    "        candidates = np.flatnonzero(results['rank_test_score'] == i)\n",
    "        for candidate in candidates:\n",
    "            print(\"Model with rank: {0}\".format(i))\n",
    "            print(\"Mean validation score: {0:.3f} (std: {1:.3f})\".format(\n",
    "                  results['mean_test_score'][candidate],\n",
    "                  results['std_test_score'][candidate]))\n",
    "            print(\"Parameters: {0}\".format(results['params'][candidate]))\n",
    "            print(\"\")\n",
    "\n",
    "params = {\n",
    "    \"colsample_bytree\": uniform(0.7, 0.3),\n",
    "    \"gamma\": uniform(0, 0.5),\n",
    "    \"learning_rate\": uniform(0.03, 0.3), # default 0.1 \n",
    "    \"max_depth\": randint(2, 6), # default 3\n",
    "    \"n_estimators\": randint(100, 150), # default 100\n",
    "    \"subsample\": uniform(0.6, 0.4)\n",
    "}\n",
    "\n",
    "search = RandomizedSearchCV(xgb_clf, param_distributions=params, random_state=42, n_iter=200, cv=3, verbose=1, n_jobs=1, return_train_score=True)\n",
    "\n",
    "search.fit(X, y)\n",
    "\n",
    "report_best_scores(search.cv_results_, 1)"
   ]
  },
  {
   "cell_type": "code",
   "execution_count": null,
   "metadata": {},
   "outputs": [],
   "source": []
  }
 ],
 "metadata": {
  "kernelspec": {
   "display_name": "venv",
   "language": "python",
   "name": "python3"
  },
  "language_info": {
   "codemirror_mode": {
    "name": "ipython",
    "version": 3
   },
   "file_extension": ".py",
   "mimetype": "text/x-python",
   "name": "python",
   "nbconvert_exporter": "python",
   "pygments_lexer": "ipython3",
   "version": "3.11.5"
  }
 },
 "nbformat": 4,
 "nbformat_minor": 2
}
