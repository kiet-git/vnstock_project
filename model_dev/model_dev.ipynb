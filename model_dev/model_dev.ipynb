{
 "cells": [
  {
   "cell_type": "markdown",
   "metadata": {},
   "source": [
    "# Import libraries and load data"
   ]
  },
  {
   "cell_type": "code",
   "execution_count": 1,
   "metadata": {},
   "outputs": [],
   "source": [
    "import psycopg2\n",
    "import numpy as np\n",
    "import pandas as pd\n",
    "import matplotlib.pyplot as plt\n",
    "from sklearn.model_selection import train_test_split, GridSearchCV, cross_val_score, RandomizedSearchCV\n",
    "from sklearn.metrics import classification_report, roc_curve, auc, roc_auc_score\n",
    "from sklearn.dummy import DummyClassifier\n",
    "from sklearn.tree import DecisionTreeClassifier\n",
    "from sklearn.ensemble import RandomForestClassifier, HistGradientBoostingClassifier\n",
    "from xgboost import XGBClassifier, plot_importance\n",
    "from scipy.stats import uniform, randint\n",
    "from sklearn import tree"
   ]
  },
  {
   "cell_type": "code",
   "execution_count": 2,
   "metadata": {},
   "outputs": [],
   "source": [
    "\n",
    "db_params = {\n",
    "    \"host\": \"localhost\",\n",
    "    \"port\": \"5432\",\n",
    "    \"database\": \"vnstockdw\",\n",
    "    \"user\": \"postgres\",\n",
    "    \"password\": \"postgres\"\n",
    "}\n",
    "\n",
    "table_name = \"stock_history\"\n",
    "table_schema = \"public\"\n",
    "\n",
    "conn = psycopg2.connect(**db_params)\n",
    "\n",
    "cur = conn.cursor()\n",
    "\n",
    "cur.execute(f\"SELECT * FROM {table_name}\")\n",
    "\n",
    "rows = cur.fetchall()\n",
    "\n",
    "col_names = [desc[0] for desc in cur.description]\n",
    "\n",
    "stock_df = pd.DataFrame(rows, columns=col_names)\n",
    "\n",
    "cur.close()\n",
    "conn.close()"
   ]
  },
  {
   "cell_type": "markdown",
   "metadata": {},
   "source": [
    "### Data columns"
   ]
  },
  {
   "cell_type": "code",
   "execution_count": 3,
   "metadata": {},
   "outputs": [
    {
     "data": {
      "text/plain": [
       "Index(['created_at', 'updated_at', 'status', 'symbol', 'open', 'high', 'low',\n",
       "       'close', 'volume', 'date', 'price_change_to_1_day(s)_ago',\n",
       "       'price_change_to_2_day(s)_ago', 'price_change_to_3_day(s)_ago',\n",
       "       'volume_change_to_1_day(s)_ago', 'volume_change_to_2_day(s)_ago',\n",
       "       'volume_change_to_3_day(s)_ago', 'price_difference',\n",
       "       'median_volume_3_day(s)_periods', 'std_volume_3_day(s)_periods',\n",
       "       'median_price_change_3_day(s)_periods',\n",
       "       'std_price_change_3_day(s)_periods',\n",
       "       'median_volume_change_3_day(s)_periods',\n",
       "       'std_volume_change_3_day(s)_periods', 'sma_3_days', 'sma_5_days',\n",
       "       'wma_3_days', 'wma_5_days', 'ema_3_days', 'ema_5_days',\n",
       "       'bool_sma_3_days', 'bool_sma_5_days', 'bool_wma_3_days',\n",
       "       'bool_wma_5_days', 'bool_ema_3_days', 'bool_ema_5_days',\n",
       "       'macd_of_ema3_and_ema5', '%k_3_days', '%k_5_days', '%d_3_days',\n",
       "       '%d_5_days', 'rsi_3_days', 'rsi_5_days', 'williams_%r_3_days',\n",
       "       'ad_3_days', 'cci_3_days', 'bool_ad_3_days',\n",
       "       'bool_macd_of_ema3_and_ema5', 'bool_%k_3_days', 'bool_%k_5_days',\n",
       "       'bool_%d_3_days', 'bool_%d_5_days', 'bool_cci_3_days',\n",
       "       'bool_williams_%r_3_days', 'percentage_change_1_day(s)',\n",
       "       'percentage_change_2_day(s)', 'percentage_change_3_day(s)', 'obv',\n",
       "       'ft_min_6_days', 'ft_max_6_days', 'ft_mean_6_days'],\n",
       "      dtype='object')"
      ]
     },
     "execution_count": 3,
     "metadata": {},
     "output_type": "execute_result"
    }
   ],
   "source": [
    "stock_df.columns"
   ]
  },
  {
   "cell_type": "markdown",
   "metadata": {},
   "source": [
    "### Data shape"
   ]
  },
  {
   "cell_type": "code",
   "execution_count": 4,
   "metadata": {},
   "outputs": [
    {
     "data": {
      "text/plain": [
       "(906, 60)"
      ]
     },
     "execution_count": 4,
     "metadata": {},
     "output_type": "execute_result"
    }
   ],
   "source": [
    "stock_df.shape"
   ]
  },
  {
   "cell_type": "markdown",
   "metadata": {},
   "source": [
    "# Label Creation"
   ]
  },
  {
   "cell_type": "code",
   "execution_count": 5,
   "metadata": {},
   "outputs": [
    {
     "data": {
      "text/plain": [
       "date\n",
       "2024-01-05    71\n",
       "2024-01-19    69\n",
       "2024-01-03    66\n",
       "2024-01-12    66\n",
       "2024-01-11    65\n",
       "2024-01-08    65\n",
       "2024-01-02    64\n",
       "2024-01-04    64\n",
       "2024-01-09    63\n",
       "2024-01-10    63\n",
       "2024-01-15    63\n",
       "2024-01-18    63\n",
       "2024-01-16    62\n",
       "2024-01-17    62\n",
       "Name: count, dtype: int64"
      ]
     },
     "execution_count": 5,
     "metadata": {},
     "output_type": "execute_result"
    }
   ],
   "source": [
    "stock_df.date.value_counts()"
   ]
  },
  {
   "cell_type": "code",
   "execution_count": 6,
   "metadata": {},
   "outputs": [
    {
     "data": {
      "text/html": [
       "<div>\n",
       "<style scoped>\n",
       "    .dataframe tbody tr th:only-of-type {\n",
       "        vertical-align: middle;\n",
       "    }\n",
       "\n",
       "    .dataframe tbody tr th {\n",
       "        vertical-align: top;\n",
       "    }\n",
       "\n",
       "    .dataframe thead th {\n",
       "        text-align: right;\n",
       "    }\n",
       "</style>\n",
       "<table border=\"1\" class=\"dataframe\">\n",
       "  <thead>\n",
       "    <tr style=\"text-align: right;\">\n",
       "      <th></th>\n",
       "      <th>created_at</th>\n",
       "      <th>updated_at</th>\n",
       "      <th>status</th>\n",
       "      <th>symbol</th>\n",
       "      <th>open</th>\n",
       "      <th>high</th>\n",
       "      <th>low</th>\n",
       "      <th>close</th>\n",
       "      <th>volume</th>\n",
       "      <th>date</th>\n",
       "      <th>...</th>\n",
       "      <th>bool_cci_3_days</th>\n",
       "      <th>bool_williams_%r_3_days</th>\n",
       "      <th>percentage_change_1_day(s)</th>\n",
       "      <th>percentage_change_2_day(s)</th>\n",
       "      <th>percentage_change_3_day(s)</th>\n",
       "      <th>obv</th>\n",
       "      <th>ft_min_6_days</th>\n",
       "      <th>ft_max_6_days</th>\n",
       "      <th>ft_mean_6_days</th>\n",
       "      <th>label</th>\n",
       "    </tr>\n",
       "  </thead>\n",
       "  <tbody>\n",
       "    <tr>\n",
       "      <th>0</th>\n",
       "      <td>2024-01-25 11:22:06.885941</td>\n",
       "      <td>2024-01-25 11:22:06.885941</td>\n",
       "      <td>True</td>\n",
       "      <td>A32</td>\n",
       "      <td>31000.0</td>\n",
       "      <td>31000.0</td>\n",
       "      <td>31000.0</td>\n",
       "      <td>31000.0</td>\n",
       "      <td>400.0</td>\n",
       "      <td>2024-01-02</td>\n",
       "      <td>...</td>\n",
       "      <td>NaN</td>\n",
       "      <td>NaN</td>\n",
       "      <td>NaN</td>\n",
       "      <td>NaN</td>\n",
       "      <td>NaN</td>\n",
       "      <td>NaN</td>\n",
       "      <td>NaN</td>\n",
       "      <td>NaN</td>\n",
       "      <td>NaN</td>\n",
       "      <td>None</td>\n",
       "    </tr>\n",
       "    <tr>\n",
       "      <th>1</th>\n",
       "      <td>2024-01-25 11:22:06.885941</td>\n",
       "      <td>2024-01-25 11:22:06.885941</td>\n",
       "      <td>True</td>\n",
       "      <td>A32</td>\n",
       "      <td>30000.0</td>\n",
       "      <td>30000.0</td>\n",
       "      <td>29700.0</td>\n",
       "      <td>30000.0</td>\n",
       "      <td>1000.0</td>\n",
       "      <td>2024-01-03</td>\n",
       "      <td>...</td>\n",
       "      <td>NaN</td>\n",
       "      <td>-1.0</td>\n",
       "      <td>-0.033333</td>\n",
       "      <td>NaN</td>\n",
       "      <td>NaN</td>\n",
       "      <td>-1000.0</td>\n",
       "      <td>0.500000</td>\n",
       "      <td>0.500000</td>\n",
       "      <td>0.500000</td>\n",
       "      <td>None</td>\n",
       "    </tr>\n",
       "    <tr>\n",
       "      <th>2</th>\n",
       "      <td>2024-01-25 11:22:06.885941</td>\n",
       "      <td>2024-01-25 11:22:06.885941</td>\n",
       "      <td>True</td>\n",
       "      <td>A32</td>\n",
       "      <td>30000.0</td>\n",
       "      <td>30000.0</td>\n",
       "      <td>30000.0</td>\n",
       "      <td>30000.0</td>\n",
       "      <td>200.0</td>\n",
       "      <td>2024-01-04</td>\n",
       "      <td>...</td>\n",
       "      <td>-1.0</td>\n",
       "      <td>-1.0</td>\n",
       "      <td>0.000000</td>\n",
       "      <td>-0.033333</td>\n",
       "      <td>-0.033333</td>\n",
       "      <td>0.0</td>\n",
       "      <td>0.333333</td>\n",
       "      <td>0.333333</td>\n",
       "      <td>0.333333</td>\n",
       "      <td>None</td>\n",
       "    </tr>\n",
       "    <tr>\n",
       "      <th>3</th>\n",
       "      <td>2024-01-25 11:22:06.885941</td>\n",
       "      <td>2024-01-25 11:22:06.885941</td>\n",
       "      <td>True</td>\n",
       "      <td>A32</td>\n",
       "      <td>29700.0</td>\n",
       "      <td>34000.0</td>\n",
       "      <td>29700.0</td>\n",
       "      <td>34000.0</td>\n",
       "      <td>1500.0</td>\n",
       "      <td>2024-01-11</td>\n",
       "      <td>...</td>\n",
       "      <td>1.0</td>\n",
       "      <td>1.0</td>\n",
       "      <td>0.117647</td>\n",
       "      <td>0.117647</td>\n",
       "      <td>0.000000</td>\n",
       "      <td>1500.0</td>\n",
       "      <td>0.250000</td>\n",
       "      <td>0.500000</td>\n",
       "      <td>0.333333</td>\n",
       "      <td>None</td>\n",
       "    </tr>\n",
       "    <tr>\n",
       "      <th>4</th>\n",
       "      <td>2024-01-25 11:22:06.885941</td>\n",
       "      <td>2024-01-25 11:22:06.885941</td>\n",
       "      <td>True</td>\n",
       "      <td>A32</td>\n",
       "      <td>33000.0</td>\n",
       "      <td>33000.0</td>\n",
       "      <td>33000.0</td>\n",
       "      <td>33000.0</td>\n",
       "      <td>100.0</td>\n",
       "      <td>2024-01-16</td>\n",
       "      <td>...</td>\n",
       "      <td>-1.0</td>\n",
       "      <td>-1.0</td>\n",
       "      <td>-0.030303</td>\n",
       "      <td>0.090909</td>\n",
       "      <td>-0.030303</td>\n",
       "      <td>-100.0</td>\n",
       "      <td>0.200000</td>\n",
       "      <td>0.400000</td>\n",
       "      <td>0.300000</td>\n",
       "      <td>1</td>\n",
       "    </tr>\n",
       "  </tbody>\n",
       "</table>\n",
       "<p>5 rows × 61 columns</p>\n",
       "</div>"
      ],
      "text/plain": [
       "                  created_at                 updated_at  status symbol  \\\n",
       "0 2024-01-25 11:22:06.885941 2024-01-25 11:22:06.885941    True    A32   \n",
       "1 2024-01-25 11:22:06.885941 2024-01-25 11:22:06.885941    True    A32   \n",
       "2 2024-01-25 11:22:06.885941 2024-01-25 11:22:06.885941    True    A32   \n",
       "3 2024-01-25 11:22:06.885941 2024-01-25 11:22:06.885941    True    A32   \n",
       "4 2024-01-25 11:22:06.885941 2024-01-25 11:22:06.885941    True    A32   \n",
       "\n",
       "      open     high      low    close  volume       date  ...  \\\n",
       "0  31000.0  31000.0  31000.0  31000.0   400.0 2024-01-02  ...   \n",
       "1  30000.0  30000.0  29700.0  30000.0  1000.0 2024-01-03  ...   \n",
       "2  30000.0  30000.0  30000.0  30000.0   200.0 2024-01-04  ...   \n",
       "3  29700.0  34000.0  29700.0  34000.0  1500.0 2024-01-11  ...   \n",
       "4  33000.0  33000.0  33000.0  33000.0   100.0 2024-01-16  ...   \n",
       "\n",
       "   bool_cci_3_days  bool_williams_%r_3_days  percentage_change_1_day(s)  \\\n",
       "0              NaN                      NaN                         NaN   \n",
       "1              NaN                     -1.0                   -0.033333   \n",
       "2             -1.0                     -1.0                    0.000000   \n",
       "3              1.0                      1.0                    0.117647   \n",
       "4             -1.0                     -1.0                   -0.030303   \n",
       "\n",
       "   percentage_change_2_day(s)  percentage_change_3_day(s)     obv  \\\n",
       "0                         NaN                         NaN     NaN   \n",
       "1                         NaN                         NaN -1000.0   \n",
       "2                   -0.033333                   -0.033333     0.0   \n",
       "3                    0.117647                    0.000000  1500.0   \n",
       "4                    0.090909                   -0.030303  -100.0   \n",
       "\n",
       "   ft_min_6_days  ft_max_6_days  ft_mean_6_days  label  \n",
       "0            NaN            NaN             NaN   None  \n",
       "1       0.500000       0.500000        0.500000   None  \n",
       "2       0.333333       0.333333        0.333333   None  \n",
       "3       0.250000       0.500000        0.333333   None  \n",
       "4       0.200000       0.400000        0.300000      1  \n",
       "\n",
       "[5 rows x 61 columns]"
      ]
     },
     "execution_count": 6,
     "metadata": {},
     "output_type": "execute_result"
    }
   ],
   "source": [
    "stock_df['date'] = pd.to_datetime(stock_df['date'])\n",
    "\n",
    "stock_df['label'] = None\n",
    "\n",
    "for index, row in stock_df.iterrows():\n",
    "    future_rows = stock_df[(stock_df['date'] == row['date'] + pd.DateOffset(days=3)) & (stock_df['symbol'] == row['symbol'])]\n",
    "    if not future_rows.empty:\n",
    "        future_row = future_rows.iloc[0] \n",
    "        price_difference = future_row['close'] - row['close']\n",
    "        if price_difference > 0:\n",
    "            stock_df.at[index, 'label'] = 1\n",
    "        else:\n",
    "            stock_df.at[index, 'label'] = 0\n",
    "\n",
    "stock_df.head()"
   ]
  },
  {
   "cell_type": "markdown",
   "metadata": {},
   "source": [
    "Check transformation integrity"
   ]
  },
  {
   "cell_type": "code",
   "execution_count": 7,
   "metadata": {},
   "outputs": [
    {
     "name": "stdout",
     "output_type": "stream",
     "text": [
      "Sample Date: 2024-01-09 00:00:00, Symbol: APC, Close: 9500.0, Label: 1\n",
      "Records 3 Days Later:\n",
      "APC 2024-01-12 9620.0 0\n",
      "\n",
      "Sample Date: 2024-01-09 00:00:00, Symbol: ACC, Close: 12300.0, Label: 0\n",
      "Records 3 Days Later:\n",
      "ACC 2024-01-12 12200.0 0\n",
      "\n",
      "Sample Date: 2024-01-03 00:00:00, Symbol: AST, Close: 50000.0, Label: None\n",
      "Records 3 Days Later:\n",
      "Empty DataFrame\n",
      "Columns: [symbol, date, close, label]\n",
      "Index: []\n",
      "\n",
      "Sample Date: 2024-01-02 00:00:00, Symbol: BDT, Close: 13800.0, Label: 1\n",
      "Records 3 Days Later:\n",
      "BDT 2024-01-05 14200.0 0\n",
      "\n",
      "Sample Date: 2024-01-04 00:00:00, Symbol: BCC, Close: 9600.0, Label: None\n",
      "Records 3 Days Later:\n",
      "Empty DataFrame\n",
      "Columns: [symbol, date, close, label]\n",
      "Index: []\n",
      "\n"
     ]
    }
   ],
   "source": [
    "sample_rows = stock_df.sample(5) \n",
    "\n",
    "for index, sample_row in sample_rows.iterrows():\n",
    "    symbol = sample_row['symbol']\n",
    "    sample_date = sample_row['date']\n",
    "    close = sample_row['close']\n",
    "    label = sample_row['label']\n",
    "    \n",
    "    print(f\"Sample Date: {sample_date}, Symbol: {symbol}, Close: {close}, Label: {label}\")\n",
    "\n",
    "    future_records = stock_df[(stock_df['date'] == sample_date + pd.DateOffset(days=3)) & (stock_df['symbol'] == symbol)]\n",
    "    print(\"Records 3 Days Later:\")\n",
    "    print(future_records[['symbol', 'date', 'close', 'label']].to_string(index=False, header=False))\n",
    "    print()\n"
   ]
  },
  {
   "cell_type": "code",
   "execution_count": 8,
   "metadata": {},
   "outputs": [
    {
     "name": "stdout",
     "output_type": "stream",
     "text": [
      "(406, 61)\n"
     ]
    },
    {
     "name": "stderr",
     "output_type": "stream",
     "text": [
      "/var/folders/x1/372sp1hn2fs8wfj7nl_xj3s80000gn/T/ipykernel_29985/572843370.py:2: SettingWithCopyWarning: \n",
      "A value is trying to be set on a copy of a slice from a DataFrame.\n",
      "Try using .loc[row_indexer,col_indexer] = value instead\n",
      "\n",
      "See the caveats in the documentation: https://pandas.pydata.org/pandas-docs/stable/user_guide/indexing.html#returning-a-view-versus-a-copy\n",
      "  filtered_df['label'] = filtered_df['label'].astype(int)\n"
     ]
    },
    {
     "data": {
      "text/html": [
       "<div>\n",
       "<style scoped>\n",
       "    .dataframe tbody tr th:only-of-type {\n",
       "        vertical-align: middle;\n",
       "    }\n",
       "\n",
       "    .dataframe tbody tr th {\n",
       "        vertical-align: top;\n",
       "    }\n",
       "\n",
       "    .dataframe thead th {\n",
       "        text-align: right;\n",
       "    }\n",
       "</style>\n",
       "<table border=\"1\" class=\"dataframe\">\n",
       "  <thead>\n",
       "    <tr style=\"text-align: right;\">\n",
       "      <th></th>\n",
       "      <th>created_at</th>\n",
       "      <th>updated_at</th>\n",
       "      <th>status</th>\n",
       "      <th>symbol</th>\n",
       "      <th>open</th>\n",
       "      <th>high</th>\n",
       "      <th>low</th>\n",
       "      <th>close</th>\n",
       "      <th>volume</th>\n",
       "      <th>date</th>\n",
       "      <th>...</th>\n",
       "      <th>bool_cci_3_days</th>\n",
       "      <th>bool_williams_%r_3_days</th>\n",
       "      <th>percentage_change_1_day(s)</th>\n",
       "      <th>percentage_change_2_day(s)</th>\n",
       "      <th>percentage_change_3_day(s)</th>\n",
       "      <th>obv</th>\n",
       "      <th>ft_min_6_days</th>\n",
       "      <th>ft_max_6_days</th>\n",
       "      <th>ft_mean_6_days</th>\n",
       "      <th>label</th>\n",
       "    </tr>\n",
       "  </thead>\n",
       "  <tbody>\n",
       "    <tr>\n",
       "      <th>4</th>\n",
       "      <td>2024-01-25 11:22:06.885941</td>\n",
       "      <td>2024-01-25 11:22:06.885941</td>\n",
       "      <td>True</td>\n",
       "      <td>A32</td>\n",
       "      <td>33000.0</td>\n",
       "      <td>33000.0</td>\n",
       "      <td>33000.0</td>\n",
       "      <td>33000.0</td>\n",
       "      <td>100.0</td>\n",
       "      <td>2024-01-16</td>\n",
       "      <td>...</td>\n",
       "      <td>-1.0</td>\n",
       "      <td>-1.0</td>\n",
       "      <td>-0.030303</td>\n",
       "      <td>0.090909</td>\n",
       "      <td>-0.030303</td>\n",
       "      <td>-100.0</td>\n",
       "      <td>0.200000</td>\n",
       "      <td>0.4</td>\n",
       "      <td>0.300000</td>\n",
       "      <td>1</td>\n",
       "    </tr>\n",
       "    <tr>\n",
       "      <th>7</th>\n",
       "      <td>2024-01-25 11:22:06.885941</td>\n",
       "      <td>2024-01-25 11:22:06.885941</td>\n",
       "      <td>True</td>\n",
       "      <td>AAA</td>\n",
       "      <td>9490.0</td>\n",
       "      <td>9540.0</td>\n",
       "      <td>9390.0</td>\n",
       "      <td>9430.0</td>\n",
       "      <td>1693400.0</td>\n",
       "      <td>2024-01-02</td>\n",
       "      <td>...</td>\n",
       "      <td>NaN</td>\n",
       "      <td>-1.0</td>\n",
       "      <td>NaN</td>\n",
       "      <td>NaN</td>\n",
       "      <td>NaN</td>\n",
       "      <td>NaN</td>\n",
       "      <td>NaN</td>\n",
       "      <td>NaN</td>\n",
       "      <td>NaN</td>\n",
       "      <td>1</td>\n",
       "    </tr>\n",
       "    <tr>\n",
       "      <th>10</th>\n",
       "      <td>2024-01-25 11:22:06.885941</td>\n",
       "      <td>2024-01-25 11:22:06.885941</td>\n",
       "      <td>True</td>\n",
       "      <td>AAA</td>\n",
       "      <td>9600.0</td>\n",
       "      <td>9670.0</td>\n",
       "      <td>9480.0</td>\n",
       "      <td>9530.0</td>\n",
       "      <td>2233000.0</td>\n",
       "      <td>2024-01-05</td>\n",
       "      <td>...</td>\n",
       "      <td>-1.0</td>\n",
       "      <td>-1.0</td>\n",
       "      <td>-0.007345</td>\n",
       "      <td>-0.009444</td>\n",
       "      <td>-0.009444</td>\n",
       "      <td>-2233000.0</td>\n",
       "      <td>0.250000</td>\n",
       "      <td>0.5</td>\n",
       "      <td>0.333333</td>\n",
       "      <td>1</td>\n",
       "    </tr>\n",
       "    <tr>\n",
       "      <th>11</th>\n",
       "      <td>2024-01-25 11:22:06.885941</td>\n",
       "      <td>2024-01-25 11:22:06.885941</td>\n",
       "      <td>True</td>\n",
       "      <td>AAA</td>\n",
       "      <td>9590.0</td>\n",
       "      <td>9730.0</td>\n",
       "      <td>9540.0</td>\n",
       "      <td>9700.0</td>\n",
       "      <td>4264900.0</td>\n",
       "      <td>2024-01-08</td>\n",
       "      <td>...</td>\n",
       "      <td>1.0</td>\n",
       "      <td>1.0</td>\n",
       "      <td>0.017526</td>\n",
       "      <td>0.010309</td>\n",
       "      <td>0.000000</td>\n",
       "      <td>4264900.0</td>\n",
       "      <td>0.200000</td>\n",
       "      <td>0.4</td>\n",
       "      <td>0.300000</td>\n",
       "      <td>1</td>\n",
       "    </tr>\n",
       "    <tr>\n",
       "      <th>12</th>\n",
       "      <td>2024-01-25 11:22:06.885941</td>\n",
       "      <td>2024-01-25 11:22:06.885941</td>\n",
       "      <td>True</td>\n",
       "      <td>AAA</td>\n",
       "      <td>9770.0</td>\n",
       "      <td>9820.0</td>\n",
       "      <td>9660.0</td>\n",
       "      <td>9670.0</td>\n",
       "      <td>3021100.0</td>\n",
       "      <td>2024-01-09</td>\n",
       "      <td>...</td>\n",
       "      <td>1.0</td>\n",
       "      <td>-1.0</td>\n",
       "      <td>-0.003102</td>\n",
       "      <td>0.014478</td>\n",
       "      <td>-0.003102</td>\n",
       "      <td>-3021100.0</td>\n",
       "      <td>0.166667</td>\n",
       "      <td>0.5</td>\n",
       "      <td>0.300000</td>\n",
       "      <td>0</td>\n",
       "    </tr>\n",
       "  </tbody>\n",
       "</table>\n",
       "<p>5 rows × 61 columns</p>\n",
       "</div>"
      ],
      "text/plain": [
       "                   created_at                 updated_at  status symbol  \\\n",
       "4  2024-01-25 11:22:06.885941 2024-01-25 11:22:06.885941    True    A32   \n",
       "7  2024-01-25 11:22:06.885941 2024-01-25 11:22:06.885941    True    AAA   \n",
       "10 2024-01-25 11:22:06.885941 2024-01-25 11:22:06.885941    True    AAA   \n",
       "11 2024-01-25 11:22:06.885941 2024-01-25 11:22:06.885941    True    AAA   \n",
       "12 2024-01-25 11:22:06.885941 2024-01-25 11:22:06.885941    True    AAA   \n",
       "\n",
       "       open     high      low    close     volume       date  ...  \\\n",
       "4   33000.0  33000.0  33000.0  33000.0      100.0 2024-01-16  ...   \n",
       "7    9490.0   9540.0   9390.0   9430.0  1693400.0 2024-01-02  ...   \n",
       "10   9600.0   9670.0   9480.0   9530.0  2233000.0 2024-01-05  ...   \n",
       "11   9590.0   9730.0   9540.0   9700.0  4264900.0 2024-01-08  ...   \n",
       "12   9770.0   9820.0   9660.0   9670.0  3021100.0 2024-01-09  ...   \n",
       "\n",
       "    bool_cci_3_days  bool_williams_%r_3_days  percentage_change_1_day(s)  \\\n",
       "4              -1.0                     -1.0                   -0.030303   \n",
       "7               NaN                     -1.0                         NaN   \n",
       "10             -1.0                     -1.0                   -0.007345   \n",
       "11              1.0                      1.0                    0.017526   \n",
       "12              1.0                     -1.0                   -0.003102   \n",
       "\n",
       "    percentage_change_2_day(s)  percentage_change_3_day(s)        obv  \\\n",
       "4                     0.090909                   -0.030303     -100.0   \n",
       "7                          NaN                         NaN        NaN   \n",
       "10                   -0.009444                   -0.009444 -2233000.0   \n",
       "11                    0.010309                    0.000000  4264900.0   \n",
       "12                    0.014478                   -0.003102 -3021100.0   \n",
       "\n",
       "    ft_min_6_days  ft_max_6_days  ft_mean_6_days  label  \n",
       "4        0.200000            0.4        0.300000      1  \n",
       "7             NaN            NaN             NaN      1  \n",
       "10       0.250000            0.5        0.333333      1  \n",
       "11       0.200000            0.4        0.300000      1  \n",
       "12       0.166667            0.5        0.300000      0  \n",
       "\n",
       "[5 rows x 61 columns]"
      ]
     },
     "execution_count": 8,
     "metadata": {},
     "output_type": "execute_result"
    }
   ],
   "source": [
    "filtered_df = stock_df.dropna(subset=['label'])\n",
    "filtered_df['label'] = filtered_df['label'].astype(int)\n",
    "print(filtered_df.shape)\n",
    "filtered_df.head()"
   ]
  },
  {
   "cell_type": "markdown",
   "metadata": {},
   "source": [
    "# EDA?"
   ]
  },
  {
   "cell_type": "code",
   "execution_count": 9,
   "metadata": {},
   "outputs": [
    {
     "name": "stdout",
     "output_type": "stream",
     "text": [
      "Numbers of positive: 168\n",
      "Numbers of negative: 0\n"
     ]
    }
   ],
   "source": [
    "num_positive = filtered_df[filtered_df[\"label\"] == 1].shape[0]\n",
    "print(\"Numbers of positive:\", num_positive)\n",
    "num_negative = filtered_df[filtered_df[\"label\"] == -1].shape[0]\n",
    "print(\"Numbers of negative:\", num_negative)"
   ]
  },
  {
   "cell_type": "code",
   "execution_count": 10,
   "metadata": {},
   "outputs": [
    {
     "data": {
      "text/plain": [
       "label\n",
       "0    238\n",
       "1    168\n",
       "Name: count, dtype: int64"
      ]
     },
     "execution_count": 10,
     "metadata": {},
     "output_type": "execute_result"
    }
   ],
   "source": [
    "filtered_df.label.value_counts()"
   ]
  },
  {
   "cell_type": "markdown",
   "metadata": {},
   "source": [
    "# Dimensionality Reduction"
   ]
  },
  {
   "cell_type": "code",
   "execution_count": 11,
   "metadata": {},
   "outputs": [],
   "source": [
    "#..."
   ]
  },
  {
   "cell_type": "markdown",
   "metadata": {},
   "source": [
    "# Models Training"
   ]
  },
  {
   "cell_type": "markdown",
   "metadata": {},
   "source": [
    "## Split data"
   ]
  },
  {
   "cell_type": "code",
   "execution_count": 12,
   "metadata": {},
   "outputs": [
    {
     "data": {
      "text/plain": [
       "((304, 55), (102, 55), (304,), (102,))"
      ]
     },
     "execution_count": 12,
     "metadata": {},
     "output_type": "execute_result"
    }
   ],
   "source": [
    "X = filtered_df.drop(columns=['label', 'created_at', 'updated_at', 'status', 'symbol', 'date'], axis=1)\n",
    "y = filtered_df[\"label\"]\n",
    "\n",
    "X_train, X_test, y_train, y_test = train_test_split(X, y, random_state=42, stratify=y)\n",
    "X_train.shape, X_test.shape, y_train.shape, y_test.shape"
   ]
  },
  {
   "cell_type": "code",
   "execution_count": 13,
   "metadata": {},
   "outputs": [],
   "source": [
    "#For models that cannot take -1\n",
    "y_mod_train = y_train.replace(0, -1)\n",
    "y_mod_test = y_test.replace(0, -1)"
   ]
  },
  {
   "cell_type": "markdown",
   "metadata": {},
   "source": [
    "## Benchmark models\n",
    "### Dummy model"
   ]
  },
  {
   "cell_type": "code",
   "execution_count": 14,
   "metadata": {},
   "outputs": [
    {
     "name": "stdout",
     "output_type": "stream",
     "text": [
      "Dummy Classifier Test Accuracy: 0.5588235294117647\n"
     ]
    }
   ],
   "source": [
    "dummy_majority = DummyClassifier(strategy = 'stratified').fit(X_train, y_train)\n",
    "\n",
    "dummy_score = dummy_majority.score(X_test, y_test)\n",
    "print(\"Dummy Classifier Test Accuracy:\", dummy_score)"
   ]
  },
  {
   "cell_type": "code",
   "execution_count": 15,
   "metadata": {},
   "outputs": [
    {
     "name": "stdout",
     "output_type": "stream",
     "text": [
      "              precision    recall  f1-score   support\n",
      "\n",
      "       not 1       0.57      0.50      0.53        60\n",
      "           1       0.39      0.45      0.42        42\n",
      "\n",
      "    accuracy                           0.48       102\n",
      "   macro avg       0.48      0.48      0.47       102\n",
      "weighted avg       0.49      0.48      0.48       102\n",
      "\n"
     ]
    }
   ],
   "source": [
    "y_dummy_predictions = dummy_majority.predict(X_test)\n",
    "print(classification_report(y_test, y_dummy_predictions, target_names=['not 1', '1']))"
   ]
  },
  {
   "cell_type": "markdown",
   "metadata": {},
   "source": [
    "## Decision Tree"
   ]
  },
  {
   "cell_type": "code",
   "execution_count": 108,
   "metadata": {},
   "outputs": [],
   "source": [
    "def print_model_evaluation_metrics(forest_clf, X_train, y_train, X_test, y_test):\n",
    "    # Train Accuracy\n",
    "    train_accuracy = forest_clf.score(X_train, y_train)\n",
    "    print(\"Train Accuracy: {:.3f}\".format(train_accuracy))\n",
    "\n",
    "    # Test Accuracy\n",
    "    test_accuracy = forest_clf.score(X_test, y_test)\n",
    "    print(\"Test Accuracy: {:.3f}\".format(test_accuracy))\n",
    "\n",
    "    # Train AUC\n",
    "    y_train_predicted = forest_clf.predict(X_train)\n",
    "    train_auc = roc_auc_score(y_train, y_train_predicted)\n",
    "    print('Train AUC: {:.3f}'.format(train_auc))\n",
    "\n",
    "    # Test AUC\n",
    "    y_test_predicted = forest_clf.predict(X_test)\n",
    "    test_auc = roc_auc_score(y_test, y_test_predicted)\n",
    "    print('Test AUC: {:.3f}'.format(test_auc))\n",
    "\n",
    "    # Classification Report\n",
    "    print('Classification Report:')\n",
    "    print(classification_report(y_test, y_test_predicted, target_names=['not 1', '1']))"
   ]
  },
  {
   "cell_type": "code",
   "execution_count": 109,
   "metadata": {},
   "outputs": [
    {
     "name": "stdout",
     "output_type": "stream",
     "text": [
      "Train Accuracy: 1.000\n",
      "Test Accuracy: 0.549\n",
      "Train AUC: 1.000\n",
      "Test AUC: 0.538\n",
      "Classification Report:\n",
      "              precision    recall  f1-score   support\n",
      "\n",
      "       not 1       0.62      0.60      0.61        60\n",
      "           1       0.45      0.48      0.47        42\n",
      "\n",
      "    accuracy                           0.55       102\n",
      "   macro avg       0.54      0.54      0.54       102\n",
      "weighted avg       0.55      0.55      0.55       102\n",
      "\n"
     ]
    }
   ],
   "source": [
    "tree_clf = DecisionTreeClassifier().fit(X_train, y_train)\n",
    "print_model_evaluation_metrics(tree_clf, X_train, y_train, X_test, y_test)"
   ]
  },
  {
   "cell_type": "code",
   "execution_count": 110,
   "metadata": {},
   "outputs": [
    {
     "name": "stdout",
     "output_type": "stream",
     "text": [
      "Train Accuracy: 0.674\n",
      "Test Accuracy: 0.618\n",
      "Train AUC: 0.607\n",
      "Test AUC: 0.554\n",
      "Classification Report:\n",
      "              precision    recall  f1-score   support\n",
      "\n",
      "       not 1       0.62      0.92      0.74        60\n",
      "           1       0.62      0.19      0.29        42\n",
      "\n",
      "    accuracy                           0.62       102\n",
      "   macro avg       0.62      0.55      0.51       102\n",
      "weighted avg       0.62      0.62      0.55       102\n",
      "\n"
     ]
    }
   ],
   "source": [
    "tree_clf = DecisionTreeClassifier(max_depth = 3).fit(X_train, y_train)\n",
    "print_model_evaluation_metrics(tree_clf, X_train, y_train, X_test, y_test)"
   ]
  },
  {
   "cell_type": "code",
   "execution_count": 31,
   "metadata": {},
   "outputs": [
    {
     "data": {
      "text/plain": [
       "[Text(0.5, 0.875, 'x[2] <= 45850.0\\ngini = 0.485\\nsamples = 304\\nvalue = [178, 126]'),\n",
       " Text(0.25, 0.625, 'x[30] <= -6.448\\ngini = 0.475\\nsamples = 276\\nvalue = [169.0, 107.0]'),\n",
       " Text(0.125, 0.375, 'x[30] <= -9.181\\ngini = 0.495\\nsamples = 184\\nvalue = [101, 83]'),\n",
       " Text(0.0625, 0.125, 'gini = 0.49\\nsamples = 177\\nvalue = [101, 76]'),\n",
       " Text(0.1875, 0.125, 'gini = 0.0\\nsamples = 7\\nvalue = [0, 7]'),\n",
       " Text(0.375, 0.375, 'x[35] <= 95.793\\ngini = 0.386\\nsamples = 92\\nvalue = [68, 24]'),\n",
       " Text(0.3125, 0.125, 'gini = 0.361\\nsamples = 89\\nvalue = [68, 21]'),\n",
       " Text(0.4375, 0.125, 'gini = 0.0\\nsamples = 3\\nvalue = [0, 3]'),\n",
       " Text(0.75, 0.625, 'x[3] <= 59800.0\\ngini = 0.436\\nsamples = 28\\nvalue = [9, 19]'),\n",
       " Text(0.625, 0.375, 'x[14] <= 1200.0\\ngini = 0.111\\nsamples = 17\\nvalue = [1, 16]'),\n",
       " Text(0.5625, 0.125, 'gini = 0.0\\nsamples = 16\\nvalue = [0, 16]'),\n",
       " Text(0.6875, 0.125, 'gini = 0.0\\nsamples = 1\\nvalue = [1, 0]'),\n",
       " Text(0.875, 0.375, 'x[34] <= 24.231\\ngini = 0.397\\nsamples = 11\\nvalue = [8, 3]'),\n",
       " Text(0.8125, 0.125, 'gini = 0.0\\nsamples = 2\\nvalue = [0, 2]'),\n",
       " Text(0.9375, 0.125, 'gini = 0.198\\nsamples = 9\\nvalue = [8, 1]')]"
      ]
     },
     "execution_count": 31,
     "metadata": {},
     "output_type": "execute_result"
    },
    {
     "data": {
      "image/png": "[encoded data removed]",
      "text/plain": [
       "<Figure size 640x480 with 1 Axes>"
      ]
     },
     "metadata": {},
     "output_type": "display_data"
    }
   ],
   "source": [
    "tree.plot_tree(tree_clf)"
   ]
  },
  {
   "cell_type": "code",
   "execution_count": 33,
   "metadata": {},
   "outputs": [
    {
     "name": "stdout",
     "output_type": "stream",
     "text": [
      "Model AUC: 0.5702380952380952\n"
     ]
    },
    {
     "data": {
      "image/png": "[encoded data removed]",
      "text/plain": [
       "<Figure size 640x480 with 1 Axes>"
      ]
     },
     "metadata": {},
     "output_type": "display_data"
    }
   ],
   "source": [
    "fpr_lr, tpr_lr, _ = roc_curve(y_test, tree_clf.predict(y_train))\n",
    "roc_auc_lr = auc(fpr_lr, tpr_lr)\n",
    "print(\"Model AUC:\", roc_auc_lr)\n",
    "\n",
    "plt.figure()\n",
    "plt.xlim([-0.01, 1.00])\n",
    "plt.ylim([-0.01, 1.01])\n",
    "plt.plot(fpr_lr, tpr_lr, lw=3, label='LogRegr ROC curve (area = {:0.2f})'.format(roc_auc_lr))\n",
    "plt.xlabel('False Positive Rate', fontsize=16)\n",
    "plt.ylabel('True Positive Rate', fontsize=16)\n",
    "plt.title('ROC curve (1-of-10 digits classifier)', fontsize=16)\n",
    "plt.legend(loc='lower right', fontsize=13)\n",
    "plt.plot([0, 1], [0, 1], color='navy', lw=3, linestyle='--')\n",
    "plt.show()"
   ]
  },
  {
   "cell_type": "code",
   "execution_count": 68,
   "metadata": {},
   "outputs": [
    {
     "data": {
      "text/html": [
       "<div>\n",
       "<style scoped>\n",
       "    .dataframe tbody tr th:only-of-type {\n",
       "        vertical-align: middle;\n",
       "    }\n",
       "\n",
       "    .dataframe tbody tr th {\n",
       "        vertical-align: top;\n",
       "    }\n",
       "\n",
       "    .dataframe thead th {\n",
       "        text-align: right;\n",
       "    }\n",
       "</style>\n",
       "<table border=\"1\" class=\"dataframe\">\n",
       "  <thead>\n",
       "    <tr style=\"text-align: right;\">\n",
       "      <th></th>\n",
       "      <th>Metric</th>\n",
       "      <th>Cross-validated Scores</th>\n",
       "      <th>Mean Cross-validated Score</th>\n",
       "    </tr>\n",
       "  </thead>\n",
       "  <tbody>\n",
       "    <tr>\n",
       "      <th>0</th>\n",
       "      <td>Accuracy</td>\n",
       "      <td>[0.5853658536585366, 0.5679012345679012, 0.592...</td>\n",
       "      <td>0.552</td>\n",
       "    </tr>\n",
       "    <tr>\n",
       "      <th>1</th>\n",
       "      <td>Precision</td>\n",
       "      <td>[0.5, 0.3333333333333333, 0.5161290322580645, ...</td>\n",
       "      <td>0.389</td>\n",
       "    </tr>\n",
       "    <tr>\n",
       "      <th>2</th>\n",
       "      <td>Recall</td>\n",
       "      <td>[0.14705882352941177, 0.029411764705882353, 0....</td>\n",
       "      <td>0.202</td>\n",
       "    </tr>\n",
       "    <tr>\n",
       "      <th>3</th>\n",
       "      <td>F1</td>\n",
       "      <td>[0.22727272727272727, 0.05405405405405406, 0.4...</td>\n",
       "      <td>0.243</td>\n",
       "    </tr>\n",
       "    <tr>\n",
       "      <th>4</th>\n",
       "      <td>Roc_auc</td>\n",
       "      <td>[0.5199142156862745, 0.48623279098873595, 0.59...</td>\n",
       "      <td>0.505</td>\n",
       "    </tr>\n",
       "  </tbody>\n",
       "</table>\n",
       "</div>"
      ],
      "text/plain": [
       "      Metric                             Cross-validated Scores  \\\n",
       "0   Accuracy  [0.5853658536585366, 0.5679012345679012, 0.592...   \n",
       "1  Precision  [0.5, 0.3333333333333333, 0.5161290322580645, ...   \n",
       "2     Recall  [0.14705882352941177, 0.029411764705882353, 0....   \n",
       "3         F1  [0.22727272727272727, 0.05405405405405406, 0.4...   \n",
       "4    Roc_auc  [0.5199142156862745, 0.48623279098873595, 0.59...   \n",
       "\n",
       "  Mean Cross-validated Score  \n",
       "0                      0.552  \n",
       "1                      0.389  \n",
       "2                      0.202  \n",
       "3                      0.243  \n",
       "4                      0.505  "
      ]
     },
     "execution_count": 68,
     "metadata": {},
     "output_type": "execute_result"
    }
   ],
   "source": [
    "def cross_val_scores(tree_clf, X, y, cv=5):\n",
    "    scoring_metrics = ['accuracy', 'precision', 'recall', 'f1', 'roc_auc']\n",
    "    \n",
    "    cv_results = {'Metric': [], 'Cross-validated Scores': [], 'Mean Cross-validated Score': []}\n",
    "    \n",
    "    for metric in scoring_metrics:\n",
    "        cv_scores = cross_val_score(tree_clf, X, y, cv=cv, scoring=metric)\n",
    "        cv_results['Metric'].append(metric.capitalize())\n",
    "        cv_results['Cross-validated Scores'].append(cv_scores)\n",
    "        mean_score = cv_scores.mean()\n",
    "        cv_results['Mean Cross-validated Score'].append('{:.3f}'.format(mean_score))\n",
    "            \n",
    "    df = pd.DataFrame(cv_results)\n",
    "    \n",
    "    return df\n",
    "\n",
    "cv_scores_df = cross_val_scores(tree_clf, X, y)\n",
    "cv_scores_df"
   ]
  },
  {
   "cell_type": "code",
   "execution_count": 35,
   "metadata": {},
   "outputs": [
    {
     "data": {
      "image/png": "[encoded data removed]",
      "text/plain": [
       "<Figure size 800x320 with 1 Axes>"
      ]
     },
     "metadata": {},
     "output_type": "display_data"
    },
    {
     "name": "stdout",
     "output_type": "stream",
     "text": [
      "Feature importances: [0.15963019 0.22145399 0.06984482 0.32739678 0.09594844 0.12572579]\n"
     ]
    }
   ],
   "source": [
    "feature_importances = tree_clf.feature_importances_\n",
    "\n",
    "non_zero_indices = np.nonzero(feature_importances)[0]\n",
    "\n",
    "non_zero_importances = feature_importances[non_zero_indices]\n",
    "non_zero_feature_names = X.columns[non_zero_indices]\n",
    "\n",
    "plt.figure(figsize=(10,4), dpi=80)\n",
    "plt.barh(range(len(non_zero_importances)), non_zero_importances)\n",
    "plt.xlabel(\"Feature importance\")\n",
    "plt.ylabel(\"Feature name\")\n",
    "plt.yticks(np.arange(len(non_zero_importances)), non_zero_feature_names)\n",
    "plt.show()\n",
    "\n",
    "print('Feature importances: {}'.format(non_zero_importances))"
   ]
  },
  {
   "cell_type": "markdown",
   "metadata": {},
   "source": [
    "# Random Forest"
   ]
  },
  {
   "cell_type": "code",
   "execution_count": 69,
   "metadata": {},
   "outputs": [
    {
     "name": "stdout",
     "output_type": "stream",
     "text": [
      "Test set AUC:  0.5880952380952381\n",
      "Grid best parameter (max. AUC):  {'max_depth': 3, 'max_features': 10}\n",
      "Grid best score (AUC):  0.5530617826617827\n"
     ]
    }
   ],
   "source": [
    "forest_clf = RandomForestClassifier(random_state=0)\n",
    "grid_values = {\n",
    "    'max_features': [i for i in range(1, 11)],\n",
    "    'max_depth': [i for i in range(1, 5)]\n",
    "}\n",
    "\n",
    "grid_clf_auc = GridSearchCV(forest_clf, param_grid = grid_values, scoring = 'roc_auc')\n",
    "grid_clf_auc.fit(X_train, y_train)\n",
    "y_decision_fn_scores_auc = grid_clf_auc.predict(X_test) \n",
    "\n",
    "print('Test set AUC: ', roc_auc_score(y_test, y_decision_fn_scores_auc))\n",
    "print('Grid best parameter (max. AUC): ', grid_clf_auc.best_params_)\n",
    "print('Grid best score (AUC): ', grid_clf_auc.best_score_)"
   ]
  },
  {
   "cell_type": "code",
   "execution_count": 104,
   "metadata": {},
   "outputs": [
    {
     "name": "stdout",
     "output_type": "stream",
     "text": [
      "Test set AUC:  0.5452380952380952\n",
      "Grid best parameter (max. AUC):  {'n_estimators': 11}\n",
      "Grid best score (AUC):  0.5741406593406594\n"
     ]
    }
   ],
   "source": [
    "forest_clf = RandomForestClassifier(max_depth=3, max_features=4, random_state=0)\n",
    "grid_values = {\n",
    "    'n_estimators': range(10, 15),\n",
    "}\n",
    "grid_clf_auc = GridSearchCV(forest_clf, param_grid = grid_values, scoring = 'roc_auc')\n",
    "grid_clf_auc.fit(X_train, y_train)\n",
    "y_decision_fn_scores_auc = grid_clf_auc.predict(X_test) \n",
    "\n",
    "print('Test set AUC: ', roc_auc_score(y_test, y_decision_fn_scores_auc))\n",
    "print('Grid best parameter (max. AUC): ', grid_clf_auc.best_params_)\n",
    "print('Grid best score (AUC): ', grid_clf_auc.best_score_)"
   ]
  },
  {
   "cell_type": "code",
   "execution_count": 93,
   "metadata": {},
   "outputs": [
    {
     "name": "stdout",
     "output_type": "stream",
     "text": [
      "RandomForestClassifier(max_depth=20, max_features=20, n_estimators=5,\n",
      "                       random_state=0)\n",
      "{'n_estimators': 5, 'max_features': 20, 'max_depth': 20}\n",
      "0.5360461538461537\n"
     ]
    }
   ],
   "source": [
    "forest_clf = RandomForestClassifier(random_state=0)\n",
    "grid_values = {\n",
    "    'n_estimators': [5, 10, 15, 20, 50],\n",
    "    'max_depth': range(10, 21),\n",
    "    'max_features': range(10, 21, 2)\n",
    "}\n",
    "random_search_cv = RandomizedSearchCV(estimator=forest_clf, param_distributions= grid_values, cv=5, scoring = 'roc_auc')\n",
    "random_search_cv.fit(X_train, y_train)\n",
    "\n",
    "print(random_search_cv.best_estimator_)\n",
    "print(random_search_cv.best_params_)\n",
    "print(random_search_cv.best_score_)"
   ]
  },
  {
   "cell_type": "code",
   "execution_count": 112,
   "metadata": {},
   "outputs": [
    {
     "name": "stdout",
     "output_type": "stream",
     "text": [
      "Train Accuracy: 0.704\n",
      "Test Accuracy: 0.608\n",
      "Train AUC: 0.654\n",
      "Test AUC: 0.545\n",
      "Classification Report:\n",
      "              precision    recall  f1-score   support\n",
      "\n",
      "       not 1       0.61      0.90      0.73        60\n",
      "           1       0.57      0.19      0.29        42\n",
      "\n",
      "    accuracy                           0.61       102\n",
      "   macro avg       0.59      0.55      0.51       102\n",
      "weighted avg       0.60      0.61      0.55       102\n",
      "\n"
     ]
    }
   ],
   "source": [
    "forest_clf = RandomForestClassifier(n_estimators=11, max_features=4, max_depth=3, random_state=0)\n",
    "# forest_clf = random_search_cv.best_estimator_\n",
    "forest_clf.fit(X_train, y_train)\n",
    "\n",
    "print_model_evaluation_metrics(forest_clf, X_train, y_train, X_test, y_test)"
   ]
  },
  {
   "cell_type": "code",
   "execution_count": 113,
   "metadata": {},
   "outputs": [
    {
     "data": {
      "text/html": [
       "<div>\n",
       "<style scoped>\n",
       "    .dataframe tbody tr th:only-of-type {\n",
       "        vertical-align: middle;\n",
       "    }\n",
       "\n",
       "    .dataframe tbody tr th {\n",
       "        vertical-align: top;\n",
       "    }\n",
       "\n",
       "    .dataframe thead th {\n",
       "        text-align: right;\n",
       "    }\n",
       "</style>\n",
       "<table border=\"1\" class=\"dataframe\">\n",
       "  <thead>\n",
       "    <tr style=\"text-align: right;\">\n",
       "      <th></th>\n",
       "      <th>Metric</th>\n",
       "      <th>Cross-validated Scores</th>\n",
       "      <th>Mean Cross-validated Score</th>\n",
       "    </tr>\n",
       "  </thead>\n",
       "  <tbody>\n",
       "    <tr>\n",
       "      <th>0</th>\n",
       "      <td>Accuracy</td>\n",
       "      <td>[0.524390243902439, 0.6419753086419753, 0.6049...</td>\n",
       "      <td>0.562</td>\n",
       "    </tr>\n",
       "    <tr>\n",
       "      <th>1</th>\n",
       "      <td>Precision</td>\n",
       "      <td>[0.3333333333333333, 0.631578947368421, 0.5384...</td>\n",
       "      <td>0.459</td>\n",
       "    </tr>\n",
       "    <tr>\n",
       "      <th>2</th>\n",
       "      <td>Recall</td>\n",
       "      <td>[0.14705882352941177, 0.35294117647058826, 0.4...</td>\n",
       "      <td>0.316</td>\n",
       "    </tr>\n",
       "    <tr>\n",
       "      <th>3</th>\n",
       "      <td>F1</td>\n",
       "      <td>[0.20408163265306123, 0.4528301886792453, 0.46...</td>\n",
       "      <td>0.369</td>\n",
       "    </tr>\n",
       "    <tr>\n",
       "      <th>4</th>\n",
       "      <td>Roc_auc</td>\n",
       "      <td>[0.45373774509803916, 0.5744680851063829, 0.53...</td>\n",
       "      <td>0.518</td>\n",
       "    </tr>\n",
       "  </tbody>\n",
       "</table>\n",
       "</div>"
      ],
      "text/plain": [
       "      Metric                             Cross-validated Scores  \\\n",
       "0   Accuracy  [0.524390243902439, 0.6419753086419753, 0.6049...   \n",
       "1  Precision  [0.3333333333333333, 0.631578947368421, 0.5384...   \n",
       "2     Recall  [0.14705882352941177, 0.35294117647058826, 0.4...   \n",
       "3         F1  [0.20408163265306123, 0.4528301886792453, 0.46...   \n",
       "4    Roc_auc  [0.45373774509803916, 0.5744680851063829, 0.53...   \n",
       "\n",
       "  Mean Cross-validated Score  \n",
       "0                      0.562  \n",
       "1                      0.459  \n",
       "2                      0.316  \n",
       "3                      0.369  \n",
       "4                      0.518  "
      ]
     },
     "execution_count": 113,
     "metadata": {},
     "output_type": "execute_result"
    }
   ],
   "source": [
    "cv_scores_df = cross_val_scores(forest_clf, X, y)\n",
    "cv_scores_df"
   ]
  },
  {
   "cell_type": "code",
   "execution_count": 114,
   "metadata": {},
   "outputs": [
    {
     "data": {
      "image/png": "[encoded data removed]",
      "text/plain": [
       "<Figure size 1000x600 with 1 Axes>"
      ]
     },
     "metadata": {},
     "output_type": "display_data"
    },
    {
     "name": "stdout",
     "output_type": "stream",
     "text": [
      "Top 10 Feature Importances:\n",
      "sma_5_days: 0.08518820654262188\n",
      "std_volume_3_day(s)_periods: 0.0769911118201305\n",
      "%d_3_days: 0.07251527765326356\n",
      "%d_5_days: 0.059264838893966804\n",
      "median_volume_change_3_day(s)_periods: 0.05583916570418595\n",
      "wma_5_days: 0.0499800401959813\n",
      "price_change_to_1_day(s)_ago: 0.0479371163870892\n",
      "ema_3_days: 0.045497271445191736\n",
      "macd_of_ema3_and_ema5: 0.04320195332851693\n",
      "percentage_change_2_day(s): 0.04265363658116064\n"
     ]
    }
   ],
   "source": [
    "feature_importances = forest_clf.feature_importances_\n",
    "\n",
    "non_zero_indices = np.nonzero(feature_importances)[0]\n",
    "\n",
    "non_zero_importances = feature_importances[non_zero_indices]\n",
    "non_zero_feature_names = X.columns[non_zero_indices]\n",
    "\n",
    "sorted_indices = np.argsort(non_zero_importances)[::-1]\n",
    "top_10_indices = sorted_indices[:10]\n",
    "\n",
    "top_10_importances = non_zero_importances[top_10_indices]\n",
    "top_10_feature_names = non_zero_feature_names[top_10_indices]\n",
    "\n",
    "plt.figure(figsize=(10, 6))\n",
    "plt.barh(range(len(top_10_importances)), top_10_importances, align='center')\n",
    "plt.yticks(np.arange(len(top_10_importances)), top_10_feature_names)\n",
    "plt.xlabel('Feature Importance')\n",
    "plt.ylabel('Feature Name')\n",
    "plt.title('Top 10 Feature Importances')\n",
    "plt.gca().invert_yaxis()\n",
    "plt.show()\n",
    "\n",
    "print('Top 10 Feature Importances:')\n",
    "for feature, importance in zip(top_10_feature_names, top_10_importances):\n",
    "    print(f'{feature}: {importance}')"
   ]
  },
  {
   "cell_type": "markdown",
   "metadata": {},
   "source": [
    "OOB score"
   ]
  },
  {
   "cell_type": "code",
   "execution_count": 75,
   "metadata": {},
   "outputs": [
    {
     "name": "stdout",
     "output_type": "stream",
     "text": [
      "n_estimators    Train Score     OOB Score\n",
      "10              0.7566          0.5329\n",
      "20              0.8026          0.5493\n",
      "30              0.7862          0.5625\n",
      "40              0.7961          0.5526\n",
      "50              0.7993          0.5724\n"
     ]
    },
    {
     "name": "stderr",
     "output_type": "stream",
     "text": [
      "/Users/kietnguyen/Desktop/DSLearn/vnstock_project/venv/lib/python3.11/site-packages/sklearn/ensemble/_forest.py:615: UserWarning: Some inputs do not have OOB scores. This probably means too few trees were used to compute any reliable OOB estimates.\n",
      "  warn(\n"
     ]
    },
    {
     "name": "stdout",
     "output_type": "stream",
     "text": [
      "60              0.7961          0.5691\n",
      "70              0.8125          0.5789\n",
      "80              0.8026          0.5592\n",
      "90              0.8026          0.5724\n",
      "100             0.8026          0.5691\n",
      "110             0.8092          0.5757\n",
      "120             0.7993          0.5724\n",
      "130             0.7993          0.5724\n",
      "140             0.7993          0.5724\n",
      "150             0.7928          0.5691\n",
      "160             0.7928          0.5757\n",
      "170             0.7928          0.5691\n",
      "180             0.7895          0.5724\n",
      "190             0.7895          0.5757\n",
      "200             0.7862          0.5855\n"
     ]
    },
    {
     "data": {
      "image/png": "[encoded data removed]",
      "text/plain": [
       "<Figure size 700x500 with 1 Axes>"
      ]
     },
     "metadata": {},
     "output_type": "display_data"
    }
   ],
   "source": [
    "forest_clf_demo = RandomForestClassifier(oob_score=True, random_state=0)\n",
    "n_estimators_range = range(10, 210, 10)\n",
    "\n",
    "train_scores = []\n",
    "oob_scores_val = []\n",
    "\n",
    "print(f\"{'n_estimators':<15} {'Train Score':<15} {'OOB Score'}\")\n",
    "for n_estimators in n_estimators_range:\n",
    "    forest_clf_demo.set_params(n_estimators=n_estimators, max_depth=20, min_samples_leaf=10)\n",
    "    forest_clf_demo.fit(X_train, y_train)\n",
    "\n",
    "    train_score = forest_clf_demo.score(X_train, y_train)\n",
    "    train_scores.append(train_score)\n",
    "    \n",
    "    oob_score_val = forest_clf_demo.oob_score_\n",
    "    oob_scores_val.append(oob_score_val)\n",
    "\n",
    "    print(f\"{n_estimators:<15} {train_score:<15.4f} {oob_score_val:.4f}\")\n",
    "\n",
    "plt.figure(figsize=(7, 5))\n",
    "plt.plot(n_estimators_range, train_scores, label='Train Score')\n",
    "plt.plot(n_estimators_range, oob_scores_val, label='OOB Score')\n",
    "plt.xlabel('Number of Estimators')\n",
    "plt.ylabel('Score')\n",
    "plt.title('Train and OOB Scores vs Number of Estimators')\n",
    "plt.yticks(np.arange(0.7, 1, 0.1))\n",
    "plt.legend()\n",
    "plt.grid(True)\n",
    "plt.show()"
   ]
  },
  {
   "cell_type": "markdown",
   "metadata": {},
   "source": [
    "## XGBoost"
   ]
  },
  {
   "cell_type": "code",
   "execution_count": 117,
   "metadata": {},
   "outputs": [
    {
     "name": "stdout",
     "output_type": "stream",
     "text": [
      "[0]\tvalidation_0-logloss:0.68667\n",
      "[1]\tvalidation_0-logloss:0.68005\n",
      "[2]\tvalidation_0-logloss:0.70427\n"
     ]
    },
    {
     "name": "stdout",
     "output_type": "stream",
     "text": [
      "[3]\tvalidation_0-logloss:0.70528\n",
      "[4]\tvalidation_0-logloss:0.71463\n",
      "[5]\tvalidation_0-logloss:0.71988\n",
      "Train Accuracy: 0.812\n",
      "Test Accuracy: 0.539\n",
      "Train AUC: 0.778\n",
      "Test AUC: 0.480\n",
      "Classification Report:\n",
      "              precision    recall  f1-score   support\n",
      "\n",
      "       not 1       0.58      0.82      0.68        60\n",
      "           1       0.35      0.14      0.20        42\n",
      "\n",
      "    accuracy                           0.54       102\n",
      "   macro avg       0.46      0.48      0.44       102\n",
      "weighted avg       0.48      0.54      0.48       102\n",
      "\n"
     ]
    },
    {
     "name": "stderr",
     "output_type": "stream",
     "text": [
      "/Users/kietnguyen/Desktop/DSLearn/vnstock_project/venv/lib/python3.11/site-packages/xgboost/sklearn.py:889: UserWarning: `early_stopping_rounds` in `fit` method is deprecated for better compatibility with scikit-learn, use `early_stopping_rounds` in constructor or`set_params` instead.\n",
      "  warnings.warn(\n"
     ]
    }
   ],
   "source": [
    "xgb_clf = XGBClassifier(objective=\"binary:logistic\", random_state=0)\n",
    "xgb_clf.fit(X_train, y_train, early_stopping_rounds=5, eval_set=[(X_test, y_test)])\n",
    "print_model_evaluation_metrics(xgb_clf, X_train, y_train, X_test, y_test)"
   ]
  },
  {
   "cell_type": "code",
   "execution_count": 118,
   "metadata": {},
   "outputs": [
    {
     "data": {
      "text/html": [
       "<div>\n",
       "<style scoped>\n",
       "    .dataframe tbody tr th:only-of-type {\n",
       "        vertical-align: middle;\n",
       "    }\n",
       "\n",
       "    .dataframe tbody tr th {\n",
       "        vertical-align: top;\n",
       "    }\n",
       "\n",
       "    .dataframe thead th {\n",
       "        text-align: right;\n",
       "    }\n",
       "</style>\n",
       "<table border=\"1\" class=\"dataframe\">\n",
       "  <thead>\n",
       "    <tr style=\"text-align: right;\">\n",
       "      <th></th>\n",
       "      <th>Metric</th>\n",
       "      <th>Cross-validated Scores</th>\n",
       "      <th>Mean Cross-validated Score</th>\n",
       "    </tr>\n",
       "  </thead>\n",
       "  <tbody>\n",
       "    <tr>\n",
       "      <th>0</th>\n",
       "      <td>Accuracy</td>\n",
       "      <td>[0.524390243902439, 0.6419753086419753, 0.6049...</td>\n",
       "      <td>0.562</td>\n",
       "    </tr>\n",
       "    <tr>\n",
       "      <th>1</th>\n",
       "      <td>Precision</td>\n",
       "      <td>[0.3333333333333333, 0.631578947368421, 0.5384...</td>\n",
       "      <td>0.459</td>\n",
       "    </tr>\n",
       "    <tr>\n",
       "      <th>2</th>\n",
       "      <td>Recall</td>\n",
       "      <td>[0.14705882352941177, 0.35294117647058826, 0.4...</td>\n",
       "      <td>0.316</td>\n",
       "    </tr>\n",
       "    <tr>\n",
       "      <th>3</th>\n",
       "      <td>F1</td>\n",
       "      <td>[0.20408163265306123, 0.4528301886792453, 0.46...</td>\n",
       "      <td>0.369</td>\n",
       "    </tr>\n",
       "    <tr>\n",
       "      <th>4</th>\n",
       "      <td>Roc_auc</td>\n",
       "      <td>[0.45373774509803916, 0.5744680851063829, 0.53...</td>\n",
       "      <td>0.518</td>\n",
       "    </tr>\n",
       "  </tbody>\n",
       "</table>\n",
       "</div>"
      ],
      "text/plain": [
       "      Metric                             Cross-validated Scores  \\\n",
       "0   Accuracy  [0.524390243902439, 0.6419753086419753, 0.6049...   \n",
       "1  Precision  [0.3333333333333333, 0.631578947368421, 0.5384...   \n",
       "2     Recall  [0.14705882352941177, 0.35294117647058826, 0.4...   \n",
       "3         F1  [0.20408163265306123, 0.4528301886792453, 0.46...   \n",
       "4    Roc_auc  [0.45373774509803916, 0.5744680851063829, 0.53...   \n",
       "\n",
       "  Mean Cross-validated Score  \n",
       "0                      0.562  \n",
       "1                      0.459  \n",
       "2                      0.316  \n",
       "3                      0.369  \n",
       "4                      0.518  "
      ]
     },
     "execution_count": 118,
     "metadata": {},
     "output_type": "execute_result"
    }
   ],
   "source": [
    "cv_scores_df = cross_val_scores(forest_clf, X, y)\n",
    "cv_scores_df"
   ]
  },
  {
   "cell_type": "code",
   "execution_count": 172,
   "metadata": {},
   "outputs": [
    {
     "data": {
      "text/plain": [
       "{'gamma': 0.6782126460049467,\n",
       " 'learning_rate': 0.011214431910527902,\n",
       " 'max_depth': 4,\n",
       " 'n_estimators': 5}"
      ]
     },
     "execution_count": 172,
     "metadata": {},
     "output_type": "execute_result"
    }
   ],
   "source": [
    "params = {\n",
    "    \"gamma\": uniform(0, 0.9),\n",
    "    \"learning_rate\": uniform(0.01, 0.3), # default 0.1 \n",
    "    \"max_depth\": randint(2, 6), # default 3\n",
    "    \"n_estimators\": [5, 10, 15, 20, 25, 50, 100], # default 100\n",
    "}\n",
    "\n",
    "search = RandomizedSearchCV(xgb_clf, param_distributions=params, random_state=0, n_iter=200, cv=5, scoring='roc_auc')\n",
    "\n",
    "search.fit(X, y)\n",
    "\n",
    "search.best_params_"
   ]
  },
  {
   "cell_type": "code",
   "execution_count": 173,
   "metadata": {},
   "outputs": [
    {
     "data": {
      "text/plain": [
       "0.5207730859913275"
      ]
     },
     "execution_count": 173,
     "metadata": {},
     "output_type": "execute_result"
    }
   ],
   "source": [
    "search.best_score_"
   ]
  },
  {
   "cell_type": "code",
   "execution_count": 184,
   "metadata": {},
   "outputs": [
    {
     "name": "stdout",
     "output_type": "stream",
     "text": [
      "[0]\tvalidation_0-logloss:0.67443\n",
      "[1]\tvalidation_0-logloss:0.67286\n"
     ]
    },
    {
     "name": "stdout",
     "output_type": "stream",
     "text": [
      "[2]\tvalidation_0-logloss:0.67077\n",
      "[3]\tvalidation_0-logloss:0.66876\n",
      "[4]\tvalidation_0-logloss:0.66945\n",
      "[5]\tvalidation_0-logloss:0.66692\n",
      "[6]\tvalidation_0-logloss:0.66566\n",
      "[7]\tvalidation_0-logloss:0.66541\n",
      "[8]\tvalidation_0-logloss:0.66388\n",
      "[9]\tvalidation_0-logloss:0.66568\n"
     ]
    },
    {
     "name": "stderr",
     "output_type": "stream",
     "text": [
      "/Users/kietnguyen/Desktop/DSLearn/vnstock_project/venv/lib/python3.11/site-packages/xgboost/sklearn.py:889: UserWarning: `early_stopping_rounds` in `fit` method is deprecated for better compatibility with scikit-learn, use `early_stopping_rounds` in constructor or`set_params` instead.\n",
      "  warnings.warn(\n"
     ]
    },
    {
     "data": {
      "text/html": [
       "<style>#sk-container-id-21 {\n",
       "  /* Definition of color scheme common for light and dark mode */\n",
       "  --sklearn-color-text: black;\n",
       "  --sklearn-color-line: gray;\n",
       "  /* Definition of color scheme for unfitted estimators */\n",
       "  --sklearn-color-unfitted-level-0: #fff5e6;\n",
       "  --sklearn-color-unfitted-level-1: #f6e4d2;\n",
       "  --sklearn-color-unfitted-level-2: #ffe0b3;\n",
       "  --sklearn-color-unfitted-level-3: chocolate;\n",
       "  /* Definition of color scheme for fitted estimators */\n",
       "  --sklearn-color-fitted-level-0: #f0f8ff;\n",
       "  --sklearn-color-fitted-level-1: #d4ebff;\n",
       "  --sklearn-color-fitted-level-2: #b3dbfd;\n",
       "  --sklearn-color-fitted-level-3: cornflowerblue;\n",
       "\n",
       "  /* Specific color for light theme */\n",
       "  --sklearn-color-text-on-default-background: var(--sg-text-color, var(--theme-code-foreground, var(--jp-content-font-color1, black)));\n",
       "  --sklearn-color-background: var(--sg-background-color, var(--theme-background, var(--jp-layout-color0, white)));\n",
       "  --sklearn-color-border-box: var(--sg-text-color, var(--theme-code-foreground, var(--jp-content-font-color1, black)));\n",
       "  --sklearn-color-icon: #696969;\n",
       "\n",
       "  @media (prefers-color-scheme: dark) {\n",
       "    /* Redefinition of color scheme for dark theme */\n",
       "    --sklearn-color-text-on-default-background: var(--sg-text-color, var(--theme-code-foreground, var(--jp-content-font-color1, white)));\n",
       "    --sklearn-color-background: var(--sg-background-color, var(--theme-background, var(--jp-layout-color0, #111)));\n",
       "    --sklearn-color-border-box: var(--sg-text-color, var(--theme-code-foreground, var(--jp-content-font-color1, white)));\n",
       "    --sklearn-color-icon: #878787;\n",
       "  }\n",
       "}\n",
       "\n",
       "#sk-container-id-21 {\n",
       "  color: var(--sklearn-color-text);\n",
       "}\n",
       "\n",
       "#sk-container-id-21 pre {\n",
       "  padding: 0;\n",
       "}\n",
       "\n",
       "#sk-container-id-21 input.sk-hidden--visually {\n",
       "  border: 0;\n",
       "  clip: rect(1px 1px 1px 1px);\n",
       "  clip: rect(1px, 1px, 1px, 1px);\n",
       "  height: 1px;\n",
       "  margin: -1px;\n",
       "  overflow: hidden;\n",
       "  padding: 0;\n",
       "  position: absolute;\n",
       "  width: 1px;\n",
       "}\n",
       "\n",
       "#sk-container-id-21 div.sk-dashed-wrapped {\n",
       "  border: 1px dashed var(--sklearn-color-line);\n",
       "  margin: 0 0.4em 0.5em 0.4em;\n",
       "  box-sizing: border-box;\n",
       "  padding-bottom: 0.4em;\n",
       "  background-color: var(--sklearn-color-background);\n",
       "}\n",
       "\n",
       "#sk-container-id-21 div.sk-container {\n",
       "  /* jupyter's `normalize.less` sets `[hidden] { display: none; }`\n",
       "     but bootstrap.min.css set `[hidden] { display: none !important; }`\n",
       "     so we also need the `!important` here to be able to override the\n",
       "     default hidden behavior on the sphinx rendered scikit-learn.org.\n",
       "     See: https://github.com/scikit-learn/scikit-learn/issues/21755 */\n",
       "  display: inline-block !important;\n",
       "  position: relative;\n",
       "}\n",
       "\n",
       "#sk-container-id-21 div.sk-text-repr-fallback {\n",
       "  display: none;\n",
       "}\n",
       "\n",
       "div.sk-parallel-item,\n",
       "div.sk-serial,\n",
       "div.sk-item {\n",
       "  /* draw centered vertical line to link estimators */\n",
       "  background-image: linear-gradient(var(--sklearn-color-text-on-default-background), var(--sklearn-color-text-on-default-background));\n",
       "  background-size: 2px 100%;\n",
       "  background-repeat: no-repeat;\n",
       "  background-position: center center;\n",
       "}\n",
       "\n",
       "/* Parallel-specific style estimator block */\n",
       "\n",
       "#sk-container-id-21 div.sk-parallel-item::after {\n",
       "  content: \"\";\n",
       "  width: 100%;\n",
       "  border-bottom: 2px solid var(--sklearn-color-text-on-default-background);\n",
       "  flex-grow: 1;\n",
       "}\n",
       "\n",
       "#sk-container-id-21 div.sk-parallel {\n",
       "  display: flex;\n",
       "  align-items: stretch;\n",
       "  justify-content: center;\n",
       "  background-color: var(--sklearn-color-background);\n",
       "  position: relative;\n",
       "}\n",
       "\n",
       "#sk-container-id-21 div.sk-parallel-item {\n",
       "  display: flex;\n",
       "  flex-direction: column;\n",
       "}\n",
       "\n",
       "#sk-container-id-21 div.sk-parallel-item:first-child::after {\n",
       "  align-self: flex-end;\n",
       "  width: 50%;\n",
       "}\n",
       "\n",
       "#sk-container-id-21 div.sk-parallel-item:last-child::after {\n",
       "  align-self: flex-start;\n",
       "  width: 50%;\n",
       "}\n",
       "\n",
       "#sk-container-id-21 div.sk-parallel-item:only-child::after {\n",
       "  width: 0;\n",
       "}\n",
       "\n",
       "/* Serial-specific style estimator block */\n",
       "\n",
       "#sk-container-id-21 div.sk-serial {\n",
       "  display: flex;\n",
       "  flex-direction: column;\n",
       "  align-items: center;\n",
       "  background-color: var(--sklearn-color-background);\n",
       "  padding-right: 1em;\n",
       "  padding-left: 1em;\n",
       "}\n",
       "\n",
       "\n",
       "/* Toggleable style: style used for estimator/Pipeline/ColumnTransformer box that is\n",
       "clickable and can be expanded/collapsed.\n",
       "- Pipeline and ColumnTransformer use this feature and define the default style\n",
       "- Estimators will overwrite some part of the style using the `sk-estimator` class\n",
       "*/\n",
       "\n",
       "/* Pipeline and ColumnTransformer style (default) */\n",
       "\n",
       "#sk-container-id-21 div.sk-toggleable {\n",
       "  /* Default theme specific background. It is overwritten whether we have a\n",
       "  specific estimator or a Pipeline/ColumnTransformer */\n",
       "  background-color: var(--sklearn-color-background);\n",
       "}\n",
       "\n",
       "/* Toggleable label */\n",
       "#sk-container-id-21 label.sk-toggleable__label {\n",
       "  cursor: pointer;\n",
       "  display: block;\n",
       "  width: 100%;\n",
       "  margin-bottom: 0;\n",
       "  padding: 0.5em;\n",
       "  box-sizing: border-box;\n",
       "  text-align: center;\n",
       "}\n",
       "\n",
       "#sk-container-id-21 label.sk-toggleable__label-arrow:before {\n",
       "  /* Arrow on the left of the label */\n",
       "  content: \"▸\";\n",
       "  float: left;\n",
       "  margin-right: 0.25em;\n",
       "  color: var(--sklearn-color-icon);\n",
       "}\n",
       "\n",
       "#sk-container-id-21 label.sk-toggleable__label-arrow:hover:before {\n",
       "  color: var(--sklearn-color-text);\n",
       "}\n",
       "\n",
       "/* Toggleable content - dropdown */\n",
       "\n",
       "#sk-container-id-21 div.sk-toggleable__content {\n",
       "  max-height: 0;\n",
       "  max-width: 0;\n",
       "  overflow: hidden;\n",
       "  text-align: left;\n",
       "  /* unfitted */\n",
       "  background-color: var(--sklearn-color-unfitted-level-0);\n",
       "}\n",
       "\n",
       "#sk-container-id-21 div.sk-toggleable__content.fitted {\n",
       "  /* fitted */\n",
       "  background-color: var(--sklearn-color-fitted-level-0);\n",
       "}\n",
       "\n",
       "#sk-container-id-21 div.sk-toggleable__content pre {\n",
       "  margin: 0.2em;\n",
       "  border-radius: 0.25em;\n",
       "  color: var(--sklearn-color-text);\n",
       "  /* unfitted */\n",
       "  background-color: var(--sklearn-color-unfitted-level-0);\n",
       "}\n",
       "\n",
       "#sk-container-id-21 div.sk-toggleable__content.fitted pre {\n",
       "  /* unfitted */\n",
       "  background-color: var(--sklearn-color-fitted-level-0);\n",
       "}\n",
       "\n",
       "#sk-container-id-21 input.sk-toggleable__control:checked~div.sk-toggleable__content {\n",
       "  /* Expand drop-down */\n",
       "  max-height: 200px;\n",
       "  max-width: 100%;\n",
       "  overflow: auto;\n",
       "}\n",
       "\n",
       "#sk-container-id-21 input.sk-toggleable__control:checked~label.sk-toggleable__label-arrow:before {\n",
       "  content: \"▾\";\n",
       "}\n",
       "\n",
       "/* Pipeline/ColumnTransformer-specific style */\n",
       "\n",
       "#sk-container-id-21 div.sk-label input.sk-toggleable__control:checked~label.sk-toggleable__label {\n",
       "  color: var(--sklearn-color-text);\n",
       "  background-color: var(--sklearn-color-unfitted-level-2);\n",
       "}\n",
       "\n",
       "#sk-container-id-21 div.sk-label.fitted input.sk-toggleable__control:checked~label.sk-toggleable__label {\n",
       "  background-color: var(--sklearn-color-fitted-level-2);\n",
       "}\n",
       "\n",
       "/* Estimator-specific style */\n",
       "\n",
       "/* Colorize estimator box */\n",
       "#sk-container-id-21 div.sk-estimator input.sk-toggleable__control:checked~label.sk-toggleable__label {\n",
       "  /* unfitted */\n",
       "  background-color: var(--sklearn-color-unfitted-level-2);\n",
       "}\n",
       "\n",
       "#sk-container-id-21 div.sk-estimator.fitted input.sk-toggleable__control:checked~label.sk-toggleable__label {\n",
       "  /* fitted */\n",
       "  background-color: var(--sklearn-color-fitted-level-2);\n",
       "}\n",
       "\n",
       "#sk-container-id-21 div.sk-label label.sk-toggleable__label,\n",
       "#sk-container-id-21 div.sk-label label {\n",
       "  /* The background is the default theme color */\n",
       "  color: var(--sklearn-color-text-on-default-background);\n",
       "}\n",
       "\n",
       "/* On hover, darken the color of the background */\n",
       "#sk-container-id-21 div.sk-label:hover label.sk-toggleable__label {\n",
       "  color: var(--sklearn-color-text);\n",
       "  background-color: var(--sklearn-color-unfitted-level-2);\n",
       "}\n",
       "\n",
       "/* Label box, darken color on hover, fitted */\n",
       "#sk-container-id-21 div.sk-label.fitted:hover label.sk-toggleable__label.fitted {\n",
       "  color: var(--sklearn-color-text);\n",
       "  background-color: var(--sklearn-color-fitted-level-2);\n",
       "}\n",
       "\n",
       "/* Estimator label */\n",
       "\n",
       "#sk-container-id-21 div.sk-label label {\n",
       "  font-family: monospace;\n",
       "  font-weight: bold;\n",
       "  display: inline-block;\n",
       "  line-height: 1.2em;\n",
       "}\n",
       "\n",
       "#sk-container-id-21 div.sk-label-container {\n",
       "  text-align: center;\n",
       "}\n",
       "\n",
       "/* Estimator-specific */\n",
       "#sk-container-id-21 div.sk-estimator {\n",
       "  font-family: monospace;\n",
       "  border: 1px dotted var(--sklearn-color-border-box);\n",
       "  border-radius: 0.25em;\n",
       "  box-sizing: border-box;\n",
       "  margin-bottom: 0.5em;\n",
       "  /* unfitted */\n",
       "  background-color: var(--sklearn-color-unfitted-level-0);\n",
       "}\n",
       "\n",
       "#sk-container-id-21 div.sk-estimator.fitted {\n",
       "  /* fitted */\n",
       "  background-color: var(--sklearn-color-fitted-level-0);\n",
       "}\n",
       "\n",
       "/* on hover */\n",
       "#sk-container-id-21 div.sk-estimator:hover {\n",
       "  /* unfitted */\n",
       "  background-color: var(--sklearn-color-unfitted-level-2);\n",
       "}\n",
       "\n",
       "#sk-container-id-21 div.sk-estimator.fitted:hover {\n",
       "  /* fitted */\n",
       "  background-color: var(--sklearn-color-fitted-level-2);\n",
       "}\n",
       "\n",
       "/* Specification for estimator info (e.g. \"i\" and \"?\") */\n",
       "\n",
       "/* Common style for \"i\" and \"?\" */\n",
       "\n",
       ".sk-estimator-doc-link,\n",
       "a:link.sk-estimator-doc-link,\n",
       "a:visited.sk-estimator-doc-link {\n",
       "  float: right;\n",
       "  font-size: smaller;\n",
       "  line-height: 1em;\n",
       "  font-family: monospace;\n",
       "  background-color: var(--sklearn-color-background);\n",
       "  border-radius: 1em;\n",
       "  height: 1em;\n",
       "  width: 1em;\n",
       "  text-decoration: none !important;\n",
       "  margin-left: 1ex;\n",
       "  /* unfitted */\n",
       "  border: var(--sklearn-color-unfitted-level-1) 1pt solid;\n",
       "  color: var(--sklearn-color-unfitted-level-1);\n",
       "}\n",
       "\n",
       ".sk-estimator-doc-link.fitted,\n",
       "a:link.sk-estimator-doc-link.fitted,\n",
       "a:visited.sk-estimator-doc-link.fitted {\n",
       "  /* fitted */\n",
       "  border: var(--sklearn-color-fitted-level-1) 1pt solid;\n",
       "  color: var(--sklearn-color-fitted-level-1);\n",
       "}\n",
       "\n",
       "/* On hover */\n",
       "div.sk-estimator:hover .sk-estimator-doc-link:hover,\n",
       ".sk-estimator-doc-link:hover,\n",
       "div.sk-label-container:hover .sk-estimator-doc-link:hover,\n",
       ".sk-estimator-doc-link:hover {\n",
       "  /* unfitted */\n",
       "  background-color: var(--sklearn-color-unfitted-level-3);\n",
       "  color: var(--sklearn-color-background);\n",
       "  text-decoration: none;\n",
       "}\n",
       "\n",
       "div.sk-estimator.fitted:hover .sk-estimator-doc-link.fitted:hover,\n",
       ".sk-estimator-doc-link.fitted:hover,\n",
       "div.sk-label-container:hover .sk-estimator-doc-link.fitted:hover,\n",
       ".sk-estimator-doc-link.fitted:hover {\n",
       "  /* fitted */\n",
       "  background-color: var(--sklearn-color-fitted-level-3);\n",
       "  color: var(--sklearn-color-background);\n",
       "  text-decoration: none;\n",
       "}\n",
       "\n",
       "/* Span, style for the box shown on hovering the info icon */\n",
       ".sk-estimator-doc-link span {\n",
       "  display: none;\n",
       "  z-index: 9999;\n",
       "  position: relative;\n",
       "  font-weight: normal;\n",
       "  right: .2ex;\n",
       "  padding: .5ex;\n",
       "  margin: .5ex;\n",
       "  width: min-content;\n",
       "  min-width: 20ex;\n",
       "  max-width: 50ex;\n",
       "  color: var(--sklearn-color-text);\n",
       "  box-shadow: 2pt 2pt 4pt #999;\n",
       "  /* unfitted */\n",
       "  background: var(--sklearn-color-unfitted-level-0);\n",
       "  border: .5pt solid var(--sklearn-color-unfitted-level-3);\n",
       "}\n",
       "\n",
       ".sk-estimator-doc-link.fitted span {\n",
       "  /* fitted */\n",
       "  background: var(--sklearn-color-fitted-level-0);\n",
       "  border: var(--sklearn-color-fitted-level-3);\n",
       "}\n",
       "\n",
       ".sk-estimator-doc-link:hover span {\n",
       "  display: block;\n",
       "}\n",
       "\n",
       "/* \"?\"-specific style due to the `<a>` HTML tag */\n",
       "\n",
       "#sk-container-id-21 a.estimator_doc_link {\n",
       "  float: right;\n",
       "  font-size: 1rem;\n",
       "  line-height: 1em;\n",
       "  font-family: monospace;\n",
       "  background-color: var(--sklearn-color-background);\n",
       "  border-radius: 1rem;\n",
       "  height: 1rem;\n",
       "  width: 1rem;\n",
       "  text-decoration: none;\n",
       "  /* unfitted */\n",
       "  color: var(--sklearn-color-unfitted-level-1);\n",
       "  border: var(--sklearn-color-unfitted-level-1) 1pt solid;\n",
       "}\n",
       "\n",
       "#sk-container-id-21 a.estimator_doc_link.fitted {\n",
       "  /* fitted */\n",
       "  border: var(--sklearn-color-fitted-level-1) 1pt solid;\n",
       "  color: var(--sklearn-color-fitted-level-1);\n",
       "}\n",
       "\n",
       "/* On hover */\n",
       "#sk-container-id-21 a.estimator_doc_link:hover {\n",
       "  /* unfitted */\n",
       "  background-color: var(--sklearn-color-unfitted-level-3);\n",
       "  color: var(--sklearn-color-background);\n",
       "  text-decoration: none;\n",
       "}\n",
       "\n",
       "#sk-container-id-21 a.estimator_doc_link.fitted:hover {\n",
       "  /* fitted */\n",
       "  background-color: var(--sklearn-color-fitted-level-3);\n",
       "}\n",
       "</style><div id=\"sk-container-id-21\" class=\"sk-top-container\"><div class=\"sk-text-repr-fallback\"><pre>XGBClassifier(base_score=None, booster=None, callbacks=None,\n",
       "              colsample_bylevel=None, colsample_bynode=None,\n",
       "              colsample_bytree=None, device=None, early_stopping_rounds=None,\n",
       "              enable_categorical=False, eval_metric=None, feature_types=None,\n",
       "              gamma=0.6, grow_policy=None, importance_type=None,\n",
       "              interaction_constraints=None, learning_rate=0.06, max_bin=None,\n",
       "              max_cat_threshold=None, max_cat_to_onehot=None,\n",
       "              max_delta_step=None, max_depth=4, max_leaves=None,\n",
       "              min_child_weight=None, missing=nan, monotone_constraints=None,\n",
       "              multi_strategy=None, n_estimators=10, n_jobs=None,\n",
       "              num_parallel_tree=None, random_state=0, ...)</pre><b>In a Jupyter environment, please rerun this cell to show the HTML representation or trust the notebook. <br />On GitHub, the HTML representation is unable to render, please try loading this page with nbviewer.org.</b></div><div class=\"sk-container\" hidden><div class=\"sk-item\"><div class=\"sk-estimator fitted sk-toggleable\"><input class=\"sk-toggleable__control sk-hidden--visually\" id=\"sk-estimator-id-21\" type=\"checkbox\" checked><label for=\"sk-estimator-id-21\" class=\"sk-toggleable__label fitted sk-toggleable__label-arrow fitted\">&nbsp;XGBClassifier<span class=\"sk-estimator-doc-link fitted\">i<span>Fitted</span></span></label><div class=\"sk-toggleable__content fitted\"><pre>XGBClassifier(base_score=None, booster=None, callbacks=None,\n",
       "              colsample_bylevel=None, colsample_bynode=None,\n",
       "              colsample_bytree=None, device=None, early_stopping_rounds=None,\n",
       "              enable_categorical=False, eval_metric=None, feature_types=None,\n",
       "              gamma=0.6, grow_policy=None, importance_type=None,\n",
       "              interaction_constraints=None, learning_rate=0.06, max_bin=None,\n",
       "              max_cat_threshold=None, max_cat_to_onehot=None,\n",
       "              max_delta_step=None, max_depth=4, max_leaves=None,\n",
       "              min_child_weight=None, missing=nan, monotone_constraints=None,\n",
       "              multi_strategy=None, n_estimators=10, n_jobs=None,\n",
       "              num_parallel_tree=None, random_state=0, ...)</pre></div> </div></div></div></div>"
      ],
      "text/plain": [
       "XGBClassifier(base_score=None, booster=None, callbacks=None,\n",
       "              colsample_bylevel=None, colsample_bynode=None,\n",
       "              colsample_bytree=None, device=None, early_stopping_rounds=None,\n",
       "              enable_categorical=False, eval_metric=None, feature_types=None,\n",
       "              gamma=0.6, grow_policy=None, importance_type=None,\n",
       "              interaction_constraints=None, learning_rate=0.06, max_bin=None,\n",
       "              max_cat_threshold=None, max_cat_to_onehot=None,\n",
       "              max_delta_step=None, max_depth=4, max_leaves=None,\n",
       "              min_child_weight=None, missing=nan, monotone_constraints=None,\n",
       "              multi_strategy=None, n_estimators=10, n_jobs=None,\n",
       "              num_parallel_tree=None, random_state=0, ...)"
      ]
     },
     "execution_count": 184,
     "metadata": {},
     "output_type": "execute_result"
    }
   ],
   "source": [
    "params = {\n",
    "    'gamma': 0.6,\n",
    "    'learning_rate': 0.06,\n",
    "    'max_depth': 4,\n",
    "    'n_estimators': 10\n",
    "}\n",
    "\n",
    "xgb_clf = XGBClassifier(objective=\"binary:logistic\", random_state=0, **params)\n",
    "# xgb_clf = search.best_estimator_\n",
    "xgb_clf.fit(X_train, y_train, early_stopping_rounds=5, eval_set=[(X_test, y_test)])"
   ]
  },
  {
   "cell_type": "code",
   "execution_count": 185,
   "metadata": {},
   "outputs": [
    {
     "name": "stdout",
     "output_type": "stream",
     "text": [
      "Train Accuracy: 0.688\n",
      "Test Accuracy: 0.627\n",
      "Train AUC: 0.624\n",
      "Test AUC: 0.555\n",
      "Classification Report:\n",
      "              precision    recall  f1-score   support\n",
      "\n",
      "       not 1       0.62      0.97      0.75        60\n",
      "           1       0.75      0.14      0.24        42\n",
      "\n",
      "    accuracy                           0.63       102\n",
      "   macro avg       0.68      0.55      0.50       102\n",
      "weighted avg       0.67      0.63      0.54       102\n",
      "\n"
     ]
    }
   ],
   "source": [
    "print_model_evaluation_metrics(xgb_clf, X_train, y_train, X_test, y_test)"
   ]
  },
  {
   "cell_type": "code",
   "execution_count": 186,
   "metadata": {},
   "outputs": [
    {
     "name": "stderr",
     "output_type": "stream",
     "text": [
      "/Users/kietnguyen/Desktop/DSLearn/vnstock_project/venv/lib/python3.11/site-packages/sklearn/metrics/_classification.py:1509: UndefinedMetricWarning: Precision is ill-defined and being set to 0.0 due to no predicted samples. Use `zero_division` parameter to control this behavior.\n",
      "  _warn_prf(average, modifier, f\"{metric.capitalize()} is\", len(result))\n"
     ]
    },
    {
     "data": {
      "text/html": [
       "<div>\n",
       "<style scoped>\n",
       "    .dataframe tbody tr th:only-of-type {\n",
       "        vertical-align: middle;\n",
       "    }\n",
       "\n",
       "    .dataframe tbody tr th {\n",
       "        vertical-align: top;\n",
       "    }\n",
       "\n",
       "    .dataframe thead th {\n",
       "        text-align: right;\n",
       "    }\n",
       "</style>\n",
       "<table border=\"1\" class=\"dataframe\">\n",
       "  <thead>\n",
       "    <tr style=\"text-align: right;\">\n",
       "      <th></th>\n",
       "      <th>Metric</th>\n",
       "      <th>Cross-validated Scores</th>\n",
       "      <th>Mean Cross-validated Score</th>\n",
       "    </tr>\n",
       "  </thead>\n",
       "  <tbody>\n",
       "    <tr>\n",
       "      <th>0</th>\n",
       "      <td>Accuracy</td>\n",
       "      <td>[0.5365853658536586, 0.5802469135802469, 0.543...</td>\n",
       "      <td>0.534</td>\n",
       "    </tr>\n",
       "    <tr>\n",
       "      <th>1</th>\n",
       "      <td>Precision</td>\n",
       "      <td>[0.25, 0.0, 0.3333333333333333, 0.125, 0.27777...</td>\n",
       "      <td>0.197</td>\n",
       "    </tr>\n",
       "    <tr>\n",
       "      <th>2</th>\n",
       "      <td>Recall</td>\n",
       "      <td>[0.058823529411764705, 0.0, 0.0882352941176470...</td>\n",
       "      <td>0.066</td>\n",
       "    </tr>\n",
       "    <tr>\n",
       "      <th>3</th>\n",
       "      <td>F1</td>\n",
       "      <td>[0.09523809523809523, 0.0, 0.13953488372093023...</td>\n",
       "      <td>0.096</td>\n",
       "    </tr>\n",
       "    <tr>\n",
       "      <th>4</th>\n",
       "      <td>Roc_auc</td>\n",
       "      <td>[0.49969362745098045, 0.5901126408010013, 0.54...</td>\n",
       "      <td>0.491</td>\n",
       "    </tr>\n",
       "  </tbody>\n",
       "</table>\n",
       "</div>"
      ],
      "text/plain": [
       "      Metric                             Cross-validated Scores  \\\n",
       "0   Accuracy  [0.5365853658536586, 0.5802469135802469, 0.543...   \n",
       "1  Precision  [0.25, 0.0, 0.3333333333333333, 0.125, 0.27777...   \n",
       "2     Recall  [0.058823529411764705, 0.0, 0.0882352941176470...   \n",
       "3         F1  [0.09523809523809523, 0.0, 0.13953488372093023...   \n",
       "4    Roc_auc  [0.49969362745098045, 0.5901126408010013, 0.54...   \n",
       "\n",
       "  Mean Cross-validated Score  \n",
       "0                      0.534  \n",
       "1                      0.197  \n",
       "2                      0.066  \n",
       "3                      0.096  \n",
       "4                      0.491  "
      ]
     },
     "execution_count": 186,
     "metadata": {},
     "output_type": "execute_result"
    }
   ],
   "source": [
    "cv_scores_df = cross_val_scores(xgb_clf, X, y)\n",
    "cv_scores_df"
   ]
  },
  {
   "cell_type": "code",
   "execution_count": 187,
   "metadata": {},
   "outputs": [
    {
     "data": {
      "text/plain": [
       "<Axes: title={'center': 'Feature importance'}, xlabel='F score', ylabel='Features'>"
      ]
     },
     "execution_count": 187,
     "metadata": {},
     "output_type": "execute_result"
    },
    {
     "data": {
      "image/png": "[encoded data removed]",
      "text/plain": [
       "<Figure size 640x480 with 1 Axes>"
      ]
     },
     "metadata": {},
     "output_type": "display_data"
    }
   ],
   "source": [
    "plot_importance(xgb_clf)"
   ]
  },
  {
   "cell_type": "code",
   "execution_count": null,
   "metadata": {},
   "outputs": [],
   "source": []
  }
 ],
 "metadata": {
  "kernelspec": {
   "display_name": "venv",
   "language": "python",
   "name": "python3"
  },
  "language_info": {
   "codemirror_mode": {
    "name": "ipython",
    "version": 3
   },
   "file_extension": ".py",
   "mimetype": "text/x-python",
   "name": "python",
   "nbconvert_exporter": "python",
   "pygments_lexer": "ipython3",
   "version": "3.11.5"
  }
 },
 "nbformat": 4,
 "nbformat_minor": 2
}
