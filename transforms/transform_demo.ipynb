{
 "cells": [
  {
   "cell_type": "code",
   "execution_count": 118,
   "id": "c7ca4dfd-23fd-4080-b09d-4675051e7f43",
   "metadata": {},
   "outputs": [],
   "source": [
    "from pyspark.sql import SparkSession\n",
    "from pathlib import Path\n",
    "from pyspark.sql.window import Window\n",
    "from pyspark.sql.functions import (coalesce, col, lag, when, mean, lit, stddev, count, expr, avg, udf, collect_list, max, min, isnan)\n",
    "import numpy as np"
   ]
  },
  {
   "cell_type": "code",
   "execution_count": 119,
   "id": "e481efd3",
   "metadata": {},
   "outputs": [],
   "source": [
    "spark = SparkSession.builder.appName(\"TransformFile\").config(\"spark.jars\", \"./postgresql-42.7.1.jar\").getOrCreate()"
   ]
  },
  {
   "cell_type": "code",
   "execution_count": 120,
   "id": "fd053b95-9288-45c2-872f-0ca9040cd37e",
   "metadata": {},
   "outputs": [
    {
     "name": "stderr",
     "output_type": "stream",
     "text": [
      "24/02/23 16:54:32 WARN DAGScheduler: Broadcasting large task binary with size 1628.0 KiB\n",
      "[Stage 340:================================================> (1878 + 10) / 1950]\r"
     ]
    },
    {
     "name": "stdout",
     "output_type": "stream",
     "text": [
      "+------+-----+-----+-----+-----+------+----------+\n",
      "|Symbol| Open| High|  Low|Close|Volume|      Date|\n",
      "+------+-----+-----+-----+-----+------+----------+\n",
      "|   A32|27680|27680|27680|27680|   100|2023-05-09|\n",
      "|   A32|30450|30450|30450|30450|   100|2023-05-10|\n",
      "|   A32|30450|30450|30450|30450|   500|2023-05-11|\n",
      "|   A32|30450|30450|26760|26760|   300|2023-05-17|\n",
      "|   A32|29260|29260|29260|29260|   100|2023-05-18|\n",
      "|   A32|30450|30450|30450|30450|   700|2023-05-23|\n",
      "|   A32|29710|29710|29710|29710|   800|2023-05-25|\n",
      "|   A32|29620|29620|29620|29620|   600|2023-05-26|\n",
      "|   A32|28600|28600|28600|28600|   200|2023-05-29|\n",
      "|   A32|27680|27680|27680|27680|  1000|2023-05-30|\n",
      "+------+-----+-----+-----+-----+------+----------+\n",
      "only showing top 10 rows\n",
      "\n"
     ]
    },
    {
     "name": "stderr",
     "output_type": "stream",
     "text": [
      "                                                                                \r"
     ]
    }
   ],
   "source": [
    "def merge_parquet_files(input_folder=\"tmp1/stock_data/stock_history\"):\n",
    "    input_path = Path(input_folder)\n",
    "    folders = [str(folder) for folder in input_path.glob(\"*\") if folder.is_dir()]\n",
    "\n",
    "    merged_df = None\n",
    "\n",
    "    for folder in folders:\n",
    "        df = spark.read.parquet(str(Path(folder).resolve()))\n",
    "        \n",
    "        if merged_df is None:\n",
    "            merged_df = df\n",
    "        else:\n",
    "            merged_df = merged_df.union(df)\n",
    "\n",
    "    if merged_df:\n",
    "        merged_df = merged_df.withColumn(\"Date\", col(\"Time\").cast(\"date\"))\n",
    "        merged_df = merged_df.drop(\"Time\")\n",
    "        merged_df = merged_df.orderBy(\"Symbol\", \"Date\")\n",
    "        merged_df.show(10)\n",
    "    else:\n",
    "        print(\"No Parquet files found.\")\n",
    "\n",
    "    return merged_df\n",
    "\n",
    "merged_df = merge_parquet_files(input_folder=\"tmp1/stock_data/stock_history\")"
   ]
  },
  {
   "cell_type": "code",
   "execution_count": 121,
   "id": "de76245f",
   "metadata": {},
   "outputs": [
    {
     "name": "stderr",
     "output_type": "stream",
     "text": [
      "24/02/23 16:54:42 WARN DAGScheduler: Broadcasting large task binary with size 1628.8 KiB\n",
      "24/02/23 16:54:48 WARN DAGScheduler: Broadcasting large task binary with size 1640.5 KiB\n",
      "[Stage 344:>                                                        (0 + 8) / 8]\r"
     ]
    },
    {
     "name": "stdout",
     "output_type": "stream",
     "text": [
      "+-------+------+------------------+------------------+------------------+------------------+------------------+\n",
      "|summary|Symbol|              Open|              High|               Low|             Close|            Volume|\n",
      "+-------+------+------------------+------------------+------------------+------------------+------------------+\n",
      "|  count|177796|            177796|            177796|            177796|            177796|            177796|\n",
      "|   mean|  NULL| 20630.62951922428|20908.305518684334|20334.405695291232|20638.249268824944| 899311.5238588045|\n",
      "| stddev|  NULL|32201.543806365287|32647.166888800373| 31758.95100311469|32167.360324551755|3422855.0810003737|\n",
      "|    min|   A32|               300|               300|               300|               300|               100|\n",
      "|    max|   YTC|           1279000|           1279000|           1241000|           1249000|         127103200|\n",
      "+-------+------+------------------+------------------+------------------+------------------+------------------+\n",
      "\n"
     ]
    },
    {
     "name": "stderr",
     "output_type": "stream",
     "text": [
      "                                                                                \r"
     ]
    }
   ],
   "source": [
    "description = merged_df.describe()\n",
    "\n",
    "description.show()"
   ]
  },
  {
   "cell_type": "code",
   "execution_count": 122,
   "id": "65c2274d",
   "metadata": {},
   "outputs": [
    {
     "name": "stdout",
     "output_type": "stream",
     "text": [
      "The data type of the 'Symbol' column is: string\n",
      "The data type of the 'Open' column is: long\n",
      "The data type of the 'High' column is: long\n",
      "The data type of the 'Low' column is: long\n",
      "The data type of the 'Close' column is: long\n",
      "The data type of the 'Volume' column is: long\n",
      "The data type of the 'Date' column is: date\n"
     ]
    }
   ],
   "source": [
    "def get_all_column_data_types(df):\n",
    "    return [(field.name, field.dataType.typeName()) for field in df.schema.fields]\n",
    "\n",
    "column_data_types = get_all_column_data_types(merged_df)\n",
    "for column_name, data_type in column_data_types:\n",
    "    print(f\"The data type of the '{column_name}' column is: {data_type}\")"
   ]
  },
  {
   "cell_type": "markdown",
   "id": "8209f8ea",
   "metadata": {},
   "source": [
    "## Price Change Compared to N-days ago"
   ]
  },
  {
   "cell_type": "code",
   "execution_count": 123,
   "id": "c971a0bc-6c6b-4269-a1ca-95e005d02afd",
   "metadata": {},
   "outputs": [],
   "source": [
    "def calculate_price_change(df, n=1):\n",
    "    sorted_df = df.orderBy(\"Symbol\", \"Date\")\n",
    "\n",
    "    window_spec = Window.partitionBy(\"Symbol\").orderBy(\"Date\")\n",
    "    df_with_price_change = sorted_df.withColumn(\n",
    "        f\"Price Change To {n} Day(s) Ago\",\n",
    "        coalesce(df[\"Close\"] - lag(df[\"Close\"], n).over(window_spec), lit(None))\n",
    "    )\n",
    "\n",
    "    return df_with_price_change\n",
    "\n",
    "# result_df = calculate_price_change(merged_df, n=1)\n",
    "# result_df = calculate_price_change(result_df, n=2)\n",
    "# result_df = calculate_price_change(result_df, n=3)\n",
    "# result_df.show(10)"
   ]
  },
  {
   "cell_type": "markdown",
   "id": "a0b7e063",
   "metadata": {},
   "source": [
    "## Volume Change Compared to N-days ago"
   ]
  },
  {
   "cell_type": "code",
   "execution_count": 124,
   "id": "6579830d",
   "metadata": {},
   "outputs": [],
   "source": [
    "def calculate_volume_change(df, n=1):\n",
    "    sorted_df = df.orderBy(\"Symbol\", \"Date\")\n",
    "\n",
    "    window_spec = Window.partitionBy(\"Symbol\").orderBy(\"Date\")\n",
    "    df_with_price_change = sorted_df.withColumn(\n",
    "        f\"Volume Change To {n} Day(s) Ago\",\n",
    "        coalesce(df[\"Volume\"] - lag(df[\"Volume\"], n).over(window_spec), lit(None))\n",
    "    )\n",
    "\n",
    "    return df_with_price_change\n",
    "\n",
    "# result_df = calculate_volume_change(merged_df, n=1)\n",
    "# result_df = calculate_volume_change(result_df, n=2)\n",
    "# result_df = calculate_volume_change(result_df, n=3)\n",
    "# result_df.show(10)"
   ]
  },
  {
   "cell_type": "markdown",
   "id": "1a0e1b44",
   "metadata": {},
   "source": [
    "## Price Difference"
   ]
  },
  {
   "cell_type": "code",
   "execution_count": 125,
   "id": "e64c808c",
   "metadata": {},
   "outputs": [],
   "source": [
    "def calculate_price_difference(df):\n",
    "    sorted_df = df.orderBy(\"Symbol\", \"Date\")\n",
    "\n",
    "    window_spec = Window.partitionBy(\"Symbol\").orderBy(\"Date\")\n",
    "    df_with_price_diff = sorted_df.withColumn(\n",
    "        f\"Price Difference\",\n",
    "        coalesce(df[\"Close\"] - df[\"Open\"], lit(None))\n",
    "    )\n",
    "\n",
    "    return df_with_price_diff\n",
    "\n",
    "# result_df = calculate_price_difference(merged_df)\n",
    "# result_df.show(10)"
   ]
  },
  {
   "cell_type": "markdown",
   "id": "a10559b0",
   "metadata": {},
   "source": [
    "## Median/Std. of Volume for N-days period"
   ]
  },
  {
   "cell_type": "code",
   "execution_count": 126,
   "id": "11eb2411",
   "metadata": {},
   "outputs": [],
   "source": [
    "def calculate_median_std_volume(df, n=1):\n",
    "    window_spec = Window().partitionBy('Symbol').orderBy('Date').rowsBetween(-n+1, 0)\n",
    "\n",
    "    count_expr = count('Volume').over(window_spec)\n",
    "\n",
    "    median_expr = expr('percentile_approx(Volume, 0.5)')\n",
    "\n",
    "    df = df.withColumn(f'Median Volume {n} day(s) periods', when(count_expr >= n, median_expr.over(window_spec)).otherwise(None))\n",
    "    \n",
    "    df = df.withColumn(f'Std Volume {n} day(s) periods', when(count_expr >= n, stddev('Volume').over(window_spec)).otherwise(None))\n",
    "\n",
    "    return df\n",
    "\n",
    "# result_df = calculate_median_std_volume(merged_df, n=3)\n",
    "# result_df.show(10)"
   ]
  },
  {
   "cell_type": "markdown",
   "id": "7fca5c09",
   "metadata": {},
   "source": [
    "## Median/Std. of Price Change for N-days period"
   ]
  },
  {
   "cell_type": "code",
   "execution_count": 127,
   "id": "0d8a920a",
   "metadata": {},
   "outputs": [],
   "source": [
    "def calculate_median_std_price_change(df, n=1):\n",
    "    sorted_df = df.orderBy(\"Symbol\", \"Date\")\n",
    "\n",
    "    window_spec = Window.partitionBy(\"Symbol\").orderBy(\"Date\")\n",
    "    df = sorted_df.withColumn(\n",
    "        \"Price Change\",\n",
    "        coalesce(df[\"Close\"] - lag(df[\"Close\"]).over(window_spec), lit(None))\n",
    "    )\n",
    "\n",
    "    count_expr = count(\"Price Change\").over(window_spec)\n",
    "    window_spec = Window().partitionBy('Symbol').orderBy('Date').rowsBetween(-n+1, 0)\n",
    "    median_expr = expr('percentile_approx(`Price Change`, 0.5)')\n",
    "    df = df.withColumn(f'Median Price Change {n} day(s) periods', when(count_expr >= n, median_expr.over(window_spec)).otherwise(None))\n",
    "    \n",
    "    df = df.withColumn(f'Std Price Change {n} day(s) periods', when(count_expr >= n, stddev('Price Change').over(window_spec)).otherwise(None))\n",
    "\n",
    "    df = df.drop(\"Price Change\") #Optional\n",
    "\n",
    "    return df\n",
    "\n",
    "# result_df = calculate_median_std_price_change(merged_df, n=3)\n",
    "# result_df.show(10)"
   ]
  },
  {
   "cell_type": "markdown",
   "id": "136ba9a0",
   "metadata": {},
   "source": [
    "## Median/Std. of Volumn Change for N-days period"
   ]
  },
  {
   "cell_type": "code",
   "execution_count": 128,
   "id": "c1a787ee",
   "metadata": {},
   "outputs": [],
   "source": [
    "def calculate_median_std_volume_change(df, n=1):\n",
    "    sorted_df = df.orderBy(\"Symbol\", \"Date\")\n",
    "\n",
    "    window_spec = Window.partitionBy(\"Symbol\").orderBy(\"Date\")\n",
    "    df = sorted_df.withColumn(\n",
    "        \"Volume Change\",\n",
    "        coalesce(df[\"Volume\"] - lag(df[\"Volume\"]).over(window_spec), lit(None))\n",
    "    )\n",
    "\n",
    "    count_expr = count(\"Volume Change\").over(window_spec)\n",
    "    window_spec = Window().partitionBy('Symbol').orderBy('Date').rowsBetween(-n+1, 0)\n",
    "    median_expr = expr('percentile_approx(`Volume Change`, 0.5)')\n",
    "    df = df.withColumn(f'Median Volume Change {n} day(s) periods', when(count_expr >= n, median_expr.over(window_spec)).otherwise(None))\n",
    "    \n",
    "    df = df.withColumn(f'Std Volume Change {n} day(s) periods', when(count_expr >= n, stddev('Volume').over(window_spec)).otherwise(None))\n",
    "\n",
    "    df = df.drop(\"Volume Change\") #Optional\n",
    "\n",
    "    return df\n",
    "\n",
    "# result_df = calculate_median_std_volume_change(merged_df, n=3)\n",
    "# result_df.show(10)"
   ]
  },
  {
   "cell_type": "markdown",
   "id": "c08305b7",
   "metadata": {},
   "source": [
    "## N-day Simple Moving Average (SMA)"
   ]
  },
  {
   "cell_type": "code",
   "execution_count": 129,
   "id": "f1e63cf9",
   "metadata": {},
   "outputs": [],
   "source": [
    "def calculate_sma(df, n=1):\n",
    "    window_spec = Window().partitionBy('Symbol').orderBy('Date').rowsBetween(-n+1, 0)\n",
    "\n",
    "    df = df.orderBy('Symbol', 'Date')\n",
    "\n",
    "    sma_expr = avg('Close').over(window_spec)\n",
    "    count_expr = count(\"Close\").over(window_spec)\n",
    "\n",
    "    df = df.withColumn(f'SMA {n} Days', when(count_expr >= n, sma_expr).otherwise(None))\n",
    "\n",
    "    return df\n",
    "\n",
    "# result_df = calculate_sma(merged_df, n=3)\n",
    "# result_df.show(10)"
   ]
  },
  {
   "cell_type": "markdown",
   "id": "14faf2d2",
   "metadata": {},
   "source": [
    "## N-day Weighted Moving Average (WMA)"
   ]
  },
  {
   "cell_type": "code",
   "execution_count": 130,
   "id": "91255e15",
   "metadata": {},
   "outputs": [],
   "source": [
    "import pandas as pd\n",
    "\n",
    "def calculate_wma(df, n):\n",
    "    window_spec = Window().partitionBy('Symbol').orderBy('Date').rowsBetween(-n+1, 0)\n",
    "\n",
    "    def wma(values, n):\n",
    "        if len(values) < n:\n",
    "            return None\n",
    "\n",
    "        return float(sum(values[i] * (n - i) for i in range(n)) / n)\n",
    "        \n",
    "    wma_udf = udf(wma)\n",
    "\n",
    "    df = df.withColumn(f\"WMA {n} Days\", wma_udf(collect_list('Close').over(window_spec), lit(n)))\n",
    "    df = df.withColumn(f\"WMA {n} Days\", col(f\"WMA {n} Days\").cast(\"double\"))\n",
    "\n",
    "    return df\n",
    "\n",
    "# result_df = calculate_wma(merged_df, n=3)\n",
    "# result_df.show(10)"
   ]
  },
  {
   "cell_type": "markdown",
   "id": "d2e2e4a1",
   "metadata": {},
   "source": [
    "## N-day Exponential Moving Average (EMA)"
   ]
  },
  {
   "cell_type": "code",
   "execution_count": 131,
   "id": "a1a2c5a8",
   "metadata": {},
   "outputs": [],
   "source": [
    "def calculate_ema(df, n):\n",
    "\n",
    "    pandas_df = df.toPandas()\n",
    "\n",
    "    pandas_df.sort_values([\"Symbol\", \"Date\"], inplace=True)\n",
    "    pandas_df[f\"EMA {n} Days\"] = pandas_df.groupby(\"Symbol\")[\"Close\"].transform(lambda x: x.ewm(span=n, min_periods=n).mean())\n",
    "    pandas_df = pandas_df.replace({np.nan: None})\n",
    "    result_df = spark.createDataFrame(pandas_df)\n",
    "    return result_df\n",
    "\n",
    "# result_df = calculate_ema(merged_df, n=3)\n",
    "# result_df = calculate_ema(result_df, n=5)\n",
    "# result_df.show(10)"
   ]
  },
  {
   "cell_type": "markdown",
   "id": "e0461649",
   "metadata": {},
   "source": [
    "## Moving Average Convergence Divergence - MACD"
   ]
  },
  {
   "cell_type": "code",
   "execution_count": 132,
   "id": "f5e3cf0b",
   "metadata": {},
   "outputs": [],
   "source": [
    "def calculate_macd(df, ema_1=3, ema_2=5):\n",
    "    df1 = calculate_ema(df, ema_1)\n",
    "    df2 = calculate_ema(df1, ema_2)\n",
    "    df2 = df2.withColumn(f\"MACD of EMA{ema_1} and EMA{ema_2}\", \n",
    "                   df2[f\"EMA {ema_1} Days\"] - df2[f\"EMA {ema_2} Days\"])\n",
    "    \n",
    "    # df2 = df2.drop(f\"EMA {ema_1} Days\", f\"EMA {ema_2} Days\") #Optional\n",
    "\n",
    "    return df2\n",
    "\n",
    "# result_df = calculate_macd(merged_df)\n",
    "# result_df.show(10)"
   ]
  },
  {
   "cell_type": "markdown",
   "id": "b5e55664",
   "metadata": {},
   "source": [
    "## %K of the Stochastic Oscillator for a N-day period"
   ]
  },
  {
   "cell_type": "code",
   "execution_count": 133,
   "id": "33ebc7c4",
   "metadata": {},
   "outputs": [],
   "source": [
    "def calculate_K_indicator(df, n=3):\n",
    "    window_spec = Window().partitionBy('Symbol').orderBy('Date').rowsBetween(-n+1, 0)\n",
    "\n",
    "    df = df.withColumn('HH', expr(f'max(Close)').over(window_spec).cast('double'))\n",
    "    df = df.withColumn('LL', expr(f'min(Close)').over(window_spec).cast('double'))\n",
    "\n",
    "    count_expr = count(\"Close\").over(window_spec)\n",
    "\n",
    "    df = df.withColumn(f'%K {n} Days', when(count_expr >= n, 100 * (col('Close') - col('LL')) / (col('HH') - col('LL'))).otherwise(None))\n",
    "\n",
    "    df = df.drop('HH', 'LL') #Optional\n",
    "\n",
    "    return df\n",
    "\n",
    "# result_df = calculate_K_indicator(merged_df, n=3)\n",
    "# result_df.show(10)"
   ]
  },
  {
   "cell_type": "markdown",
   "id": "88a5e8b6",
   "metadata": {},
   "source": [
    "## %D of the Stochastic Oscillator"
   ]
  },
  {
   "cell_type": "code",
   "execution_count": 134,
   "id": "40df41f0",
   "metadata": {},
   "outputs": [],
   "source": [
    "def calculate_D_indicator(df, n=3):\n",
    "    window_spec = Window().partitionBy('Symbol').orderBy('Date').rowsBetween(-n+1, 0)\n",
    "\n",
    "    df = calculate_K_indicator(df, n=n)\n",
    "    df = df.withColumn(f'%D {n} Days', avg(col(f'%K {n} Days')).over(window_spec))\n",
    "\n",
    "    # df = df.drop(f'%K {n} Days') #Optional\n",
    "\n",
    "    return df\n",
    "\n",
    "# result_df = calculate_D_indicator(merged_df, n=3)\n",
    "# result_df.show(10)"
   ]
  },
  {
   "cell_type": "markdown",
   "id": "6d7153aa",
   "metadata": {},
   "source": [
    "## Relative Strength Index (RSI) for N-day period"
   ]
  },
  {
   "cell_type": "code",
   "execution_count": 135,
   "id": "1af2ef77",
   "metadata": {},
   "outputs": [],
   "source": [
    "def calculate_rsi(df, n=3):\n",
    "\n",
    "    df = df.withColumn('change', col('Close') - lag('Close').over(Window.partitionBy('Symbol').orderBy('Date')))\n",
    "\n",
    "    df = df.withColumn('gain', when(col('change') < 0, 0.0).otherwise(col('change')))\n",
    "    df = df.withColumn('loss', when(col('change') > 0, 0.0).otherwise(-col('change')))\n",
    "\n",
    "    def rma(values, n):\n",
    "        if len(values) < n:\n",
    "            return None\n",
    "        \n",
    "        x = np.array(values)\n",
    "\n",
    "        a = np.full_like(x, np.nan)\n",
    "        a[n-1] = x[:n].mean()\n",
    "        for i in range(n, len(x)):\n",
    "            a[i] = (a[i-1] * (n - 1) + x[i]) / n\n",
    "        return float(a[-1])\n",
    "\n",
    "    rma_udf = udf(rma)\n",
    "\n",
    "    window_spec = Window.partitionBy('Symbol').orderBy('Date')\n",
    "    df = df.withColumn('avg_gain', rma_udf(collect_list('gain').over(window_spec), lit(n)))\n",
    "    df = df.withColumn('avg_loss', rma_udf(collect_list('loss').over(window_spec), lit(n)))\n",
    "\n",
    "    df = df.withColumn('rs', col('avg_gain') / col('avg_loss'))\n",
    "    df = df.withColumn(f'RSI {n} Days', 100 - (100 / (1 + col('rs'))))\n",
    "\n",
    "    df = df.drop('change', 'gain', 'loss', 'avg_gain', 'avg_loss', 'rs') #Optional\n",
    "\n",
    "    return df\n",
    "\n",
    "# result_df = calculate_rsi(merged_df, n=3)\n",
    "# result_df.show(10)"
   ]
  },
  {
   "cell_type": "markdown",
   "metadata": {},
   "source": [
    "## Williams %R for a N-day period"
   ]
  },
  {
   "cell_type": "code",
   "execution_count": 136,
   "id": "f0c4b8fa",
   "metadata": {},
   "outputs": [],
   "source": [
    "def calculate_williams_r(df, n):\n",
    "    window_spec = Window().partitionBy('Symbol').orderBy('Date').rowsBetween(- n + 1, 0)\n",
    "\n",
    "    df = df.withColumn('Highest High', max('High').over(window_spec))\n",
    "    df = df.withColumn('Lowest Low', min('Low').over(window_spec))\n",
    "\n",
    "    df = df.withColumn(f'Williams %R {n} Days', ((col('Highest High') - col('Close')) / (col('Highest High') - col('Lowest Low'))) * -100)\n",
    "\n",
    "    df = df.drop('Highest High', 'Lowest Low') #Optional\n",
    "\n",
    "    return df\n",
    "# result_df = calculate_williams_r(merged_df, n=3)\n",
    "# result_df.show(10)"
   ]
  },
  {
   "cell_type": "markdown",
   "id": "5869ae05",
   "metadata": {},
   "source": [
    "## Accumulation/Distribution Indicator (A/D)"
   ]
  },
  {
   "cell_type": "code",
   "execution_count": 137,
   "id": "da7afda8",
   "metadata": {},
   "outputs": [],
   "source": [
    "def calculate_money_flow_and_ad(df, n=3):\n",
    "    window_spec = Window().partitionBy('Symbol').orderBy('Date').rowsBetween(- n + 1, 0)\n",
    "\n",
    "    df = df.withColumn('Highest High', max('High').over(window_spec))\n",
    "    df = df.withColumn('Lowest Low', min('Low').over(window_spec))\n",
    "\n",
    "    money_flow_expr = ((col('Close') - col('Lowest Low')) - (col('Highest High') - col('Close'))) / (col('Highest High') - col('Lowest Low'))\n",
    "    df = df.withColumn('MoneyFlow', money_flow_expr)\n",
    "\n",
    "    window_spec = Window().partitionBy('Symbol').orderBy('Date')\n",
    "    ad_expr = lag('MoneyFlow').over(window_spec) + col('MoneyFlow')\n",
    "    df = df.withColumn(f'AD {n} Days', ad_expr)\n",
    "\n",
    "    df = df.drop('Highest High', 'Lowest Low', 'MoneyFlow') #Optional\n",
    "\n",
    "    return df\n",
    "# result_df = calculate_money_flow_and_ad(merged_df, n=3)\n",
    "# result_df.show(10)"
   ]
  },
  {
   "cell_type": "markdown",
   "id": "da7e248c",
   "metadata": {},
   "source": [
    "## Commodity Channel Index (CCI)\n",
    "\n",
    "[Reference](https://www.google.com/search?q=stock+cci+example+calculation&tbm=isch&ved=2ahUKEwilxcW6hfSDAxUvWPUHHYcrBfcQ2-cCegQIABAA&oq=stock+cci+example+calculation&gs_lcp=CgNpbWcQAzoECCMQJ1DuDVjdGWD7GmgAcAB4AIABiwGIAeUMkgEEMC4xM5gBAKABAaoBC2d3cy13aXotaW1nwAEB&sclient=img&ei=WvivZaWwGK-w1e8Ph9eUuA8&bih=992&biw=902#imgrc=ERE0qeFnlpRTSM)"
   ]
  },
  {
   "cell_type": "code",
   "execution_count": 138,
   "id": "518f2482",
   "metadata": {},
   "outputs": [],
   "source": [
    "def calculate_cci(df, n=3):\n",
    "    df = df.withColumn('TypicalPrice', (col('High') + col('Low') + col('Close')) / 3)\n",
    "\n",
    "    window_spec = Window().partitionBy('Symbol').orderBy('Date').rowsBetween(- n + 1, 0)\n",
    "    count_expr = count(\"Close\").over(window_spec)\n",
    "\n",
    "    sma_expr = avg('TypicalPrice').over(window_spec)\n",
    "    df = df.withColumn(f'SMA', when(count_expr >= n, sma_expr).otherwise(None))\n",
    "\n",
    "    def md(values, n):\n",
    "        if len(values) < n:\n",
    "            return None\n",
    "\n",
    "        x = np.array(values)\n",
    "        avg = np.sum(x) / n\n",
    "        summ = np.sum(np.abs(avg - x))\n",
    "        result = summ / n\n",
    "        return float(result)\n",
    "        \n",
    "    md_udf = udf(md)\n",
    "\n",
    "    df = df.withColumn('MeanDeviation', md_udf(collect_list('TypicalPrice').over(window_spec), lit(n)))\n",
    "\n",
    "    cci_expr = (col('TypicalPrice') - col('SMA')) / (0.015 * col('MeanDeviation'))\n",
    "    df = df.withColumn(f'CCI {n} Days', cci_expr)\n",
    "\n",
    "    df = df.drop('SMA', 'MeanDeviation', 'TypicalPrice') #Optional\n",
    "\n",
    "    return df\n",
    "\n",
    "# data = {\n",
    "#     \"High\": [24.20, 24.07, 24.04, 23.87, 23.67, 23.59, 23.80, 23.80, 24.30, 24.15, 24.05, 24.06, 23.88, 25.14, 25.20, 25.07, 25.22, 25.37, 25.36, 25.26, 24.82, 24.44],\n",
    "#     \"Low\": [23.85, 23.72, 23.64, 23.37, 23.46, 23.18, 23.40, 23.57, 24.05, 23.77, 23.6, 23.84, 23.64, 23.94, 24.74, 24.77, 24.90, 24.93, 24.96, 24.93, 24.21, 24.21],\n",
    "#     \"Close\": [23.89, 23.95, 23.67, 23.78, 23.50, 23.32, 23.75, 23.79, 24.14, 23.81, 23.78, 23.86, 23.70, 24.96, 24.88, 24.96, 25.18, 25.07, 25.27, 25.00, 24.46, 24.28],\n",
    "# }\n",
    "# from pyspark.sql import Row\n",
    "\n",
    "# # Create a list of Row objects from the data\n",
    "# rows = [Row(High=high, Low=low, Close=close, ) for close, high, low in zip(data['Close'], data['High'], data['Low'])]\n",
    "\n",
    "# df = spark.createDataFrame(rows)\n",
    "\n",
    "# df = df.withColumn('Symbol', lit('AAPL'))\n",
    "# df = df.withColumn(\"Date\", date_add(lit(\"2022-01-01\"), row_number().over(Window.orderBy(\"Symbol\")) - 1))\n",
    "\n",
    "\n",
    "# result_df = calculate_cci(merged_df, n=3)\n",
    "# result_df.show(10)"
   ]
  },
  {
   "cell_type": "markdown",
   "id": "57843121",
   "metadata": {},
   "source": [
    "## %Difference from n days"
   ]
  },
  {
   "cell_type": "code",
   "execution_count": 139,
   "id": "7eb1884d",
   "metadata": {},
   "outputs": [],
   "source": [
    "def calculate_percentage_change(df, n):\n",
    "    window_spec = Window().partitionBy('Symbol').orderBy('Date')\n",
    "\n",
    "    df = df.withColumn(f'Percentage Change {n} Day(s)', (col('Close') - lag('Close', n).over(window_spec)) / col('Close'))\n",
    "\n",
    "    return df\n",
    "# result_df = calculate_percentage_change(merged_df, n=1)\n",
    "# result_df = calculate_percentage_change(result_df, n=2)\n",
    "# result_df = calculate_percentage_change(result_df, n=3)\n",
    "# result_df.show(10)"
   ]
  },
  {
   "cell_type": "markdown",
   "id": "2d9e64f3",
   "metadata": {},
   "source": [
    "## %Difference from lowest low i for a N-day period"
   ]
  },
  {
   "cell_type": "code",
   "execution_count": 140,
   "id": "e09171be",
   "metadata": {},
   "outputs": [],
   "source": [
    "def calculate_percentage_to_lowest(df, n):\n",
    "    window_spec = Window().partitionBy('Symbol').orderBy('Date').rowsBetween(-n+1, 0)\n",
    "    count_expr = count(\"Close\").over(window_spec)\n",
    "\n",
    "    df = df.withColumn('LL', when(count_expr >= n, expr(f'min(Close)').over(window_spec).cast('double')).otherwise(None))\n",
    "\n",
    "    df = df.withColumn(f'Percentage Change {n} Day(s)', (col('Close') - col('LL')) / col('Close'))\n",
    "\n",
    "    df = df.drop('LL') #Optional\n",
    "\n",
    "    return df\n",
    "\n",
    "# result_df = calculate_percentage_to_lowest(merged_df, n=3)\n",
    "# result_df.show(10)"
   ]
  },
  {
   "cell_type": "markdown",
   "id": "175bdb64",
   "metadata": {},
   "source": [
    "## %Difference from highest high for a N-day period"
   ]
  },
  {
   "cell_type": "code",
   "execution_count": 141,
   "id": "c7b0cee7",
   "metadata": {},
   "outputs": [],
   "source": [
    "def calculate_percentage_to_highest(df, n):\n",
    "    window_spec = Window().partitionBy('Symbol').orderBy('Date').rowsBetween(-n+1, 0)\n",
    "    count_expr = count(\"Close\").over(window_spec)\n",
    "\n",
    "    df = df.withColumn('HH', when(count_expr >= n, expr(f'max(Close)').over(window_spec).cast('double')).otherwise(None))\n",
    "\n",
    "    df = df.withColumn(f'Percentage Change {n} Day(s)', (col('Close') - col('HH')) / col('Close'))\n",
    "\n",
    "    df = df.drop('HH') #Optional\n",
    "\n",
    "    return df\n",
    "\n",
    "# result_df = calculate_percentage_to_highest(merged_df, n=3)\n",
    "# result_df.show(10)"
   ]
  },
  {
   "cell_type": "markdown",
   "id": "a207ab49",
   "metadata": {},
   "source": [
    "## On-balance volume (OBV)"
   ]
  },
  {
   "cell_type": "code",
   "execution_count": 142,
   "id": "af4b5373",
   "metadata": {},
   "outputs": [],
   "source": [
    "def calculate_obv(df):\n",
    "    df = df.withColumn('OBV', lit(0))\n",
    "    window_spec = Window().partitionBy('Symbol').orderBy('Date')\n",
    "\n",
    "    obv_expr = (\n",
    "        when(col('Close') > lag('Close').over(window_spec), 1)\n",
    "        .when(col('Close') < lag('Close').over(window_spec), -1)\n",
    "        .otherwise(0)\n",
    "    ) * col('Volume') + lag('OBV').over(window_spec)\n",
    "\n",
    "    df = df.withColumn('OBV', coalesce(obv_expr, lit(None)))\n",
    "\n",
    "    return df\n",
    "    \n",
    "# result_df = calculate_obv(merged_df)\n",
    "# result_df.show(10)"
   ]
  },
  {
   "cell_type": "markdown",
   "id": "83110a4e",
   "metadata": {},
   "source": [
    "## FT-Min"
   ]
  },
  {
   "cell_type": "code",
   "execution_count": 143,
   "id": "73b0786d",
   "metadata": {},
   "outputs": [],
   "source": [
    "def ft_min_udf(df, n=3):\n",
    "    def ft_min(values):\n",
    "        if len(values) == 0:\n",
    "            return None\n",
    "\n",
    "        fft_result = np.fft.fft(values)\n",
    "        m = len(values)\n",
    "        frequencies = np.fft.fftfreq(m, d=1)\n",
    "\n",
    "        non_zero_frequencies = frequencies[np.nonzero(frequencies)]\n",
    "\n",
    "        if len(non_zero_frequencies) > 0:\n",
    "            min_frequency = np.min(np.abs(non_zero_frequencies))\n",
    "            return float(min_frequency)\n",
    "        else:\n",
    "            return None\n",
    "        \n",
    "        return 1\n",
    "\n",
    "    ft_min_udf = udf(ft_min)\n",
    "\n",
    "    window_spec = Window().partitionBy('Symbol').orderBy('Date').rowsBetween(-n + 1, 0)\n",
    "    df = df.withColumn(f'FT_Min {n} days', ft_min_udf(collect_list('Close').over(window_spec)))\n",
    "    df = df.withColumn(f'FT_Min {n} days', col(f'FT_Min {n} days').cast(\"double\"))\n",
    "\n",
    "    return df\n",
    "\n",
    "# result_df = ft_min_udf(merged_df, n=6)\n",
    "# result_df.show(10)"
   ]
  },
  {
   "cell_type": "markdown",
   "id": "9cebc2a1",
   "metadata": {},
   "source": [
    "## FT-Max"
   ]
  },
  {
   "cell_type": "code",
   "execution_count": 144,
   "id": "9aa101db",
   "metadata": {},
   "outputs": [],
   "source": [
    "def ft_max_udf(df, n=3):\n",
    "    def ft_max(values):\n",
    "        if len(values) == 0:\n",
    "            return None\n",
    "\n",
    "        fft_result = np.fft.fft(values)\n",
    "        m = len(values)\n",
    "        frequencies = np.fft.fftfreq(m, d=1)\n",
    "\n",
    "        non_zero_frequencies = frequencies[np.nonzero(frequencies)]\n",
    "\n",
    "        if len(non_zero_frequencies) > 0:\n",
    "            max_frequency = np.max(np.abs(non_zero_frequencies))\n",
    "            return float(max_frequency)\n",
    "        else:\n",
    "            return None\n",
    "        \n",
    "        return 1\n",
    "\n",
    "    ft_max_udf = udf(ft_max)\n",
    "\n",
    "    window_spec = Window().partitionBy('Symbol').orderBy('Date').rowsBetween(-n + 1, 0)\n",
    "    df = df.withColumn(f'FT_Max {n} days', ft_max_udf(collect_list('Close').over(window_spec)))\n",
    "    df = df.withColumn(f'FT_Max {n} days', col(f'FT_Max {n} days').cast(\"double\"))\n",
    "\n",
    "    return df\n",
    "\n",
    "# result_df = ft_max_udf(merged_df, n=6)"
   ]
  },
  {
   "cell_type": "markdown",
   "id": "b3c44a1e",
   "metadata": {},
   "source": [
    "## FT-Mean"
   ]
  },
  {
   "cell_type": "code",
   "execution_count": 145,
   "id": "4c39396d",
   "metadata": {},
   "outputs": [],
   "source": [
    "def ft_mean_udf(df, n=3):\n",
    "    def ft_mean(values):\n",
    "        if len(values) == 0:\n",
    "            return None\n",
    "\n",
    "        fft_result = np.fft.fft(values)\n",
    "        m = len(values)\n",
    "        frequencies = np.fft.fftfreq(m, d=1)\n",
    "\n",
    "        non_zero_frequencies = frequencies[np.nonzero(frequencies)]\n",
    "\n",
    "        if len(non_zero_frequencies) > 0:\n",
    "            mean_frequency = np.mean(np.abs(non_zero_frequencies))\n",
    "            return float(mean_frequency)\n",
    "        else:\n",
    "            return None\n",
    "        \n",
    "        return 1\n",
    "\n",
    "    ft_mean_udf = udf(ft_mean)\n",
    "\n",
    "    window_spec = Window().partitionBy('Symbol').orderBy('Date').rowsBetween(-n + 1, 0)\n",
    "    df = df.withColumn(f'FT_Mean {n} days', ft_mean_udf(collect_list('Close').over(window_spec)))\n",
    "    df = df.withColumn(f'FT_Mean {n} days', col(f'FT_Mean {n} days').cast(\"double\"))\n",
    "\n",
    "    return df\n",
    "\n",
    "# result_df = ft_mean_udf(merged_df, n=6)\n",
    "# result_df.show(10)"
   ]
  },
  {
   "cell_type": "markdown",
   "id": "f38500f8",
   "metadata": {},
   "source": [
    "# Boolean"
   ]
  },
  {
   "cell_type": "markdown",
   "id": "9a134724",
   "metadata": {},
   "source": [
    "## Simple Boolean for Moving Areas"
   ]
  },
  {
   "cell_type": "code",
   "execution_count": 146,
   "id": "312ecf42",
   "metadata": {},
   "outputs": [],
   "source": [
    "def calculate_simple_bool(df, col1, col2):\n",
    "    obv_expr = (\n",
    "        when(col(col1) > col(col2), 1)\n",
    "        .when(col(col2).isNull(), None)\n",
    "        .otherwise(-1)\n",
    "    )\n",
    "\n",
    "    df = df.withColumn(f'Bool {col2}', coalesce(obv_expr, lit(None)))\n",
    "    return df\n",
    "\n",
    "# result_df = calculate_simple_bool(result_df, \"Close\", \"SMA 3 Days\")\n",
    "# result_df = calculate_simple_bool(result_df, \"Close\", \"SMA 5 Days\")\n",
    "# result_df = calculate_simple_bool(result_df, \"Close\", \"WMA 3 Days\")\n",
    "# result_df = calculate_simple_bool(result_df, \"Close\", \"WMA 5 Days\")\n",
    "# result_df = calculate_simple_bool(result_df, \"Close\", \"EMA 3 Days\")\n",
    "# result_df = calculate_simple_bool(result_df, \"Close\", \"EMA 5 Days\")"
   ]
  },
  {
   "cell_type": "markdown",
   "id": "f807f624",
   "metadata": {},
   "source": [
    "## Complex Boolean for Stochastic, RSI, CCI, ..."
   ]
  },
  {
   "cell_type": "code",
   "execution_count": 147,
   "id": "1d46f689",
   "metadata": {},
   "outputs": [],
   "source": [
    "def calculate_complex_bool(df, col_name, upper, lower):\n",
    "    window_spec = Window().partitionBy('Symbol').orderBy('Date')\n",
    "    obv_expr = (\n",
    "        when(col(col_name) >= upper, 1)\n",
    "        .when(col(col_name) <= lower, -1)\n",
    "        .when((col(col_name) > lower) & (col(col_name) < upper) & (col(col_name) > lag(col_name).over(window_spec)), 1)\n",
    "        .when(col(col_name).isNull(), None)\n",
    "        .otherwise(-1)\n",
    "    )\n",
    "\n",
    "    df = df.withColumn(f'Bool {col_name}', coalesce(obv_expr, lit(None)))\n",
    "    return df"
   ]
  },
  {
   "cell_type": "markdown",
   "id": "34ffe17f",
   "metadata": {},
   "source": [
    "## Complex Boollean 2 for A/D and MACD"
   ]
  },
  {
   "cell_type": "code",
   "execution_count": 148,
   "id": "75dcaacd",
   "metadata": {},
   "outputs": [],
   "source": [
    "def calculate_complex2_bool(df, col_name):\n",
    "    window_spec = Window().partitionBy('Symbol').orderBy('Date')\n",
    "    obv_expr = (\n",
    "        when(col(col_name) > lag(col_name).over(window_spec), 1)\n",
    "        .when(col(col_name).isNull(), None)\n",
    "        .otherwise(-1)\n",
    "    )\n",
    "\n",
    "    df = df.withColumn(f'Bool {col_name}', coalesce(obv_expr, lit(None)))\n",
    "    return df"
   ]
  },
  {
   "cell_type": "markdown",
   "id": "4a6d62f4",
   "metadata": {},
   "source": [
    "## Combine"
   ]
  },
  {
   "cell_type": "code",
   "execution_count": 149,
   "id": "6ef89eab",
   "metadata": {},
   "outputs": [
    {
     "name": "stderr",
     "output_type": "stream",
     "text": [
      "24/02/23 16:55:03 WARN DAGScheduler: Broadcasting large task binary with size 1628.8 KiB\n",
      "24/02/23 16:55:09 WARN DAGScheduler: Broadcasting large task binary with size 1640.5 KiB\n",
      "24/02/23 16:55:43 WARN TaskSetManager: Stage 745 contains a task of very large size (3093 KiB). The maximum recommended task size is 1000 KiB.\n",
      "24/02/23 16:55:57 WARN TaskSetManager: Stage 746 contains a task of very large size (3242 KiB). The maximum recommended task size is 1000 KiB.\n",
      "24/02/23 16:56:13 WARN TaskSetManager: Stage 747 contains a task of very large size (4140 KiB). The maximum recommended task size is 1000 KiB.\n",
      "24/02/23 16:56:32 WARN TaskSetManager: Stage 748 contains a task of very large size (4140 KiB). The maximum recommended task size is 1000 KiB.\n",
      "[Stage 757:=====>                                                  (1 + 9) / 10]\r"
     ]
    },
    {
     "name": "stdout",
     "output_type": "stream",
     "text": [
      "+------+----+----+----+-----+-------+----------+----------------------------+----------------------------+----------------------------+-----------------------------+-----------------------------+-----------------------------+----------------+------------------------------+---------------------------+------------------------------------+---------------------------------+-------------------------------------+----------------------------------+-----------------+----------+-----------------+----------+------------------+------------------+---------------+---------------+---------------+---------------+---------------+---------------+---------------------+------------------+------------------+------------------+------------------+------------------+-----------------+-------------------+--------------------+-------------------+--------------+--------------------------+--------------+--------------+--------------+--------------+---------------+-----------------------+--------------------------+--------------------------+--------------------------+--------+-------------------+------------------+------------------+\n",
      "|Symbol|Open|High| Low|Close| Volume|      Date|Price Change To 1 Day(s) Ago|Price Change To 2 Day(s) Ago|Price Change To 3 Day(s) Ago|Volume Change To 1 Day(s) Ago|Volume Change To 2 Day(s) Ago|Volume Change To 3 Day(s) Ago|Price Difference|Median Volume 3 day(s) periods|Std Volume 3 day(s) periods|Median Price Change 3 day(s) periods|Std Price Change 3 day(s) periods|Median Volume Change 3 day(s) periods|Std Volume Change 3 day(s) periods|       SMA 3 Days|SMA 5 Days|       WMA 3 Days|WMA 5 Days|        EMA 3 Days|        EMA 5 Days|Bool SMA 3 Days|Bool SMA 5 Days|Bool WMA 3 Days|Bool WMA 5 Days|Bool EMA 3 Days|Bool EMA 5 Days|MACD of EMA3 and EMA5|         %K 3 Days|         %K 5 Days|         %D 3 Days|         %D 5 Days|        RSI 3 Days|       RSI 5 Days| Williams %R 3 Days|           AD 3 Days|         CCI 3 Days|Bool AD 3 Days|Bool MACD of EMA3 and EMA5|Bool %K 3 Days|Bool %K 5 Days|Bool %D 3 Days|Bool %D 5 Days|Bool CCI 3 Days|Bool Williams %R 3 Days|Percentage Change 1 Day(s)|Percentage Change 2 Day(s)|Percentage Change 3 Day(s)|     OBV|      FT_Min 6 days|     FT_Max 6 days|    FT_Mean 6 days|\n",
      "+------+----+----+----+-----+-------+----------+----------------------------+----------------------------+----------------------------+-----------------------------+-----------------------------+-----------------------------+----------------+------------------------------+---------------------------+------------------------------------+---------------------------------+-------------------------------------+----------------------------------+-----------------+----------+-----------------+----------+------------------+------------------+---------------+---------------+---------------+---------------+---------------+---------------+---------------------+------------------+------------------+------------------+------------------+------------------+-----------------+-------------------+--------------------+-------------------+--------------+--------------------------+--------------+--------------+--------------+--------------+---------------+-----------------------+--------------------------+--------------------------+--------------------------+--------+-------------------+------------------+------------------+\n",
      "|   AAT|4530|4540|4500| 4500| 303600|2023-05-04|                        NULL|                        NULL|                        NULL|                         NULL|                         NULL|                         NULL|             -30|                          NULL|                       NULL|                                NULL|                             NULL|                                 NULL|                              NULL|             NULL|      NULL|             NULL|      NULL|              NULL|              NULL|           NULL|           NULL|           NULL|           NULL|           NULL|           NULL|                 NULL|              NULL|              NULL|              NULL|              NULL|              NULL|             NULL|             -100.0|                NULL|               NULL|          NULL|                      NULL|          NULL|          NULL|          NULL|          NULL|           NULL|                     -1|                      NULL|                      NULL|                      NULL|    NULL|               NULL|              NULL|              NULL|\n",
      "|   AAT|4500|4520|4490| 4500| 227700|2023-05-05|                         0.0|                        NULL|                        NULL|                     -75900.0|                         NULL|                         NULL|               0|                          NULL|                       NULL|                                NULL|                             NULL|                                 NULL|                              NULL|             NULL|      NULL|             NULL|      NULL|              NULL|              NULL|           NULL|           NULL|           NULL|           NULL|           NULL|           NULL|                 NULL|              NULL|              NULL|              NULL|              NULL|              NULL|             NULL|              -80.0|                -1.6|               NULL|            -1|                      NULL|          NULL|          NULL|          NULL|          NULL|           NULL|                     -1|                       0.0|                      NULL|                      NULL|       0|                0.5|               0.5|               0.5|\n",
      "|   AAT|4500|4680|4490| 4650|1007800|2023-05-08|                       150.0|                       150.0|                        NULL|                     780100.0|                     704200.0|                         NULL|             150|                      303600.0|         430157.81212635594|                                NULL|                             NULL|                                 NULL|                              NULL|           4550.0|      NULL|           9050.0|      NULL| 4585.714285714285|              NULL|            1.0|           NULL|           -1.0|           NULL|            1.0|           NULL|                 NULL|             100.0|              NULL|             100.0|              NULL|              NULL|             NULL|-15.789473684210526| 0.08421052631578951| 100.00000000000139|             1|                      NULL|             1|          NULL|             1|          NULL|             -1|                      1|       0.03225806451612903|       0.03225806451612903|                       0.0| 1007800| 0.3333333333333333|0.3333333333333333|0.3333333333333333|\n",
      "|   AAT|4710|4710|4610| 4620| 303200|2023-05-09|                       -30.0|                       120.0|                       120.0|                    -704600.0|                      75500.0|                       -400.0|             -90|                      303200.0|          430255.2382016981|                                 0.0|                96.43650760992955|                             -75900.0|                 430255.2382016981|           4590.0|      NULL|           9140.0|      NULL|            4604.0|              NULL|            1.0|           NULL|           -1.0|           NULL|            1.0|           NULL|                 NULL|              80.0|              NULL|              90.0|              NULL| 83.33333333333333|             NULL|-40.909090909090914|  0.8660287081339713|   74.3243243243242|             1|                      NULL|             1|          NULL|             1|          NULL|             -1|                     -1|      -0.00649350649350...|      0.025974025974025976|      -0.00649350649350...| -303200|               0.25|               0.5|0.3333333333333333|\n",
      "|   AAT|4640|4860|4590| 4820|1773800|2023-05-10|                       200.0|                       170.0|                       320.0|                    1470600.0|                     766000.0|                    1546100.0|             180|                     1007800.0|          735513.5983333914|                               150.0|               120.96831541082703|                             780100.0|                 735513.5983333914|4696.666666666667|    4618.0|9336.666666666666|   13702.0|4715.4838709677415|4679.1469194312795|            1.0|            1.0|           -1.0|           -1.0|            1.0|            1.0|    36.33695153646204|             100.0|             100.0| 93.33333333333333|             100.0|             93.75|             NULL| -10.81081081081081|  0.9656019656019657| 100.00000000000053|             1|                        -1|             1|             1|             1|             1|              1|                      1|       0.04149377593360996|      0.035269709543568464|                       0.0| 1773800|                0.2|               0.4|               0.3|\n",
      "|   AAT|4870|4980|4820| 4830|1051700|2023-05-11|                        10.0|                       210.0|                       180.0|                    -722100.0|                     748500.0|                      43900.0|             -40|                     1051700.0|          735339.4930234606|                                10.0|               122.88205727444507|                            -704600.0|                 735339.4930234606|4756.666666666667|    4684.0|9443.333333333334|   13886.0| 4773.650793650793| 4734.270676691729|            1.0|            1.0|           -1.0|           -1.0|            1.0|            1.0|    39.38011695906425|             100.0|             100.0| 93.33333333333333|             100.0| 94.02985074626865| 92.3076923076923| -38.46153846153847|  1.0145530145530146| 100.00000000000041|             1|                         1|             1|             1|             1|             1|             -1|                     -1|      0.002070393374741201|      0.043478260869565216|                       0.0| 1051700|0.16666666666666666|               0.5|               0.3|\n",
      "|   AAT|4810|4860|4740| 4830| 965600|2023-05-12|                         0.0|                        10.0|                       210.0|                     -86100.0|                    -808200.0|                     662400.0|              20|                     1051700.0|          443852.2389264247|                                10.0|               112.69427669584645|                             -86100.0|                 443852.2389264247|4826.666666666667|    4750.0|           9650.0|   14136.0| 4802.047244094489| 4768.164157357941|            1.0|            1.0|           -1.0|           -1.0|            1.0|            1.0|    33.88308673654774|             100.0|             100.0|             100.0|             100.0| 94.02985074626865| 92.3076923076923| -38.46153846153847| 0.46153846153846156| -7.142857142856987|            -1|                        -1|             1|             1|             1|             1|             -1|                     -1|                       0.0|      0.002070393374741201|                       0.0|       0|0.16666666666666666|               0.5|               0.3|\n",
      "|   AAT|4950|5080|4830| 4850|1698300|2023-05-15|                        20.0|                        20.0|                        30.0|                     732700.0|                     646600.0|                     -75500.0|            -100|                     1051700.0|          400490.1288837633|                                10.0|                             10.0|                             -86100.0|                 400490.1288837633|4836.666666666667|    4790.0|9666.666666666666|   14276.0| 4826.117647058823| 4796.550356859635|            1.0|            1.0|           -1.0|           -1.0|            1.0|            1.0|   29.567290199188392|             100.0|             100.0|             100.0|             100.0| 95.03105590062111|92.87833827893175| -67.64705882352942|-0.12217194570135748|  86.79245283018778|            -1|                        -1|             1|             1|             1|             1|              1|                     -1|      0.004123711340206186|      0.004123711340206186|                       0.0| 1698300|0.16666666666666666|               0.5|               0.3|\n",
      "|   AAT|4860|4900|4790| 4830| 848300|2023-05-16|                       -20.0|                         0.0|                         0.0|                    -850000.0|                    -117300.0|                    -203400.0|             -30|                      965600.0|          460635.1737908573|                                 0.0|                             20.0|                             -86100.0|                 460635.1737908573|4836.666666666667|    4832.0|9673.333333333334|   14488.0| 4828.062622309198| 4807.998017839445|           -1.0|           -1.0|           -1.0|           -1.0|            1.0|            1.0|    20.06460446975234|               0.0|33.333333333333336| 66.66666666666667| 86.66666666666666| 75.93052109181141|84.99660556687033| -73.52941176470588| -0.8235294117647058| -26.31578947368463|            -1|                        -1|            -1|            -1|            -1|             1|             -1|                     -1|      -0.00414078674948...|                       0.0|      -0.00414078674948...| -848300|0.16666666666666666|               0.5|               0.3|\n",
      "|   AAT|4860|4870|4820| 4820| 689900|2023-05-17|                       -10.0|                       -30.0|                       -10.0|                    -158400.0|                   -1008400.0|                    -275700.0|             -40|                      848300.0|          542288.5332858638|                               -10.0|               20.816659994661325|                            -158400.0|                 542288.5332858638|4833.333333333333|    4832.0|9676.666666666666|   14500.0| 4824.027370478983|  4812.06928048255|           -1.0|           -1.0|           -1.0|           -1.0|           -1.0|            1.0|   11.958089996433046|               0.0|               0.0|33.333333333333336| 66.66666666666666| 65.98382749326146|80.71560963816586| -89.65517241379311| -1.2636916835699799| -53.06122448979565|            -1|                        -1|            -1|            -1|            -1|            -1|             -1|                     -1|      -0.00207468879668...|      -0.00622406639004...|      -0.00622406639004...| -689900|0.16666666666666666|               0.5|               0.3|\n",
      "|   AAT|4790|4830|4700| 4770| 941400|2023-05-18|                       -50.0|                       -60.0|                       -80.0|                     251500.0|                      93100.0|                    -756900.0|             -20|                      848300.0|         127155.03660230424|                               -20.0|                20.81665999466133|                            -158400.0|                127155.03660230424|4806.666666666667|    4820.0|9633.333333333334|   14490.0| 4797.000488519785| 4797.882169515531|           -1.0|           -1.0|           -1.0|           -1.0|           -1.0|           -1.0|  -0.8816809957461373|               0.0|               0.0|               0.0| 46.66666666666667|33.283480625424886|61.39041694120532|              -65.0| -1.0931034482758621|-100.00000000000192|             1|                        -1|            -1|            -1|            -1|            -1|             -1|                      1|      -0.01048218029350...|      -0.01257861635220...|      -0.01257861635220...| -941400|0.16666666666666666|               0.5|               0.3|\n",
      "|   AAT|4810|4810|4550| 4630|1120400|2023-05-19|                      -140.0|                      -190.0|                      -200.0|                     179000.0|                     430500.0|                     272100.0|            -180|                      941400.0|         216265.07654573667|                               -50.0|                66.58328118479393|                             179000.0|                216265.07654573667|           4740.0|    4780.0|9543.333333333334|   14440.0| 4713.479853479854| 4741.486787586874|           -1.0|           -1.0|           -1.0|           -1.0|           -1.0|           -1.0|  -28.006934107020243|               0.0|               0.0|               0.0|26.666666666666668|10.801270737733859|33.40100126304206|              -75.0|                -0.8|             -100.0|             1|                        -1|            -1|            -1|            -1|            -1|              1|                     -1|      -0.03023758099352052|      -0.04103671706263499|      -0.04103671706263499|-1120400|0.16666666666666666|               0.5|               0.3|\n",
      "|   AAT|4640|4680|4610| 4620| 726100|2023-05-22|                       -10.0|                      -150.0|                      -200.0|                    -394300.0|                    -215300.0|                      36200.0|             -20|                      941400.0|         197428.29077920926|                               -50.0|                66.58328118479393|                             179000.0|                197428.29077920926|4673.333333333333|    4734.0|9396.666666666666|   14324.0| 4666.734220485899|4700.7820413320205|           -1.0|           -1.0|           -1.0|           -1.0|           -1.0|           -1.0|  -34.047820846121795|               0.0|               0.0|               0.0| 6.666666666666667|10.072312455640471|32.09451154332771|              -75.0|                -1.0| -67.14285714285722|            -1|                        -1|            -1|            -1|            -1|            -1|              1|                     -1|      -0.00216450216450...|      -0.03246753246753...|      -0.03246753246753...| -726100|0.16666666666666666|               0.5|               0.3|\n",
      "|   AAT|4640|4690|4640| 4640| 620000|2023-05-23|                        20.0|                        10.0|                      -130.0|                    -106100.0|                    -500400.0|                    -321400.0|               0|                      726100.0|          263669.5722553767|                               -10.0|                85.04900548115383|                            -106100.0|                 263669.5722553767|           4630.0|    4696.0|9256.666666666666|   14190.0| 4653.366294329488| 4680.451719627364|            1.0|           -1.0|           -1.0|           -1.0|           -1.0|           -1.0|    -27.0854252978761|             100.0|              10.0|33.333333333333336|               2.0|25.213857998289143| 38.1433617917613| -65.38461538461539| -0.8076923076923077| 28.571428571428573|             1|                         1|             1|            -1|             1|            -1|              1|                      1|      0.004310344827586207|      0.002155172413793...|                       0.0|  620000|0.16666666666666666|               0.5|               0.3|\n",
      "|   AAT|4650|4710|4640| 4700| 862000|2023-05-24|                        60.0|                        80.0|                        70.0|                     242000.0|                     135900.0|                    -258400.0|              50|                      726100.0|         121305.41345436045|                                20.0|                35.11884584284247|                            -106100.0|                121305.41345436045|4653.333333333333|    4672.0|           9280.0|   14042.0| 4676.683858760338| 4686.982727675388|            1.0|            1.0|           -1.0|           -1.0|            1.0|            1.0|  -10.298868915049752|             100.0|53.333333333333336| 66.66666666666667|12.666666666666668| 57.45193419102708|53.63211632953328|              -10.0| 0.49230769230769234|  99.99999999999628|             1|                         1|             1|             1|             1|            -1|              1|                      1|       0.01276595744680851|       0.01702127659574468|                       0.0|  862000|0.16666666666666666|               0.5|               0.3|\n",
      "|   AAT|4700|4710|4650| 4660| 568900|2023-05-25|                       -40.0|                        20.0|                        40.0|                    -293100.0|                     -51100.0|                    -157200.0|             -40|                      620000.0|         156568.84534712945|                                20.0|                50.33222956847166|                            -106100.0|                156568.84534712945|4666.666666666667|    4650.0|9326.666666666666|   13922.0| 4668.341802090486| 4677.974771053893|           -1.0|            1.0|           -1.0|           -1.0|           -1.0|           -1.0|    -9.63296896340671|33.333333333333336|              50.0| 77.77777777777779|22.666666666666668|  40.1461331011709| 44.3730319405809| -71.42857142857143|  0.3714285714285715| 15.384615384618291|            -1|                         1|            -1|            -1|             1|            -1|             -1|                     -1|      -0.00858369098712...|      0.004291845493562232|      -0.00858369098712...| -568900|0.16666666666666666|               0.5|               0.3|\n",
      "|   AAT|4660|4790|4660| 4790|1341800|2023-05-26|                       130.0|                        90.0|                       150.0|                     772900.0|                     479800.0|                     721800.0|             130|                      862000.0|          390190.1374116641|                                60.0|                85.44003745317531|                             242000.0|                 390190.1374116641|4716.666666666667|    4682.0|9403.333333333334|   13974.0| 4729.171365137979| 4715.354452888906|            1.0|            1.0|           -1.0|           -1.0|            1.0|            1.0|    13.81691224907263|             100.0|             100.0| 77.77777777777779| 42.66666666666667| 75.75253250854503|67.30427053078259|               -0.0|  0.5714285714285714|   100.000000000002|             1|                         1|             1|             1|             1|             1|              1|                      1|      0.027139874739039668|      0.018789144050104383|                       0.0| 1341800|0.16666666666666666|               0.5|               0.3|\n",
      "|   AAT|4900|5130|4820| 5130|2322200|2023-05-29|                       340.0|                       470.0|                       430.0|                     980400.0|                    1753300.0|                    1460200.0|             230|                     1341800.0|          878694.0555923508|                               130.0|                190.3505538035898|                             772900.0|                 878694.0555923508|           4860.0|    4784.0|9563.333333333334|   14138.0| 4929.586447091854| 4853.663220432457|            1.0|            1.0|           -1.0|           -1.0|            1.0|            1.0|    75.92322665939719|             100.0|             100.0| 77.77777777777779| 62.66666666666667| 92.72676667723223|86.07319149257148|               -0.0|                 2.0| 100.00000000000001|             1|                         1|             1|             1|             1|             1|             -1|                      1|       0.06627680311890838|       0.09161793372319688|                       0.0| 2322200|0.16666666666666666|               0.5|               0.3|\n",
      "|   AAT|5360|5410|5140| 5240|2621200|2023-05-30|                       110.0|                       450.0|                       580.0|                     299000.0|                    1279400.0|                    2052300.0|            -120|                     2322200.0|          669259.4813174732|                               130.0|               127.41009902410929|                             772900.0|                 669259.4813174732|5053.333333333333|    4904.0|9956.666666666666|   14402.0| 5084.793519579925| 4982.500264442342|            1.0|            1.0|           -1.0|           -1.0|            1.0|            1.0|   102.29325513758249|             100.0|             100.0|             100.0| 80.66666666666667| 94.57110399300392|88.69716498591455|-22.666666666666664|  1.5466666666666666|   94.5606694560668|            -1|                         1|             1|             1|             1|             1|             -1|                     -1|       0.02099236641221374|       0.08587786259541985|                       0.0| 2621200|0.16666666666666666|               0.5|               0.3|\n",
      "|   AAT|5240|5600|5190| 5600|2709400|2023-05-31|                       360.0|                       470.0|                       810.0|                      88200.0|                     387200.0|                    1367600.0|             360|                     2621200.0|         202938.44715413917|                               340.0|               138.92443989449805|                             299000.0|                202938.44715413917|5323.333333333333|    5084.0|          10490.0|   14786.0|  5342.39700545979| 5188.395428204891|            1.0|            1.0|           -1.0|           -1.0|            1.0|            1.0|   154.00157725489953|             100.0|             100.0|             100.0|              90.0| 97.58161231094697|93.61701262539636|               -0.0|  1.5466666666666666|  94.55445544554479|            -1|                         1|             1|             1|             1|             1|             -1|                      1|       0.06428571428571428|       0.08392857142857142|                       0.0| 2709400|0.16666666666666666|               0.5|               0.3|\n",
      "+------+----+----+----+-----+-------+----------+----------------------------+----------------------------+----------------------------+-----------------------------+-----------------------------+-----------------------------+----------------+------------------------------+---------------------------+------------------------------------+---------------------------------+-------------------------------------+----------------------------------+-----------------+----------+-----------------+----------+------------------+------------------+---------------+---------------+---------------+---------------+---------------+---------------+---------------------+------------------+------------------+------------------+------------------+------------------+-----------------+-------------------+--------------------+-------------------+--------------+--------------------------+--------------+--------------+--------------+--------------+---------------+-----------------------+--------------------------+--------------------------+--------------------------+--------+-------------------+------------------+------------------+\n",
      "only showing top 20 rows\n",
      "\n"
     ]
    },
    {
     "name": "stderr",
     "output_type": "stream",
     "text": [
      "                                                                                \r"
     ]
    }
   ],
   "source": [
    "functions_and_parameters = [\n",
    "    (calculate_price_change, {'n': 1}),\n",
    "    (calculate_price_change, {'n': 2}),\n",
    "    (calculate_price_change, {'n': 3}),\n",
    "    (calculate_volume_change, {'n': 1}),\n",
    "    (calculate_volume_change, {'n': 2}),\n",
    "    (calculate_volume_change, {'n': 3}),\n",
    "    (calculate_price_difference, {}),\n",
    "    (calculate_median_std_volume, {'n': 3}),\n",
    "    (calculate_median_std_price_change, {'n': 3}),\n",
    "    (calculate_median_std_volume_change, {'n': 3}),\n",
    "    (calculate_sma, {'n': 3}),\n",
    "    (calculate_sma, {'n': 5}),\n",
    "    (calculate_wma, {'n': 3}),\n",
    "    (calculate_wma, {'n': 5}),\n",
    "    (calculate_ema, {'n': 3}),\n",
    "    (calculate_ema, {'n': 5}),\n",
    "    (calculate_simple_bool, {'col1': 'Close', 'col2': 'SMA 3 Days'}),\n",
    "    (calculate_simple_bool, {'col1': 'Close', 'col2': 'SMA 5 Days'}),\n",
    "    (calculate_simple_bool, {'col1': 'Close', 'col2': 'WMA 3 Days'}),\n",
    "    (calculate_simple_bool, {'col1': 'Close', 'col2': 'WMA 5 Days'}),\n",
    "    (calculate_simple_bool, {'col1': 'Close', 'col2': 'EMA 3 Days'}),\n",
    "    (calculate_simple_bool, {'col1': 'Close', 'col2': 'EMA 5 Days'}),\n",
    "    (calculate_macd, {'ema_1': 3, 'ema_2': 5}),\n",
    "    (calculate_K_indicator, {'n': 3}),\n",
    "    (calculate_K_indicator, {'n': 5}),\n",
    "    (calculate_D_indicator, {'n': 3}),\n",
    "    (calculate_D_indicator, {'n': 5}),\n",
    "    (calculate_rsi, {'n': 3}),\n",
    "    (calculate_rsi, {'n': 5}),\n",
    "    (calculate_williams_r, {'n': 3}),\n",
    "    (calculate_money_flow_and_ad, {'n': 3}),\n",
    "    (calculate_cci, {'n': 3}),\n",
    "    (calculate_complex2_bool, {'col_name': 'AD 3 Days'}),\n",
    "    (calculate_complex2_bool, {'col_name': \"MACD of EMA3 and EMA5\"}),\n",
    "    (calculate_complex_bool, {'col_name': '%K 3 Days', 'upper': 70, 'lower': 30}),\n",
    "    (calculate_complex_bool, {'col_name': '%K 5 Days', 'upper': 70, 'lower': 30}),\n",
    "    (calculate_complex_bool, {'col_name': '%D 3 Days', 'upper': 70, 'lower': 30}),\n",
    "    (calculate_complex_bool, {'col_name': '%D 5 Days', 'upper': 70, 'lower': 30}),\n",
    "    (calculate_complex_bool, {'col_name': 'CCI 3 Days', 'upper': 200, 'lower': -200}),\n",
    "    (calculate_complex_bool, {'col_name': 'Williams %R 3 Days', 'upper': -20, 'lower': -80}),\n",
    "    (calculate_percentage_change, {'n': 1}),\n",
    "    (calculate_percentage_change, {'n': 2}),\n",
    "    (calculate_percentage_change, {'n': 3}),\n",
    "    (calculate_percentage_to_lowest, {'n': 3}),\n",
    "    (calculate_percentage_to_highest, {'n': 3}),\n",
    "    (calculate_obv, {}),\n",
    "    (ft_min_udf, {'n': 6}),\n",
    "    (ft_max_udf, {'n': 6}),\n",
    "    (ft_mean_udf, {'n': 6}),\n",
    "]\n",
    "\n",
    "result_df = merged_df\n",
    "for func, params in functions_and_parameters:\n",
    "    result_df = func(result_df, **params)\n",
    "result_df.show()"
   ]
  },
  {
   "cell_type": "markdown",
   "id": "6e1f258e",
   "metadata": {},
   "source": []
  },
  {
   "cell_type": "code",
   "execution_count": 150,
   "id": "3fdf30c7",
   "metadata": {},
   "outputs": [
    {
     "name": "stderr",
     "output_type": "stream",
     "text": [
      "24/02/23 16:56:39 WARN TaskSetManager: Stage 763 contains a task of very large size (4140 KiB). The maximum recommended task size is 1000 KiB.\n",
      "                                                                                \r"
     ]
    }
   ],
   "source": [
    "result_pd_df = result_df.toPandas()\n",
    "result_pd_df.to_excel('demo_transform.xlsx', index=False)"
   ]
  },
  {
   "cell_type": "code",
   "execution_count": 151,
   "id": "e0f4fa19",
   "metadata": {},
   "outputs": [
    {
     "name": "stdout",
     "output_type": "stream",
     "text": [
      "Symbol: StringType()\n",
      "Open: LongType()\n",
      "High: LongType()\n",
      "Low: LongType()\n",
      "Close: LongType()\n",
      "Volume: LongType()\n",
      "Date: DateType()\n",
      "Price Change To 1 Day(s) Ago: DoubleType()\n",
      "Price Change To 2 Day(s) Ago: DoubleType()\n",
      "Price Change To 3 Day(s) Ago: DoubleType()\n",
      "Volume Change To 1 Day(s) Ago: DoubleType()\n",
      "Volume Change To 2 Day(s) Ago: DoubleType()\n",
      "Volume Change To 3 Day(s) Ago: DoubleType()\n",
      "Price Difference: LongType()\n",
      "Median Volume 3 day(s) periods: DoubleType()\n",
      "Std Volume 3 day(s) periods: DoubleType()\n",
      "Median Price Change 3 day(s) periods: DoubleType()\n",
      "Std Price Change 3 day(s) periods: DoubleType()\n",
      "Median Volume Change 3 day(s) periods: DoubleType()\n",
      "Std Volume Change 3 day(s) periods: DoubleType()\n",
      "SMA 3 Days: DoubleType()\n",
      "SMA 5 Days: DoubleType()\n",
      "WMA 3 Days: DoubleType()\n",
      "WMA 5 Days: DoubleType()\n",
      "EMA 3 Days: DoubleType()\n",
      "EMA 5 Days: DoubleType()\n",
      "Bool SMA 3 Days: DoubleType()\n",
      "Bool SMA 5 Days: DoubleType()\n",
      "Bool WMA 3 Days: DoubleType()\n",
      "Bool WMA 5 Days: DoubleType()\n",
      "Bool EMA 3 Days: DoubleType()\n",
      "Bool EMA 5 Days: DoubleType()\n",
      "MACD of EMA3 and EMA5: DoubleType()\n",
      "%K 3 Days: DoubleType()\n",
      "%K 5 Days: DoubleType()\n",
      "%D 3 Days: DoubleType()\n",
      "%D 5 Days: DoubleType()\n",
      "RSI 3 Days: DoubleType()\n",
      "RSI 5 Days: DoubleType()\n",
      "Williams %R 3 Days: DoubleType()\n",
      "AD 3 Days: DoubleType()\n",
      "CCI 3 Days: DoubleType()\n",
      "Bool AD 3 Days: IntegerType()\n",
      "Bool MACD of EMA3 and EMA5: IntegerType()\n",
      "Bool %K 3 Days: IntegerType()\n",
      "Bool %K 5 Days: IntegerType()\n",
      "Bool %D 3 Days: IntegerType()\n",
      "Bool %D 5 Days: IntegerType()\n",
      "Bool CCI 3 Days: IntegerType()\n",
      "Bool Williams %R 3 Days: IntegerType()\n",
      "Percentage Change 1 Day(s): DoubleType()\n",
      "Percentage Change 2 Day(s): DoubleType()\n",
      "Percentage Change 3 Day(s): DoubleType()\n",
      "OBV: LongType()\n",
      "FT_Min 6 days: DoubleType()\n",
      "FT_Max 6 days: DoubleType()\n",
      "FT_Mean 6 days: DoubleType()\n"
     ]
    }
   ],
   "source": [
    "for field in result_df.schema.fields:\n",
    "    print(f\"{field.name}: {str(field.dataType)}\")"
   ]
  },
  {
   "cell_type": "markdown",
   "id": "f1887ee5",
   "metadata": {},
   "source": [
    "# Write to Postgres"
   ]
  },
  {
   "cell_type": "code",
   "execution_count": 152,
   "id": "e24b939c",
   "metadata": {},
   "outputs": [
    {
     "name": "stderr",
     "output_type": "stream",
     "text": [
      "24/02/23 16:59:41 WARN TaskSetManager: Stage 778 contains a task of very large size (4140 KiB). The maximum recommended task size is 1000 KiB.\n",
      "[Stage 787:>                                                      (0 + 10) / 10]\r"
     ]
    },
    {
     "name": "stdout",
     "output_type": "stream",
     "text": [
      "+------+----+----+----+-----+-------+----------+----------------------------+----------------------------+----------------------------+-----------------------------+-----------------------------+-----------------------------+----------------+------------------------------+---------------------------+------------------------------------+---------------------------------+-------------------------------------+----------------------------------+-----------------+----------+-----------------+----------+------------------+------------------+---------------+---------------+---------------+---------------+---------------+---------------+---------------------+---------+------------------+------------------+-----------------+-----------------+-----------------+-------------------+--------------------+------------------+--------------+--------------------------+--------------+--------------+--------------+--------------+---------------+-----------------------+--------------------------+--------------------------+--------------------------+-------+-------------------+------------------+------------------+\n",
      "|symbol|open|high| low|close| volume|      date|price_change_to_1_day(s)_ago|price_change_to_2_day(s)_ago|price_change_to_3_day(s)_ago|volume_change_to_1_day(s)_ago|volume_change_to_2_day(s)_ago|volume_change_to_3_day(s)_ago|price_difference|median_volume_3_day(s)_periods|std_volume_3_day(s)_periods|median_price_change_3_day(s)_periods|std_price_change_3_day(s)_periods|median_volume_change_3_day(s)_periods|std_volume_change_3_day(s)_periods|       sma_3_days|sma_5_days|       wma_3_days|wma_5_days|        ema_3_days|        ema_5_days|bool_sma_3_days|bool_sma_5_days|bool_wma_3_days|bool_wma_5_days|bool_ema_3_days|bool_ema_5_days|macd_of_ema3_and_ema5|%k_3_days|         %k_5_days|         %d_3_days|        %d_5_days|       rsi_3_days|       rsi_5_days| williams_%r_3_days|           ad_3_days|        cci_3_days|bool_ad_3_days|bool_macd_of_ema3_and_ema5|bool_%k_3_days|bool_%k_5_days|bool_%d_3_days|bool_%d_5_days|bool_cci_3_days|bool_williams_%r_3_days|percentage_change_1_day(s)|percentage_change_2_day(s)|percentage_change_3_day(s)|    obv|      ft_min_6_days|     ft_max_6_days|    ft_mean_6_days|\n",
      "+------+----+----+----+-----+-------+----------+----------------------------+----------------------------+----------------------------+-----------------------------+-----------------------------+-----------------------------+----------------+------------------------------+---------------------------+------------------------------------+---------------------------------+-------------------------------------+----------------------------------+-----------------+----------+-----------------+----------+------------------+------------------+---------------+---------------+---------------+---------------+---------------+---------------+---------------------+---------+------------------+------------------+-----------------+-----------------+-----------------+-------------------+--------------------+------------------+--------------+--------------------------+--------------+--------------+--------------+--------------+---------------+-----------------------+--------------------------+--------------------------+--------------------------+-------+-------------------+------------------+------------------+\n",
      "|   AAT|4530|4540|4500| 4500| 303600|2023-05-04|                        NULL|                        NULL|                        NULL|                         NULL|                         NULL|                         NULL|             -30|                          NULL|                       NULL|                                NULL|                             NULL|                                 NULL|                              NULL|             NULL|      NULL|             NULL|      NULL|              NULL|              NULL|           NULL|           NULL|           NULL|           NULL|           NULL|           NULL|                 NULL|     NULL|              NULL|              NULL|             NULL|             NULL|             NULL|             -100.0|                NULL|              NULL|          NULL|                      NULL|          NULL|          NULL|          NULL|          NULL|           NULL|                     -1|                      NULL|                      NULL|                      NULL|   NULL|               NULL|              NULL|              NULL|\n",
      "|   AAT|4500|4520|4490| 4500| 227700|2023-05-05|                         0.0|                        NULL|                        NULL|                     -75900.0|                         NULL|                         NULL|               0|                          NULL|                       NULL|                                NULL|                             NULL|                                 NULL|                              NULL|             NULL|      NULL|             NULL|      NULL|              NULL|              NULL|           NULL|           NULL|           NULL|           NULL|           NULL|           NULL|                 NULL|     NULL|              NULL|              NULL|             NULL|             NULL|             NULL|              -80.0|                -1.6|              NULL|            -1|                      NULL|          NULL|          NULL|          NULL|          NULL|           NULL|                     -1|                       0.0|                      NULL|                      NULL|      0|                0.5|               0.5|               0.5|\n",
      "|   AAT|4500|4680|4490| 4650|1007800|2023-05-08|                       150.0|                       150.0|                        NULL|                     780100.0|                     704200.0|                         NULL|             150|                      303600.0|         430157.81212635594|                                NULL|                             NULL|                                 NULL|                              NULL|           4550.0|      NULL|           9050.0|      NULL| 4585.714285714285|              NULL|            1.0|           NULL|           -1.0|           NULL|            1.0|           NULL|                 NULL|    100.0|              NULL|             100.0|             NULL|             NULL|             NULL|-15.789473684210526| 0.08421052631578951|100.00000000000139|             1|                      NULL|             1|          NULL|             1|          NULL|             -1|                      1|       0.03225806451612903|       0.03225806451612903|                       0.0|1007800| 0.3333333333333333|0.3333333333333333|0.3333333333333333|\n",
      "|   AAT|4710|4710|4610| 4620| 303200|2023-05-09|                       -30.0|                       120.0|                       120.0|                    -704600.0|                      75500.0|                       -400.0|             -90|                      303200.0|          430255.2382016981|                                 0.0|                96.43650760992955|                             -75900.0|                 430255.2382016981|           4590.0|      NULL|           9140.0|      NULL|            4604.0|              NULL|            1.0|           NULL|           -1.0|           NULL|            1.0|           NULL|                 NULL|     80.0|              NULL|              90.0|             NULL|83.33333333333333|             NULL|-40.909090909090914|  0.8660287081339713|  74.3243243243242|             1|                      NULL|             1|          NULL|             1|          NULL|             -1|                     -1|      -0.00649350649350...|      0.025974025974025976|      -0.00649350649350...|-303200|               0.25|               0.5|0.3333333333333333|\n",
      "|   AAT|4640|4860|4590| 4820|1773800|2023-05-10|                       200.0|                       170.0|                       320.0|                    1470600.0|                     766000.0|                    1546100.0|             180|                     1007800.0|          735513.5983333914|                               150.0|               120.96831541082703|                             780100.0|                 735513.5983333914|4696.666666666667|    4618.0|9336.666666666666|   13702.0|4715.4838709677415|4679.1469194312795|            1.0|            1.0|           -1.0|           -1.0|            1.0|            1.0|    36.33695153646204|    100.0|             100.0| 93.33333333333333|            100.0|            93.75|             NULL| -10.81081081081081|  0.9656019656019657|100.00000000000053|             1|                        -1|             1|             1|             1|             1|              1|                      1|       0.04149377593360996|      0.035269709543568464|                       0.0|1773800|                0.2|               0.4|               0.3|\n",
      "|   AAT|4870|4980|4820| 4830|1051700|2023-05-11|                        10.0|                       210.0|                       180.0|                    -722100.0|                     748500.0|                      43900.0|             -40|                     1051700.0|          735339.4930234606|                                10.0|               122.88205727444507|                            -704600.0|                 735339.4930234606|4756.666666666667|    4684.0|9443.333333333334|   13886.0| 4773.650793650793| 4734.270676691729|            1.0|            1.0|           -1.0|           -1.0|            1.0|            1.0|    39.38011695906425|    100.0|             100.0| 93.33333333333333|            100.0|94.02985074626865| 92.3076923076923| -38.46153846153847|  1.0145530145530146|100.00000000000041|             1|                         1|             1|             1|             1|             1|             -1|                     -1|      0.002070393374741201|      0.043478260869565216|                       0.0|1051700|0.16666666666666666|               0.5|               0.3|\n",
      "|   AAT|4810|4860|4740| 4830| 965600|2023-05-12|                         0.0|                        10.0|                       210.0|                     -86100.0|                    -808200.0|                     662400.0|              20|                     1051700.0|          443852.2389264247|                                10.0|               112.69427669584645|                             -86100.0|                 443852.2389264247|4826.666666666667|    4750.0|           9650.0|   14136.0| 4802.047244094489| 4768.164157357941|            1.0|            1.0|           -1.0|           -1.0|            1.0|            1.0|    33.88308673654774|    100.0|             100.0|             100.0|            100.0|94.02985074626865| 92.3076923076923| -38.46153846153847| 0.46153846153846156|-7.142857142856987|            -1|                        -1|             1|             1|             1|             1|             -1|                     -1|                       0.0|      0.002070393374741201|                       0.0|      0|0.16666666666666666|               0.5|               0.3|\n",
      "|   AAT|4950|5080|4830| 4850|1698300|2023-05-15|                        20.0|                        20.0|                        30.0|                     732700.0|                     646600.0|                     -75500.0|            -100|                     1051700.0|          400490.1288837633|                                10.0|                             10.0|                             -86100.0|                 400490.1288837633|4836.666666666667|    4790.0|9666.666666666666|   14276.0| 4826.117647058823| 4796.550356859635|            1.0|            1.0|           -1.0|           -1.0|            1.0|            1.0|   29.567290199188392|    100.0|             100.0|             100.0|            100.0|95.03105590062111|92.87833827893175| -67.64705882352942|-0.12217194570135748| 86.79245283018778|            -1|                        -1|             1|             1|             1|             1|              1|                     -1|      0.004123711340206186|      0.004123711340206186|                       0.0|1698300|0.16666666666666666|               0.5|               0.3|\n",
      "|   AAT|4860|4900|4790| 4830| 848300|2023-05-16|                       -20.0|                         0.0|                         0.0|                    -850000.0|                    -117300.0|                    -203400.0|             -30|                      965600.0|          460635.1737908573|                                 0.0|                             20.0|                             -86100.0|                 460635.1737908573|4836.666666666667|    4832.0|9673.333333333334|   14488.0| 4828.062622309198| 4807.998017839445|           -1.0|           -1.0|           -1.0|           -1.0|            1.0|            1.0|    20.06460446975234|      0.0|33.333333333333336| 66.66666666666667|86.66666666666666|75.93052109181141|84.99660556687033| -73.52941176470588| -0.8235294117647058|-26.31578947368463|            -1|                        -1|            -1|            -1|            -1|             1|             -1|                     -1|      -0.00414078674948...|                       0.0|      -0.00414078674948...|-848300|0.16666666666666666|               0.5|               0.3|\n",
      "|   AAT|4860|4870|4820| 4820| 689900|2023-05-17|                       -10.0|                       -30.0|                       -10.0|                    -158400.0|                   -1008400.0|                    -275700.0|             -40|                      848300.0|          542288.5332858638|                               -10.0|               20.816659994661325|                            -158400.0|                 542288.5332858638|4833.333333333333|    4832.0|9676.666666666666|   14500.0| 4824.027370478983|  4812.06928048255|           -1.0|           -1.0|           -1.0|           -1.0|           -1.0|            1.0|   11.958089996433046|      0.0|               0.0|33.333333333333336|66.66666666666666|65.98382749326146|80.71560963816586| -89.65517241379311| -1.2636916835699799|-53.06122448979565|            -1|                        -1|            -1|            -1|            -1|            -1|             -1|                     -1|      -0.00207468879668...|      -0.00622406639004...|      -0.00622406639004...|-689900|0.16666666666666666|               0.5|               0.3|\n",
      "+------+----+----+----+-----+-------+----------+----------------------------+----------------------------+----------------------------+-----------------------------+-----------------------------+-----------------------------+----------------+------------------------------+---------------------------+------------------------------------+---------------------------------+-------------------------------------+----------------------------------+-----------------+----------+-----------------+----------+------------------+------------------+---------------+---------------+---------------+---------------+---------------+---------------+---------------------+---------+------------------+------------------+-----------------+-----------------+-----------------+-------------------+--------------------+------------------+--------------+--------------------------+--------------+--------------+--------------+--------------+---------------+-----------------------+--------------------------+--------------------------+--------------------------+-------+-------------------+------------------+------------------+\n",
      "only showing top 10 rows\n",
      "\n"
     ]
    },
    {
     "name": "stderr",
     "output_type": "stream",
     "text": [
      "                                                                                \r"
     ]
    }
   ],
   "source": [
    "result_df = result_df.toDF(*[col_name.lower().replace(' ', '_') for col_name in result_df.columns])\n",
    "result_df.show(10)"
   ]
  },
  {
   "cell_type": "code",
   "execution_count": 153,
   "id": "d25ac45a",
   "metadata": {},
   "outputs": [],
   "source": [
    "import psycopg2\n",
    "from pyspark.sql.types import StringType, IntegerType, DoubleType, LongType, DateType\n",
    "\n",
    "db_params = {\n",
    "    \"host\": \"localhost\",\n",
    "    \"port\": \"5432\",\n",
    "    \"database\": \"vnstockdw\",\n",
    "    \"user\": \"postgres\",\n",
    "    \"password\": \"postgres\"\n",
    "}\n",
    "\n",
    "table_name = \"stock_history\"\n",
    "table_schema = \"public\"\n",
    "\n",
    "def spark_to_postgres_type(spark_type):\n",
    "    if spark_type == DoubleType() or spark_type == LongType():\n",
    "        return \"DOUBLE PRECISION\"\n",
    "    elif spark_type == IntegerType():\n",
    "        return \"INT\"\n",
    "    elif spark_type == DateType():\n",
    "        return \"DATE\"\n",
    "    else:\n",
    "        return \"VARCHAR(255)\"\n",
    "\n",
    "additional_columns = {\n",
    "    \"created_at\": f\"TIMESTAMP DEFAULT current_timestamp\",\n",
    "    \"updated_at\": f\"TIMESTAMP DEFAULT current_timestamp\",\n",
    "    \"status\": \"BOOLEAN DEFAULT True\"\n",
    "}\n",
    "\n",
    "column_definitions = {field.name: spark_to_postgres_type(field.dataType) for field in result_df.schema.fields}\n",
    "\n",
    "column_definitions = {**additional_columns, **column_definitions}\n",
    "\n",
    "conn = psycopg2.connect(**db_params)\n",
    "cur = conn.cursor()\n",
    "cur.execute(f\"SELECT EXISTS (SELECT 1 FROM information_schema.tables WHERE table_name = '{table_name}' AND table_schema = '{table_schema}')\")\n",
    "table_exists = cur.fetchone()[0]\n",
    "\n",
    "if not table_exists:\n",
    "    columns_str = ', '.join([f\"\"\"\"{col}\" {col_type}\"\"\" for col, col_type in column_definitions.items()])\n",
    "    create_table_query = f\"CREATE TABLE {table_schema}.{table_name} ({columns_str})\"\n",
    "    print(create_table_query)\n",
    "    cur.execute(create_table_query)\n",
    "\n",
    "# for col, col_type in column_definitions.items():\n",
    "#     cur.execute(f\"SELECT EXISTS (SELECT 1 FROM information_schema.columns WHERE table_name = '{table_name}' AND table_schema = '{table_schema}' AND column_name = '{col}')\")\n",
    "#     column_exists = cur.fetchone()[0]\n",
    "#     print(column_exists)\n",
    "#     if not column_exists:\n",
    "#         alter_table_query = f\"ALTER TABLE {table_schema}.{table_name} ADD COLUMN {col} {col_type}\"\n",
    "#         cur.execute(alter_table_query)\n",
    "\n",
    "conn.commit()\n",
    "cur.close()\n",
    "conn.close()\n"
   ]
  },
  {
   "cell_type": "code",
   "execution_count": 154,
   "id": "5bb5194b",
   "metadata": {},
   "outputs": [
    {
     "name": "stderr",
     "output_type": "stream",
     "text": [
      "24/02/23 16:59:48 WARN TaskSetManager: Stage 793 contains a task of very large size (4140 KiB). The maximum recommended task size is 1000 KiB.\n",
      "                                                                                \r"
     ]
    }
   ],
   "source": [
    "result_df.write.format(\"jdbc\").mode(\"overwrite\") \\\n",
    "    .option(\"driver\", \"org.postgresql.Driver\") \\\n",
    "    .option(\"url\", f\"jdbc:postgresql://{db_params['host']}:{db_params['port']}/{db_params['database']}\") \\\n",
    "    .option(\"dbtable\", f\"{table_schema}.{table_name}\") \\\n",
    "    .option(\"user\", db_params[\"user\"]).option(\"password\", db_params[\"password\"]).mode(\"append\").save()"
   ]
  },
  {
   "cell_type": "code",
   "execution_count": 155,
   "id": "5cc1f41e",
   "metadata": {},
   "outputs": [],
   "source": [
    "spark.stop()"
   ]
  },
  {
   "cell_type": "markdown",
   "id": "d2b93e55",
   "metadata": {},
   "source": []
  },
  {
   "cell_type": "code",
   "execution_count": null,
   "id": "f0805c3d",
   "metadata": {},
   "outputs": [],
   "source": []
  }
 ],
 "metadata": {
  "kernelspec": {
   "display_name": "Python 3 (ipykernel)",
   "language": "python",
   "name": "python3"
  },
  "language_info": {
   "codemirror_mode": {
    "name": "ipython",
    "version": 3
   },
   "file_extension": ".py",
   "mimetype": "text/x-python",
   "name": "python",
   "nbconvert_exporter": "python",
   "pygments_lexer": "ipython3",
   "version": "3.11.5"
  }
 },
 "nbformat": 4,
 "nbformat_minor": 5
}
